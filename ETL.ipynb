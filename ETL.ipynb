{
 "cells": [
  {
   "attachments": {},
   "cell_type": "markdown",
   "metadata": {},
   "source": [
    "# __Extract Transform Load__"
   ]
  },
  {
   "attachments": {},
   "cell_type": "markdown",
   "metadata": {},
   "source": [
    "__Carga de librerias__"
   ]
  },
  {
   "cell_type": "code",
   "execution_count": 1,
   "metadata": {},
   "outputs": [],
   "source": [
    "#Cargar librerias a utilizar \n",
    "import pandas as pd\n",
    "import numpy as np"
   ]
  },
  {
   "attachments": {},
   "cell_type": "markdown",
   "metadata": {},
   "source": [
    "__Carga de datos__"
   ]
  },
  {
   "cell_type": "code",
   "execution_count": null,
   "metadata": {},
   "outputs": [],
   "source": [
    "#Carga de archivos \n",
    "archivo_net= pd.read_csv('MLOpsReviews/netflix_titles.csv')\n",
    "archivo_hul= pd.read_csv('MLOpsReviews/hulu_titles.csv')\n",
    "archivo_dis= pd.read_csv('MLOpsReviews/disney_plus_titles.csv')\n",
    "archivo_ama= pd.read_csv('MLOpsReviews/amazon_prime_titles.csv')"
   ]
  },
  {
   "cell_type": "code",
   "execution_count": null,
   "metadata": {},
   "outputs": [],
   "source": [
    "df1_p= pd.DataFrame(archivo_net)\n",
    "df2_p= pd.DataFrame(archivo_hul)\n",
    "df3_p= pd.DataFrame(archivo_dis)\n",
    "df4_p= pd.DataFrame(archivo_ama)"
   ]
  },
  {
   "cell_type": "code",
   "execution_count": null,
   "metadata": {},
   "outputs": [],
   "source": [
    "df1_p"
   ]
  },
  {
   "attachments": {},
   "cell_type": "markdown",
   "metadata": {},
   "source": [
    "__Ingeniería de datos__"
   ]
  },
  {
   "cell_type": "code",
   "execution_count": null,
   "metadata": {},
   "outputs": [],
   "source": [
    "#Checamos datos nulos de cada plataforma\n",
    "df4_p.isnull().sum().value_counts"
   ]
  },
  {
   "cell_type": "code",
   "execution_count": null,
   "metadata": {},
   "outputs": [],
   "source": [
    "#Nueva columna para plataforma en csv / reemplazar valores de DF de cada una de las plataformas\n",
    "df4_p['plataforma']= 'd'\n",
    "df4_p['id']= (df4_p['plataforma'] + df4_p['show_id'])\n",
    "first_column= df4_p.pop('id')\n",
    "df4_p.insert(0,'id', first_column)"
   ]
  },
  {
   "cell_type": "code",
   "execution_count": null,
   "metadata": {},
   "outputs": [],
   "source": [
    "#Corroborar base actualizada\n",
    "df4_p.head()"
   ]
  },
  {
   "cell_type": "code",
   "execution_count": null,
   "metadata": {},
   "outputs": [],
   "source": [
    "#Concatenación de 4 plataformas\n",
    "\n",
    "plataformas = pd.concat([df1_p, df2_p, df3_p, df4_p], join= 'inner')"
   ]
  },
  {
   "cell_type": "code",
   "execution_count": null,
   "metadata": {},
   "outputs": [],
   "source": [
    "plataformas.shape"
   ]
  },
  {
   "cell_type": "code",
   "execution_count": null,
   "metadata": {},
   "outputs": [],
   "source": [
    "#Checar valores nulos \n",
    "\n",
    "plataformas.isnull().sum()"
   ]
  },
  {
   "cell_type": "code",
   "execution_count": null,
   "metadata": {},
   "outputs": [],
   "source": [
    "#Reemplazar nulos por 'G', como “general for all audiences”\n",
    "plataformas['rating'].fillna('G', inplace=True )"
   ]
  },
  {
   "cell_type": "code",
   "execution_count": null,
   "metadata": {},
   "outputs": [],
   "source": [
    "plataformas.head()"
   ]
  },
  {
   "cell_type": "code",
   "execution_count": null,
   "metadata": {},
   "outputs": [],
   "source": [
    "plataformas['rating'].unique()"
   ]
  },
  {
   "cell_type": "code",
   "execution_count": null,
   "metadata": {},
   "outputs": [],
   "source": [
    "#Cambio de formato de fechas en el campo date_added\n",
    "\n",
    "plataformas['date_added']= pd.to_datetime(plataformas['date_added'])\n",
    "plataformas['date_added'] = plataformas['date_added'].dt.strftime('%Y/%m/%d')\n",
    "\n"
   ]
  },
  {
   "cell_type": "code",
   "execution_count": null,
   "metadata": {},
   "outputs": [],
   "source": [
    "#Cambio a minúsculas\n",
    "\n",
    "plataformas['description'] = plataformas['description'].astype(str)\n",
    "plataformas['listed_in'] = plataformas['listed_in'].apply(str.lower)\n"
   ]
  },
  {
   "cell_type": "code",
   "execution_count": null,
   "metadata": {},
   "outputs": [],
   "source": [
    "#Cambio de campo de duration : duration_int, duration_type\n",
    "\n",
    "plataformas['duration']=plataformas['duration'].astype(str)\n",
    "plataformas['duration_int']= plataformas['duration'].apply(lambda x:x.split()[0])\n",
    "plataformas['duration_type']=plataformas['duration'].apply(lambda x:str(x.split()[1:]))"
   ]
  },
  {
   "cell_type": "code",
   "execution_count": null,
   "metadata": {},
   "outputs": [],
   "source": [
    "#Eliminar la columna duration para evitar duplicados \n",
    "\n",
    "plataformas.drop(['duration'], axis=1, inplace=True)"
   ]
  },
  {
   "cell_type": "code",
   "execution_count": null,
   "metadata": {},
   "outputs": [],
   "source": [
    "plataformas['duration_type'] = plataformas['duration_type'].astype('str')"
   ]
  },
  {
   "attachments": {},
   "cell_type": "markdown",
   "metadata": {},
   "source": [
    "** Concatenación de archivos de ratings ** "
   ]
  },
  {
   "cell_type": "code",
   "execution_count": null,
   "metadata": {},
   "outputs": [],
   "source": [
    "#Carga de archivos de rating de usuarios csv \n",
    "\n",
    "d1= pd.read_csv('MLOpsReviews/ratings/1.csv')\n",
    "d2= pd.read_csv('MLOpsReviews/ratings/2.csv')\n",
    "d3= pd.read_csv('MLOpsReviews/ratings/3.csv')\n",
    "d4= pd.read_csv('MLOpsReviews/ratings/4.csv')\n",
    "d5= pd.read_csv('MLOpsReviews/ratings/5.csv')\n",
    "d6= pd.read_csv('MLOpsReviews/ratings/6.csv')\n",
    "d7= pd.read_csv('MLOpsReviews/ratings/7.csv')\n",
    "d8= pd.read_csv('MLOpsReviews/ratings/8.csv')"
   ]
  },
  {
   "cell_type": "code",
   "execution_count": null,
   "metadata": {},
   "outputs": [],
   "source": [
    "#Conversión a DF\n",
    "df1=pd.DataFrame(d1)\n",
    "df2=pd.DataFrame(d2)\n",
    "df3=pd.DataFrame(d3)\n",
    "df4=pd.DataFrame(d4)\n",
    "df5=pd.DataFrame(d5)\n",
    "df6=pd.DataFrame(d6)\n",
    "df7=pd.DataFrame(d7)\n",
    "df8=pd.DataFrame(d8)"
   ]
  },
  {
   "cell_type": "code",
   "execution_count": null,
   "metadata": {},
   "outputs": [],
   "source": [
    "#Comprobación de usuarios no repetidos a lo largo de las bases de datos\n",
    "\n",
    "print(df1['userId'].equals(df2['userId']))"
   ]
  },
  {
   "cell_type": "code",
   "execution_count": null,
   "metadata": {},
   "outputs": [],
   "source": [
    "print((df1['userId'].isin(df2['userId']).values(True)))"
   ]
  },
  {
   "cell_type": "code",
   "execution_count": null,
   "metadata": {},
   "outputs": [],
   "source": [
    "#Concatenación de dataframes en las filas \n",
    "\n",
    "rating= pd.concat([df1,df2,df3,df4,df5,df6,df7,df8])"
   ]
  },
  {
   "cell_type": "code",
   "execution_count": null,
   "metadata": {},
   "outputs": [],
   "source": [
    "#comprobación de numero de filas \n",
    "rating.shape\n",
    "rating.head()"
   ]
  },
  {
   "cell_type": "code",
   "execution_count": null,
   "metadata": {},
   "outputs": [],
   "source": [
    "rating.info()"
   ]
  },
  {
   "cell_type": "code",
   "execution_count": null,
   "metadata": {},
   "outputs": [],
   "source": [
    "#Comprobación de que no tuvieran datos nulos \n",
    "rating.isnull().sum().value_counts"
   ]
  },
  {
   "cell_type": "code",
   "execution_count": 4,
   "metadata": {},
   "outputs": [],
   "source": [
    "datos= pd.read_csv('/Users/arii/PI_Ari/P_I_Ari/PI_ML_01/app/plataformas_.csv')"
   ]
  },
  {
   "cell_type": "code",
   "execution_count": 5,
   "metadata": {},
   "outputs": [
    {
     "data": {
      "text/html": [
       "<div>\n",
       "<style scoped>\n",
       "    .dataframe tbody tr th:only-of-type {\n",
       "        vertical-align: middle;\n",
       "    }\n",
       "\n",
       "    .dataframe tbody tr th {\n",
       "        vertical-align: top;\n",
       "    }\n",
       "\n",
       "    .dataframe thead th {\n",
       "        text-align: right;\n",
       "    }\n",
       "</style>\n",
       "<table border=\"1\" class=\"dataframe\">\n",
       "  <thead>\n",
       "    <tr style=\"text-align: right;\">\n",
       "      <th></th>\n",
       "      <th>id</th>\n",
       "      <th>show_id</th>\n",
       "      <th>type</th>\n",
       "      <th>title</th>\n",
       "      <th>director</th>\n",
       "      <th>cast</th>\n",
       "      <th>country</th>\n",
       "      <th>date_added</th>\n",
       "      <th>release_year</th>\n",
       "      <th>rating</th>\n",
       "      <th>listed_in</th>\n",
       "      <th>description</th>\n",
       "      <th>plataforma</th>\n",
       "      <th>duration_int</th>\n",
       "      <th>duration_type</th>\n",
       "    </tr>\n",
       "  </thead>\n",
       "  <tbody>\n",
       "    <tr>\n",
       "      <th>0</th>\n",
       "      <td>ns1</td>\n",
       "      <td>s1</td>\n",
       "      <td>movie</td>\n",
       "      <td>dick johnson is dead</td>\n",
       "      <td>kirsten johnson</td>\n",
       "      <td>NaN</td>\n",
       "      <td>united states</td>\n",
       "      <td>2021-09-25</td>\n",
       "      <td>2020</td>\n",
       "      <td>pg-13</td>\n",
       "      <td>documentaries</td>\n",
       "      <td>as her father nears the end of his life, filmm...</td>\n",
       "      <td>netflix</td>\n",
       "      <td>90.0</td>\n",
       "      <td>min</td>\n",
       "    </tr>\n",
       "    <tr>\n",
       "      <th>1</th>\n",
       "      <td>ns2</td>\n",
       "      <td>s2</td>\n",
       "      <td>tv show</td>\n",
       "      <td>blood &amp; water</td>\n",
       "      <td>NaN</td>\n",
       "      <td>ama qamata, khosi ngema, gail mabalane, thaban...</td>\n",
       "      <td>south africa</td>\n",
       "      <td>2021-09-24</td>\n",
       "      <td>2021</td>\n",
       "      <td>tv-ma</td>\n",
       "      <td>international tv shows, tv dramas, tv mysteries</td>\n",
       "      <td>after crossing paths at a party, a cape town t...</td>\n",
       "      <td>netflix</td>\n",
       "      <td>2.0</td>\n",
       "      <td>season</td>\n",
       "    </tr>\n",
       "    <tr>\n",
       "      <th>2</th>\n",
       "      <td>ns3</td>\n",
       "      <td>s3</td>\n",
       "      <td>tv show</td>\n",
       "      <td>ganglands</td>\n",
       "      <td>julien leclercq</td>\n",
       "      <td>sami bouajila, tracy gotoas, samuel jouy, nabi...</td>\n",
       "      <td>NaN</td>\n",
       "      <td>2021-09-24</td>\n",
       "      <td>2021</td>\n",
       "      <td>tv-ma</td>\n",
       "      <td>crime tv shows, international tv shows, tv act...</td>\n",
       "      <td>to protect his family from a powerful drug lor...</td>\n",
       "      <td>netflix</td>\n",
       "      <td>1.0</td>\n",
       "      <td>season</td>\n",
       "    </tr>\n",
       "    <tr>\n",
       "      <th>3</th>\n",
       "      <td>ns4</td>\n",
       "      <td>s4</td>\n",
       "      <td>tv show</td>\n",
       "      <td>jailbirds new orleans</td>\n",
       "      <td>NaN</td>\n",
       "      <td>NaN</td>\n",
       "      <td>NaN</td>\n",
       "      <td>2021-09-24</td>\n",
       "      <td>2021</td>\n",
       "      <td>tv-ma</td>\n",
       "      <td>docuseries, reality tv</td>\n",
       "      <td>feuds, flirtations and toilet talk go down amo...</td>\n",
       "      <td>netflix</td>\n",
       "      <td>1.0</td>\n",
       "      <td>season</td>\n",
       "    </tr>\n",
       "    <tr>\n",
       "      <th>4</th>\n",
       "      <td>ns5</td>\n",
       "      <td>s5</td>\n",
       "      <td>tv show</td>\n",
       "      <td>kota factory</td>\n",
       "      <td>NaN</td>\n",
       "      <td>mayur more, jitendra kumar, ranjan raj, alam k...</td>\n",
       "      <td>india</td>\n",
       "      <td>2021-09-24</td>\n",
       "      <td>2021</td>\n",
       "      <td>tv-ma</td>\n",
       "      <td>international tv shows, romantic tv shows, tv ...</td>\n",
       "      <td>in a city of coaching centers known to train i...</td>\n",
       "      <td>netflix</td>\n",
       "      <td>2.0</td>\n",
       "      <td>season</td>\n",
       "    </tr>\n",
       "    <tr>\n",
       "      <th>...</th>\n",
       "      <td>...</td>\n",
       "      <td>...</td>\n",
       "      <td>...</td>\n",
       "      <td>...</td>\n",
       "      <td>...</td>\n",
       "      <td>...</td>\n",
       "      <td>...</td>\n",
       "      <td>...</td>\n",
       "      <td>...</td>\n",
       "      <td>...</td>\n",
       "      <td>...</td>\n",
       "      <td>...</td>\n",
       "      <td>...</td>\n",
       "      <td>...</td>\n",
       "      <td>...</td>\n",
       "    </tr>\n",
       "    <tr>\n",
       "      <th>9663</th>\n",
       "      <td>as9664</td>\n",
       "      <td>s9664</td>\n",
       "      <td>movie</td>\n",
       "      <td>pride of the bowery</td>\n",
       "      <td>joseph h. lewis</td>\n",
       "      <td>leo gorcey, bobby jordan</td>\n",
       "      <td>NaN</td>\n",
       "      <td>NaN</td>\n",
       "      <td>1940</td>\n",
       "      <td>7+</td>\n",
       "      <td>comedy</td>\n",
       "      <td>new york city street principles get an east si...</td>\n",
       "      <td>amazon</td>\n",
       "      <td>60.0</td>\n",
       "      <td>min</td>\n",
       "    </tr>\n",
       "    <tr>\n",
       "      <th>9664</th>\n",
       "      <td>as9665</td>\n",
       "      <td>s9665</td>\n",
       "      <td>tv show</td>\n",
       "      <td>planet patrol</td>\n",
       "      <td>NaN</td>\n",
       "      <td>dick vosburgh, ronnie stevens, libby morris, m...</td>\n",
       "      <td>NaN</td>\n",
       "      <td>NaN</td>\n",
       "      <td>2018</td>\n",
       "      <td>13+</td>\n",
       "      <td>tv shows</td>\n",
       "      <td>this is earth, 2100ad - and these are the adve...</td>\n",
       "      <td>amazon</td>\n",
       "      <td>4.0</td>\n",
       "      <td>season</td>\n",
       "    </tr>\n",
       "    <tr>\n",
       "      <th>9665</th>\n",
       "      <td>as9666</td>\n",
       "      <td>s9666</td>\n",
       "      <td>movie</td>\n",
       "      <td>outpost</td>\n",
       "      <td>steve barker</td>\n",
       "      <td>ray stevenson, julian wadham, richard brake, m...</td>\n",
       "      <td>NaN</td>\n",
       "      <td>NaN</td>\n",
       "      <td>2008</td>\n",
       "      <td>r</td>\n",
       "      <td>action</td>\n",
       "      <td>in war-torn eastern europe, a world-weary grou...</td>\n",
       "      <td>amazon</td>\n",
       "      <td>90.0</td>\n",
       "      <td>min</td>\n",
       "    </tr>\n",
       "    <tr>\n",
       "      <th>9666</th>\n",
       "      <td>as9667</td>\n",
       "      <td>s9667</td>\n",
       "      <td>tv show</td>\n",
       "      <td>maradona: blessed dream</td>\n",
       "      <td>NaN</td>\n",
       "      <td>esteban recagno, ezequiel stremiz, luciano vit...</td>\n",
       "      <td>NaN</td>\n",
       "      <td>NaN</td>\n",
       "      <td>2021</td>\n",
       "      <td>tv-ma</td>\n",
       "      <td>drama, sports</td>\n",
       "      <td>the series tells the story of diego maradona, ...</td>\n",
       "      <td>amazon</td>\n",
       "      <td>1.0</td>\n",
       "      <td>season</td>\n",
       "    </tr>\n",
       "    <tr>\n",
       "      <th>9667</th>\n",
       "      <td>as9668</td>\n",
       "      <td>s9668</td>\n",
       "      <td>movie</td>\n",
       "      <td>harry brown</td>\n",
       "      <td>daniel barber</td>\n",
       "      <td>michael caine, emily mortimer, joseph gilgun, ...</td>\n",
       "      <td>NaN</td>\n",
       "      <td>NaN</td>\n",
       "      <td>2010</td>\n",
       "      <td>r</td>\n",
       "      <td>action, drama, suspense</td>\n",
       "      <td>harry brown, starring two-time academy award w...</td>\n",
       "      <td>amazon</td>\n",
       "      <td>103.0</td>\n",
       "      <td>min</td>\n",
       "    </tr>\n",
       "  </tbody>\n",
       "</table>\n",
       "<p>22998 rows × 15 columns</p>\n",
       "</div>"
      ],
      "text/plain": [
       "          id show_id     type                    title         director  \\\n",
       "0        ns1      s1    movie     dick johnson is dead  kirsten johnson   \n",
       "1        ns2      s2  tv show            blood & water              NaN   \n",
       "2        ns3      s3  tv show                ganglands  julien leclercq   \n",
       "3        ns4      s4  tv show    jailbirds new orleans              NaN   \n",
       "4        ns5      s5  tv show             kota factory              NaN   \n",
       "...      ...     ...      ...                      ...              ...   \n",
       "9663  as9664   s9664    movie      pride of the bowery  joseph h. lewis   \n",
       "9664  as9665   s9665  tv show            planet patrol              NaN   \n",
       "9665  as9666   s9666    movie                  outpost     steve barker   \n",
       "9666  as9667   s9667  tv show  maradona: blessed dream              NaN   \n",
       "9667  as9668   s9668    movie              harry brown    daniel barber   \n",
       "\n",
       "                                                   cast        country  \\\n",
       "0                                                   NaN  united states   \n",
       "1     ama qamata, khosi ngema, gail mabalane, thaban...   south africa   \n",
       "2     sami bouajila, tracy gotoas, samuel jouy, nabi...            NaN   \n",
       "3                                                   NaN            NaN   \n",
       "4     mayur more, jitendra kumar, ranjan raj, alam k...          india   \n",
       "...                                                 ...            ...   \n",
       "9663                           leo gorcey, bobby jordan            NaN   \n",
       "9664  dick vosburgh, ronnie stevens, libby morris, m...            NaN   \n",
       "9665  ray stevenson, julian wadham, richard brake, m...            NaN   \n",
       "9666  esteban recagno, ezequiel stremiz, luciano vit...            NaN   \n",
       "9667  michael caine, emily mortimer, joseph gilgun, ...            NaN   \n",
       "\n",
       "      date_added  release_year rating  \\\n",
       "0     2021-09-25          2020  pg-13   \n",
       "1     2021-09-24          2021  tv-ma   \n",
       "2     2021-09-24          2021  tv-ma   \n",
       "3     2021-09-24          2021  tv-ma   \n",
       "4     2021-09-24          2021  tv-ma   \n",
       "...          ...           ...    ...   \n",
       "9663         NaN          1940     7+   \n",
       "9664         NaN          2018    13+   \n",
       "9665         NaN          2008      r   \n",
       "9666         NaN          2021  tv-ma   \n",
       "9667         NaN          2010      r   \n",
       "\n",
       "                                              listed_in  \\\n",
       "0                                         documentaries   \n",
       "1       international tv shows, tv dramas, tv mysteries   \n",
       "2     crime tv shows, international tv shows, tv act...   \n",
       "3                                docuseries, reality tv   \n",
       "4     international tv shows, romantic tv shows, tv ...   \n",
       "...                                                 ...   \n",
       "9663                                             comedy   \n",
       "9664                                           tv shows   \n",
       "9665                                             action   \n",
       "9666                                      drama, sports   \n",
       "9667                            action, drama, suspense   \n",
       "\n",
       "                                            description plataforma  \\\n",
       "0     as her father nears the end of his life, filmm...    netflix   \n",
       "1     after crossing paths at a party, a cape town t...    netflix   \n",
       "2     to protect his family from a powerful drug lor...    netflix   \n",
       "3     feuds, flirtations and toilet talk go down amo...    netflix   \n",
       "4     in a city of coaching centers known to train i...    netflix   \n",
       "...                                                 ...        ...   \n",
       "9663  new york city street principles get an east si...     amazon   \n",
       "9664  this is earth, 2100ad - and these are the adve...     amazon   \n",
       "9665  in war-torn eastern europe, a world-weary grou...     amazon   \n",
       "9666  the series tells the story of diego maradona, ...     amazon   \n",
       "9667  harry brown, starring two-time academy award w...     amazon   \n",
       "\n",
       "      duration_int duration_type  \n",
       "0             90.0           min  \n",
       "1              2.0        season  \n",
       "2              1.0        season  \n",
       "3              1.0        season  \n",
       "4              2.0        season  \n",
       "...            ...           ...  \n",
       "9663          60.0           min  \n",
       "9664           4.0        season  \n",
       "9665          90.0           min  \n",
       "9666           1.0        season  \n",
       "9667         103.0           min  \n",
       "\n",
       "[22998 rows x 15 columns]"
      ]
     },
     "execution_count": 5,
     "metadata": {},
     "output_type": "execute_result"
    }
   ],
   "source": [
    "datos"
   ]
  },
  {
   "cell_type": "code",
   "execution_count": 7,
   "metadata": {},
   "outputs": [],
   "source": [
    "df_rev1= pd.read_parquet('app/rev1.gzip')\n",
    "df_rev2= pd.read_parquet('app/rev2.gzip')\n",
    "df_rev3= pd.read_parquet('app/rev3.gzip')\n",
    "df_rev4= pd.read_parquet('app/rev4.gzip')\n",
    "df_rev5= pd.read_parquet('app/rev5.gzip')\n",
    "df_rev6= pd.read_parquet('app/rev6.gzip')\n",
    "df_rev7= pd.read_parquet('app/rev7.gzip')\n",
    "df_rev8= pd.read_parquet('app/rev8.gzip')\n",
    "\n",
    "\n",
    "df_revs= pd.concat([df_rev1, df_rev2, df_rev3, df_rev4, df_rev5, df_rev6, df_rev7, df_rev8])\n"
   ]
  },
  {
   "cell_type": "code",
   "execution_count": 8,
   "metadata": {},
   "outputs": [],
   "source": [
    "df_revs.to_parquet('score.parquet')"
   ]
  },
  {
   "cell_type": "code",
   "execution_count": 10,
   "metadata": {},
   "outputs": [],
   "source": [
    "df=pd.read_csv('app/plataformas_.csv')"
   ]
  },
  {
   "cell_type": "code",
   "execution_count": 14,
   "metadata": {},
   "outputs": [
    {
     "data": {
      "text/html": [
       "<div>\n",
       "<style scoped>\n",
       "    .dataframe tbody tr th:only-of-type {\n",
       "        vertical-align: middle;\n",
       "    }\n",
       "\n",
       "    .dataframe tbody tr th {\n",
       "        vertical-align: top;\n",
       "    }\n",
       "\n",
       "    .dataframe thead th {\n",
       "        text-align: right;\n",
       "    }\n",
       "</style>\n",
       "<table border=\"1\" class=\"dataframe\">\n",
       "  <thead>\n",
       "    <tr style=\"text-align: right;\">\n",
       "      <th></th>\n",
       "      <th>id</th>\n",
       "      <th>show_id</th>\n",
       "      <th>type</th>\n",
       "      <th>title</th>\n",
       "      <th>director</th>\n",
       "      <th>cast</th>\n",
       "      <th>country</th>\n",
       "      <th>date_added</th>\n",
       "      <th>release_year</th>\n",
       "      <th>rating</th>\n",
       "      <th>listed_in</th>\n",
       "      <th>description</th>\n",
       "      <th>plataforma</th>\n",
       "      <th>duration_int</th>\n",
       "      <th>duration_type</th>\n",
       "    </tr>\n",
       "  </thead>\n",
       "  <tbody>\n",
       "    <tr>\n",
       "      <th>0</th>\n",
       "      <td>ns1</td>\n",
       "      <td>s1</td>\n",
       "      <td>movie</td>\n",
       "      <td>dick johnson is dead</td>\n",
       "      <td>kirsten johnson</td>\n",
       "      <td>NaN</td>\n",
       "      <td>united states</td>\n",
       "      <td>2021-09-25</td>\n",
       "      <td>2020</td>\n",
       "      <td>pg-13</td>\n",
       "      <td>documentaries</td>\n",
       "      <td>as her father nears the end of his life, filmm...</td>\n",
       "      <td>netflix</td>\n",
       "      <td>90.0</td>\n",
       "      <td>min</td>\n",
       "    </tr>\n",
       "    <tr>\n",
       "      <th>1</th>\n",
       "      <td>ns2</td>\n",
       "      <td>s2</td>\n",
       "      <td>tv show</td>\n",
       "      <td>blood &amp; water</td>\n",
       "      <td>NaN</td>\n",
       "      <td>ama qamata, khosi ngema, gail mabalane, thaban...</td>\n",
       "      <td>south africa</td>\n",
       "      <td>2021-09-24</td>\n",
       "      <td>2021</td>\n",
       "      <td>tv-ma</td>\n",
       "      <td>international tv shows, tv dramas, tv mysteries</td>\n",
       "      <td>after crossing paths at a party, a cape town t...</td>\n",
       "      <td>netflix</td>\n",
       "      <td>2.0</td>\n",
       "      <td>season</td>\n",
       "    </tr>\n",
       "    <tr>\n",
       "      <th>2</th>\n",
       "      <td>ns3</td>\n",
       "      <td>s3</td>\n",
       "      <td>tv show</td>\n",
       "      <td>ganglands</td>\n",
       "      <td>julien leclercq</td>\n",
       "      <td>sami bouajila, tracy gotoas, samuel jouy, nabi...</td>\n",
       "      <td>NaN</td>\n",
       "      <td>2021-09-24</td>\n",
       "      <td>2021</td>\n",
       "      <td>tv-ma</td>\n",
       "      <td>crime tv shows, international tv shows, tv act...</td>\n",
       "      <td>to protect his family from a powerful drug lor...</td>\n",
       "      <td>netflix</td>\n",
       "      <td>1.0</td>\n",
       "      <td>season</td>\n",
       "    </tr>\n",
       "    <tr>\n",
       "      <th>3</th>\n",
       "      <td>ns4</td>\n",
       "      <td>s4</td>\n",
       "      <td>tv show</td>\n",
       "      <td>jailbirds new orleans</td>\n",
       "      <td>NaN</td>\n",
       "      <td>NaN</td>\n",
       "      <td>NaN</td>\n",
       "      <td>2021-09-24</td>\n",
       "      <td>2021</td>\n",
       "      <td>tv-ma</td>\n",
       "      <td>docuseries, reality tv</td>\n",
       "      <td>feuds, flirtations and toilet talk go down amo...</td>\n",
       "      <td>netflix</td>\n",
       "      <td>1.0</td>\n",
       "      <td>season</td>\n",
       "    </tr>\n",
       "    <tr>\n",
       "      <th>4</th>\n",
       "      <td>ns5</td>\n",
       "      <td>s5</td>\n",
       "      <td>tv show</td>\n",
       "      <td>kota factory</td>\n",
       "      <td>NaN</td>\n",
       "      <td>mayur more, jitendra kumar, ranjan raj, alam k...</td>\n",
       "      <td>india</td>\n",
       "      <td>2021-09-24</td>\n",
       "      <td>2021</td>\n",
       "      <td>tv-ma</td>\n",
       "      <td>international tv shows, romantic tv shows, tv ...</td>\n",
       "      <td>in a city of coaching centers known to train i...</td>\n",
       "      <td>netflix</td>\n",
       "      <td>2.0</td>\n",
       "      <td>season</td>\n",
       "    </tr>\n",
       "  </tbody>\n",
       "</table>\n",
       "</div>"
      ],
      "text/plain": [
       "    id show_id     type                  title         director  \\\n",
       "0  ns1      s1    movie   dick johnson is dead  kirsten johnson   \n",
       "1  ns2      s2  tv show          blood & water              NaN   \n",
       "2  ns3      s3  tv show              ganglands  julien leclercq   \n",
       "3  ns4      s4  tv show  jailbirds new orleans              NaN   \n",
       "4  ns5      s5  tv show           kota factory              NaN   \n",
       "\n",
       "                                                cast        country  \\\n",
       "0                                                NaN  united states   \n",
       "1  ama qamata, khosi ngema, gail mabalane, thaban...   south africa   \n",
       "2  sami bouajila, tracy gotoas, samuel jouy, nabi...            NaN   \n",
       "3                                                NaN            NaN   \n",
       "4  mayur more, jitendra kumar, ranjan raj, alam k...          india   \n",
       "\n",
       "   date_added  release_year rating  \\\n",
       "0  2021-09-25          2020  pg-13   \n",
       "1  2021-09-24          2021  tv-ma   \n",
       "2  2021-09-24          2021  tv-ma   \n",
       "3  2021-09-24          2021  tv-ma   \n",
       "4  2021-09-24          2021  tv-ma   \n",
       "\n",
       "                                           listed_in  \\\n",
       "0                                      documentaries   \n",
       "1    international tv shows, tv dramas, tv mysteries   \n",
       "2  crime tv shows, international tv shows, tv act...   \n",
       "3                             docuseries, reality tv   \n",
       "4  international tv shows, romantic tv shows, tv ...   \n",
       "\n",
       "                                         description plataforma  duration_int  \\\n",
       "0  as her father nears the end of his life, filmm...    netflix          90.0   \n",
       "1  after crossing paths at a party, a cape town t...    netflix           2.0   \n",
       "2  to protect his family from a powerful drug lor...    netflix           1.0   \n",
       "3  feuds, flirtations and toilet talk go down amo...    netflix           1.0   \n",
       "4  in a city of coaching centers known to train i...    netflix           2.0   \n",
       "\n",
       "  duration_type  \n",
       "0           min  \n",
       "1        season  \n",
       "2        season  \n",
       "3        season  \n",
       "4        season  "
      ]
     },
     "execution_count": 14,
     "metadata": {},
     "output_type": "execute_result"
    }
   ],
   "source": [
    "df.head()"
   ]
  },
  {
   "cell_type": "code",
   "execution_count": 18,
   "metadata": {},
   "outputs": [],
   "source": [
    "#Se agregó una columna para observar el año en el que fue agregado a las plataformas\n",
    "\n",
    "\n",
    "import datetime as dt\n",
    "\n",
    "df['date_added']= pd.to_datetime(df['date_added']) \n",
    "\n",
    "\n",
    "df['Year'] = df['date_added'].dt.year \n"
   ]
  },
  {
   "cell_type": "code",
   "execution_count": 19,
   "metadata": {},
   "outputs": [],
   "source": [
    "year= df['Year']"
   ]
  },
  {
   "cell_type": "code",
   "execution_count": 21,
   "metadata": {},
   "outputs": [
    {
     "data": {
      "text/plain": [
       "2019.0    3187\n",
       "2021.0    3068\n",
       "2020.0    3046\n",
       "2018.0    1919\n",
       "2017.0    1385\n",
       "2016.0     495\n",
       "2015.0     151\n",
       "2014.0      73\n",
       "2013.0      45\n",
       "2011.0      29\n",
       "2012.0      19\n",
       "2010.0      13\n",
       "2009.0       9\n",
       "2008.0       4\n",
       "2006.0       1\n",
       "Name: Year, dtype: int64"
      ]
     },
     "execution_count": 21,
     "metadata": {},
     "output_type": "execute_result"
    }
   ],
   "source": [
    "year.value_counts()"
   ]
  }
 ],
 "metadata": {
  "kernelspec": {
   "display_name": "base",
   "language": "python",
   "name": "python3"
  },
  "language_info": {
   "codemirror_mode": {
    "name": "ipython",
    "version": 3
   },
   "file_extension": ".py",
   "mimetype": "text/x-python",
   "name": "python",
   "nbconvert_exporter": "python",
   "pygments_lexer": "ipython3",
   "version": "3.9.13"
  },
  "orig_nbformat": 4,
  "vscode": {
   "interpreter": {
    "hash": "424a58b1ff7d3ef1d0e55f78f935fefdf72d425a22e3df8ad97cbfccebd9b7e8"
   }
  }
 },
 "nbformat": 4,
 "nbformat_minor": 2
}

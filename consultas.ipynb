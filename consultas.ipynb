{
 "cells": [
  {
   "attachments": {},
   "cell_type": "markdown",
   "metadata": {},
   "source": [
    "# __CONSULTAS__"
   ]
  },
  {
   "attachments": {},
   "cell_type": "markdown",
   "metadata": {},
   "source": [
    "Película con mayor duración con filtros opcionales de AÑO, PLATAFORMA Y TIPO DE DURACIÓN. (la función debe llamarse get_max_duration(year, platform, duration_type))"
   ]
  },
  {
   "cell_type": "code",
   "execution_count": 1,
   "metadata": {},
   "outputs": [],
   "source": [
    "import pandas as pd\n",
    "import numpy as np"
   ]
  },
  {
   "cell_type": "code",
   "execution_count": 3,
   "metadata": {},
   "outputs": [
    {
     "data": {
      "text/html": [
       "<div>\n",
       "<style scoped>\n",
       "    .dataframe tbody tr th:only-of-type {\n",
       "        vertical-align: middle;\n",
       "    }\n",
       "\n",
       "    .dataframe tbody tr th {\n",
       "        vertical-align: top;\n",
       "    }\n",
       "\n",
       "    .dataframe thead th {\n",
       "        text-align: right;\n",
       "    }\n",
       "</style>\n",
       "<table border=\"1\" class=\"dataframe\">\n",
       "  <thead>\n",
       "    <tr style=\"text-align: right;\">\n",
       "      <th></th>\n",
       "      <th>id</th>\n",
       "      <th>show_id</th>\n",
       "      <th>type</th>\n",
       "      <th>title</th>\n",
       "      <th>director</th>\n",
       "      <th>cast</th>\n",
       "      <th>country</th>\n",
       "      <th>date_added</th>\n",
       "      <th>release_year</th>\n",
       "      <th>rating</th>\n",
       "      <th>listed_in</th>\n",
       "      <th>description</th>\n",
       "      <th>plataforma</th>\n",
       "      <th>duration_int</th>\n",
       "      <th>duration_type</th>\n",
       "    </tr>\n",
       "  </thead>\n",
       "  <tbody>\n",
       "    <tr>\n",
       "      <th>0</th>\n",
       "      <td>ns1</td>\n",
       "      <td>s1</td>\n",
       "      <td>movie</td>\n",
       "      <td>dick johnson is dead</td>\n",
       "      <td>kirsten johnson</td>\n",
       "      <td>NaN</td>\n",
       "      <td>united states</td>\n",
       "      <td>2021-09-25</td>\n",
       "      <td>2020</td>\n",
       "      <td>pg-13</td>\n",
       "      <td>documentaries</td>\n",
       "      <td>as her father nears the end of his life, filmm...</td>\n",
       "      <td>netflix</td>\n",
       "      <td>90.0</td>\n",
       "      <td>min</td>\n",
       "    </tr>\n",
       "    <tr>\n",
       "      <th>1</th>\n",
       "      <td>ns2</td>\n",
       "      <td>s2</td>\n",
       "      <td>tv show</td>\n",
       "      <td>blood &amp; water</td>\n",
       "      <td>NaN</td>\n",
       "      <td>ama qamata, khosi ngema, gail mabalane, thaban...</td>\n",
       "      <td>south africa</td>\n",
       "      <td>2021-09-24</td>\n",
       "      <td>2021</td>\n",
       "      <td>tv-ma</td>\n",
       "      <td>international tv shows, tv dramas, tv mysteries</td>\n",
       "      <td>after crossing paths at a party, a cape town t...</td>\n",
       "      <td>netflix</td>\n",
       "      <td>2.0</td>\n",
       "      <td>season</td>\n",
       "    </tr>\n",
       "    <tr>\n",
       "      <th>2</th>\n",
       "      <td>ns3</td>\n",
       "      <td>s3</td>\n",
       "      <td>tv show</td>\n",
       "      <td>ganglands</td>\n",
       "      <td>julien leclercq</td>\n",
       "      <td>sami bouajila, tracy gotoas, samuel jouy, nabi...</td>\n",
       "      <td>NaN</td>\n",
       "      <td>2021-09-24</td>\n",
       "      <td>2021</td>\n",
       "      <td>tv-ma</td>\n",
       "      <td>crime tv shows, international tv shows, tv act...</td>\n",
       "      <td>to protect his family from a powerful drug lor...</td>\n",
       "      <td>netflix</td>\n",
       "      <td>1.0</td>\n",
       "      <td>season</td>\n",
       "    </tr>\n",
       "    <tr>\n",
       "      <th>3</th>\n",
       "      <td>ns4</td>\n",
       "      <td>s4</td>\n",
       "      <td>tv show</td>\n",
       "      <td>jailbirds new orleans</td>\n",
       "      <td>NaN</td>\n",
       "      <td>NaN</td>\n",
       "      <td>NaN</td>\n",
       "      <td>2021-09-24</td>\n",
       "      <td>2021</td>\n",
       "      <td>tv-ma</td>\n",
       "      <td>docuseries, reality tv</td>\n",
       "      <td>feuds, flirtations and toilet talk go down amo...</td>\n",
       "      <td>netflix</td>\n",
       "      <td>1.0</td>\n",
       "      <td>season</td>\n",
       "    </tr>\n",
       "    <tr>\n",
       "      <th>4</th>\n",
       "      <td>ns5</td>\n",
       "      <td>s5</td>\n",
       "      <td>tv show</td>\n",
       "      <td>kota factory</td>\n",
       "      <td>NaN</td>\n",
       "      <td>mayur more, jitendra kumar, ranjan raj, alam k...</td>\n",
       "      <td>india</td>\n",
       "      <td>2021-09-24</td>\n",
       "      <td>2021</td>\n",
       "      <td>tv-ma</td>\n",
       "      <td>international tv shows, romantic tv shows, tv ...</td>\n",
       "      <td>in a city of coaching centers known to train i...</td>\n",
       "      <td>netflix</td>\n",
       "      <td>2.0</td>\n",
       "      <td>season</td>\n",
       "    </tr>\n",
       "  </tbody>\n",
       "</table>\n",
       "</div>"
      ],
      "text/plain": [
       "    id show_id     type                  title         director  \\\n",
       "0  ns1      s1    movie   dick johnson is dead  kirsten johnson   \n",
       "1  ns2      s2  tv show          blood & water              NaN   \n",
       "2  ns3      s3  tv show              ganglands  julien leclercq   \n",
       "3  ns4      s4  tv show  jailbirds new orleans              NaN   \n",
       "4  ns5      s5  tv show           kota factory              NaN   \n",
       "\n",
       "                                                cast        country  \\\n",
       "0                                                NaN  united states   \n",
       "1  ama qamata, khosi ngema, gail mabalane, thaban...   south africa   \n",
       "2  sami bouajila, tracy gotoas, samuel jouy, nabi...            NaN   \n",
       "3                                                NaN            NaN   \n",
       "4  mayur more, jitendra kumar, ranjan raj, alam k...          india   \n",
       "\n",
       "   date_added  release_year rating  \\\n",
       "0  2021-09-25          2020  pg-13   \n",
       "1  2021-09-24          2021  tv-ma   \n",
       "2  2021-09-24          2021  tv-ma   \n",
       "3  2021-09-24          2021  tv-ma   \n",
       "4  2021-09-24          2021  tv-ma   \n",
       "\n",
       "                                           listed_in  \\\n",
       "0                                      documentaries   \n",
       "1    international tv shows, tv dramas, tv mysteries   \n",
       "2  crime tv shows, international tv shows, tv act...   \n",
       "3                             docuseries, reality tv   \n",
       "4  international tv shows, romantic tv shows, tv ...   \n",
       "\n",
       "                                         description plataforma  duration_int  \\\n",
       "0  as her father nears the end of his life, filmm...    netflix          90.0   \n",
       "1  after crossing paths at a party, a cape town t...    netflix           2.0   \n",
       "2  to protect his family from a powerful drug lor...    netflix           1.0   \n",
       "3  feuds, flirtations and toilet talk go down amo...    netflix           1.0   \n",
       "4  in a city of coaching centers known to train i...    netflix           2.0   \n",
       "\n",
       "  duration_type  \n",
       "0           min  \n",
       "1        season  \n",
       "2        season  \n",
       "3        season  \n",
       "4        season  "
      ]
     },
     "execution_count": 3,
     "metadata": {},
     "output_type": "execute_result"
    }
   ],
   "source": [
    "df_plat = pd.read_csv('plataformas_.csv')\n",
    "df_plat.head()"
   ]
  },
  {
   "cell_type": "code",
   "execution_count": null,
   "metadata": {},
   "outputs": [],
   "source": [
    "df_plat=df_plat[(df_plat.duration_int.max()) & (df_plat.duration_type =='min')]"
   ]
  },
  {
   "cell_type": "code",
   "execution_count": 36,
   "metadata": {},
   "outputs": [],
   "source": [
    "import datetime as dt\n",
    "\n",
    "df_plat['date_added']= pd.to_datetime(df_plat['date_added']) \n",
    "\n",
    "\n",
    "df_plat['Year'] = df_plat['date_added'].dt.year "
   ]
  },
  {
   "cell_type": "code",
   "execution_count": null,
   "metadata": {},
   "outputs": [],
   "source": [
    "year= df_plat['Year']"
   ]
  },
  {
   "attachments": {},
   "cell_type": "markdown",
   "metadata": {},
   "source": [
    "Primera consulta "
   ]
  },
  {
   "cell_type": "code",
   "execution_count": 4,
   "metadata": {},
   "outputs": [
    {
     "data": {
      "text/html": [
       "<div>\n",
       "<style scoped>\n",
       "    .dataframe tbody tr th:only-of-type {\n",
       "        vertical-align: middle;\n",
       "    }\n",
       "\n",
       "    .dataframe tbody tr th {\n",
       "        vertical-align: top;\n",
       "    }\n",
       "\n",
       "    .dataframe thead th {\n",
       "        text-align: right;\n",
       "    }\n",
       "</style>\n",
       "<table border=\"1\" class=\"dataframe\">\n",
       "  <thead>\n",
       "    <tr style=\"text-align: right;\">\n",
       "      <th></th>\n",
       "      <th>id</th>\n",
       "      <th>show_id</th>\n",
       "      <th>type</th>\n",
       "      <th>title</th>\n",
       "      <th>director</th>\n",
       "      <th>cast</th>\n",
       "      <th>country</th>\n",
       "      <th>date_added</th>\n",
       "      <th>release_year</th>\n",
       "      <th>rating</th>\n",
       "      <th>listed_in</th>\n",
       "      <th>description</th>\n",
       "      <th>plataforma</th>\n",
       "      <th>duration_int</th>\n",
       "      <th>duration_type</th>\n",
       "    </tr>\n",
       "  </thead>\n",
       "  <tbody>\n",
       "    <tr>\n",
       "      <th>0</th>\n",
       "      <td>ns1</td>\n",
       "      <td>s1</td>\n",
       "      <td>movie</td>\n",
       "      <td>dick johnson is dead</td>\n",
       "      <td>kirsten johnson</td>\n",
       "      <td>NaN</td>\n",
       "      <td>united states</td>\n",
       "      <td>2021-09-25</td>\n",
       "      <td>2020</td>\n",
       "      <td>pg-13</td>\n",
       "      <td>documentaries</td>\n",
       "      <td>as her father nears the end of his life, filmm...</td>\n",
       "      <td>netflix</td>\n",
       "      <td>90.0</td>\n",
       "      <td>min</td>\n",
       "    </tr>\n",
       "    <tr>\n",
       "      <th>1</th>\n",
       "      <td>ns2</td>\n",
       "      <td>s2</td>\n",
       "      <td>tv show</td>\n",
       "      <td>blood &amp; water</td>\n",
       "      <td>NaN</td>\n",
       "      <td>ama qamata, khosi ngema, gail mabalane, thaban...</td>\n",
       "      <td>south africa</td>\n",
       "      <td>2021-09-24</td>\n",
       "      <td>2021</td>\n",
       "      <td>tv-ma</td>\n",
       "      <td>international tv shows, tv dramas, tv mysteries</td>\n",
       "      <td>after crossing paths at a party, a cape town t...</td>\n",
       "      <td>netflix</td>\n",
       "      <td>2.0</td>\n",
       "      <td>season</td>\n",
       "    </tr>\n",
       "    <tr>\n",
       "      <th>2</th>\n",
       "      <td>ns3</td>\n",
       "      <td>s3</td>\n",
       "      <td>tv show</td>\n",
       "      <td>ganglands</td>\n",
       "      <td>julien leclercq</td>\n",
       "      <td>sami bouajila, tracy gotoas, samuel jouy, nabi...</td>\n",
       "      <td>NaN</td>\n",
       "      <td>2021-09-24</td>\n",
       "      <td>2021</td>\n",
       "      <td>tv-ma</td>\n",
       "      <td>crime tv shows, international tv shows, tv act...</td>\n",
       "      <td>to protect his family from a powerful drug lor...</td>\n",
       "      <td>netflix</td>\n",
       "      <td>1.0</td>\n",
       "      <td>season</td>\n",
       "    </tr>\n",
       "    <tr>\n",
       "      <th>3</th>\n",
       "      <td>ns4</td>\n",
       "      <td>s4</td>\n",
       "      <td>tv show</td>\n",
       "      <td>jailbirds new orleans</td>\n",
       "      <td>NaN</td>\n",
       "      <td>NaN</td>\n",
       "      <td>NaN</td>\n",
       "      <td>2021-09-24</td>\n",
       "      <td>2021</td>\n",
       "      <td>tv-ma</td>\n",
       "      <td>docuseries, reality tv</td>\n",
       "      <td>feuds, flirtations and toilet talk go down amo...</td>\n",
       "      <td>netflix</td>\n",
       "      <td>1.0</td>\n",
       "      <td>season</td>\n",
       "    </tr>\n",
       "    <tr>\n",
       "      <th>4</th>\n",
       "      <td>ns5</td>\n",
       "      <td>s5</td>\n",
       "      <td>tv show</td>\n",
       "      <td>kota factory</td>\n",
       "      <td>NaN</td>\n",
       "      <td>mayur more, jitendra kumar, ranjan raj, alam k...</td>\n",
       "      <td>india</td>\n",
       "      <td>2021-09-24</td>\n",
       "      <td>2021</td>\n",
       "      <td>tv-ma</td>\n",
       "      <td>international tv shows, romantic tv shows, tv ...</td>\n",
       "      <td>in a city of coaching centers known to train i...</td>\n",
       "      <td>netflix</td>\n",
       "      <td>2.0</td>\n",
       "      <td>season</td>\n",
       "    </tr>\n",
       "  </tbody>\n",
       "</table>\n",
       "</div>"
      ],
      "text/plain": [
       "    id show_id     type                  title         director  \\\n",
       "0  ns1      s1    movie   dick johnson is dead  kirsten johnson   \n",
       "1  ns2      s2  tv show          blood & water              NaN   \n",
       "2  ns3      s3  tv show              ganglands  julien leclercq   \n",
       "3  ns4      s4  tv show  jailbirds new orleans              NaN   \n",
       "4  ns5      s5  tv show           kota factory              NaN   \n",
       "\n",
       "                                                cast        country  \\\n",
       "0                                                NaN  united states   \n",
       "1  ama qamata, khosi ngema, gail mabalane, thaban...   south africa   \n",
       "2  sami bouajila, tracy gotoas, samuel jouy, nabi...            NaN   \n",
       "3                                                NaN            NaN   \n",
       "4  mayur more, jitendra kumar, ranjan raj, alam k...          india   \n",
       "\n",
       "   date_added  release_year rating  \\\n",
       "0  2021-09-25          2020  pg-13   \n",
       "1  2021-09-24          2021  tv-ma   \n",
       "2  2021-09-24          2021  tv-ma   \n",
       "3  2021-09-24          2021  tv-ma   \n",
       "4  2021-09-24          2021  tv-ma   \n",
       "\n",
       "                                           listed_in  \\\n",
       "0                                      documentaries   \n",
       "1    international tv shows, tv dramas, tv mysteries   \n",
       "2  crime tv shows, international tv shows, tv act...   \n",
       "3                             docuseries, reality tv   \n",
       "4  international tv shows, romantic tv shows, tv ...   \n",
       "\n",
       "                                         description plataforma  duration_int  \\\n",
       "0  as her father nears the end of his life, filmm...    netflix          90.0   \n",
       "1  after crossing paths at a party, a cape town t...    netflix           2.0   \n",
       "2  to protect his family from a powerful drug lor...    netflix           1.0   \n",
       "3  feuds, flirtations and toilet talk go down amo...    netflix           1.0   \n",
       "4  in a city of coaching centers known to train i...    netflix           2.0   \n",
       "\n",
       "  duration_type  \n",
       "0           min  \n",
       "1        season  \n",
       "2        season  \n",
       "3        season  \n",
       "4        season  "
      ]
     },
     "execution_count": 4,
     "metadata": {},
     "output_type": "execute_result"
    }
   ],
   "source": [
    "df_plat.head()"
   ]
  },
  {
   "cell_type": "code",
   "execution_count": 5,
   "metadata": {},
   "outputs": [
    {
     "data": {
      "text/plain": [
       "id                   0\n",
       "show_id              0\n",
       "type                 0\n",
       "title                0\n",
       "director          8259\n",
       "cast              5321\n",
       "country          11499\n",
       "date_added        9554\n",
       "release_year         0\n",
       "rating               0\n",
       "listed_in            0\n",
       "description          4\n",
       "plataforma           0\n",
       "duration_int       482\n",
       "duration_type        0\n",
       "dtype: int64"
      ]
     },
     "execution_count": 5,
     "metadata": {},
     "output_type": "execute_result"
    }
   ],
   "source": [
    "df_plat.isnull().sum()"
   ]
  },
  {
   "cell_type": "code",
   "execution_count": 6,
   "metadata": {},
   "outputs": [],
   "source": [
    "def get_max_duration(year:int, plataforma:str):\n",
    "   rslt_df = df_plat.loc[(df_plat['release_year'] == year) &\n",
    "              (df_plat['plataforma']==plataforma)]\n",
    "   #print(rslt_df)\n",
    "   max_value=rslt_df['duration_int'].max()\n",
    "   #print(max_value)\n",
    "   fila_max_valor = rslt_df.loc[rslt_df['duration_int'] == max_value]\n",
    "   a= fila_max_valor['title']\n",
    "   return a"
   ]
  },
  {
   "cell_type": "code",
   "execution_count": 7,
   "metadata": {},
   "outputs": [
    {
     "data": {
      "text/plain": [
       "3903    carmel beach waves for sleep\n",
       "Name: title, dtype: object"
      ]
     },
     "execution_count": 7,
     "metadata": {},
     "output_type": "execute_result"
    }
   ],
   "source": [
    "#prueba fuera de función\n",
    "\n",
    "get_max_duration(2015, 'amazon')"
   ]
  },
  {
   "cell_type": "code",
   "execution_count": 8,
   "metadata": {},
   "outputs": [
    {
     "name": "stdout",
     "output_type": "stream",
     "text": [
      "<class 'numpy.ndarray'>\n"
     ]
    },
    {
     "data": {
      "text/plain": [
       "\"['cruella']\""
      ]
     },
     "execution_count": 8,
     "metadata": {},
     "output_type": "execute_result"
    }
   ],
   "source": [
    "\n",
    "year= 2021\n",
    "plataforma= 'disney'\n",
    "rslt_df = df_plat.loc[(df_plat['release_year'] == year) &\n",
    "              (df_plat['plataforma']==plataforma)]\n",
    "#print(rslt_df)\n",
    "max_value=rslt_df['duration_int'].max()\n",
    "fila_max_valor = rslt_df.loc[rslt_df['duration_int'] == max_value]\n",
    "a= fila_max_valor['title'].values\n",
    "print(type(a))\n",
    "f'{a}'\n"
   ]
  },
  {
   "attachments": {},
   "cell_type": "markdown",
   "metadata": {},
   "source": [
    "Cantidad de películas por plataforma con un puntaje mayor a XX en determinado año (la función debe llamarse get_score_count(platform, scored, year))"
   ]
  },
  {
   "cell_type": "code",
   "execution_count": 11,
   "metadata": {},
   "outputs": [
    {
     "data": {
      "text/html": [
       "<div>\n",
       "<style scoped>\n",
       "    .dataframe tbody tr th:only-of-type {\n",
       "        vertical-align: middle;\n",
       "    }\n",
       "\n",
       "    .dataframe tbody tr th {\n",
       "        vertical-align: top;\n",
       "    }\n",
       "\n",
       "    .dataframe thead th {\n",
       "        text-align: right;\n",
       "    }\n",
       "</style>\n",
       "<table border=\"1\" class=\"dataframe\">\n",
       "  <thead>\n",
       "    <tr style=\"text-align: right;\">\n",
       "      <th></th>\n",
       "      <th>Unnamed: 0</th>\n",
       "      <th>id</th>\n",
       "      <th>show_id</th>\n",
       "      <th>type</th>\n",
       "      <th>title</th>\n",
       "      <th>director</th>\n",
       "      <th>cast</th>\n",
       "      <th>country</th>\n",
       "      <th>date_added</th>\n",
       "      <th>release_year</th>\n",
       "      <th>rating</th>\n",
       "      <th>listed_in</th>\n",
       "      <th>description</th>\n",
       "      <th>plataforma</th>\n",
       "      <th>duration_int</th>\n",
       "      <th>duration_type</th>\n",
       "      <th>rating_y</th>\n",
       "    </tr>\n",
       "  </thead>\n",
       "  <tbody>\n",
       "    <tr>\n",
       "      <th>0</th>\n",
       "      <td>0</td>\n",
       "      <td>ns1</td>\n",
       "      <td>s1</td>\n",
       "      <td>movie</td>\n",
       "      <td>dick johnson is dead</td>\n",
       "      <td>kirsten johnson</td>\n",
       "      <td>NaN</td>\n",
       "      <td>united states</td>\n",
       "      <td>2021-09-25</td>\n",
       "      <td>2020</td>\n",
       "      <td>pg-13</td>\n",
       "      <td>documentaries</td>\n",
       "      <td>as her father nears the end of his life, filmm...</td>\n",
       "      <td>netflix</td>\n",
       "      <td>90.0</td>\n",
       "      <td>min</td>\n",
       "      <td>3.611111</td>\n",
       "    </tr>\n",
       "    <tr>\n",
       "      <th>1</th>\n",
       "      <td>1</td>\n",
       "      <td>ns2</td>\n",
       "      <td>s2</td>\n",
       "      <td>tv show</td>\n",
       "      <td>blood &amp; water</td>\n",
       "      <td>NaN</td>\n",
       "      <td>ama qamata, khosi ngema, gail mabalane, thaban...</td>\n",
       "      <td>south africa</td>\n",
       "      <td>2021-09-24</td>\n",
       "      <td>2021</td>\n",
       "      <td>tv-ma</td>\n",
       "      <td>international tv shows, tv dramas, tv mysteries</td>\n",
       "      <td>after crossing paths at a party, a cape town t...</td>\n",
       "      <td>netflix</td>\n",
       "      <td>2.0</td>\n",
       "      <td>season</td>\n",
       "      <td>3.552632</td>\n",
       "    </tr>\n",
       "    <tr>\n",
       "      <th>2</th>\n",
       "      <td>2</td>\n",
       "      <td>ns3</td>\n",
       "      <td>s3</td>\n",
       "      <td>tv show</td>\n",
       "      <td>ganglands</td>\n",
       "      <td>julien leclercq</td>\n",
       "      <td>sami bouajila, tracy gotoas, samuel jouy, nabi...</td>\n",
       "      <td>NaN</td>\n",
       "      <td>2021-09-24</td>\n",
       "      <td>2021</td>\n",
       "      <td>tv-ma</td>\n",
       "      <td>crime tv shows, international tv shows, tv act...</td>\n",
       "      <td>to protect his family from a powerful drug lor...</td>\n",
       "      <td>netflix</td>\n",
       "      <td>1.0</td>\n",
       "      <td>season</td>\n",
       "      <td>3.597938</td>\n",
       "    </tr>\n",
       "    <tr>\n",
       "      <th>3</th>\n",
       "      <td>3</td>\n",
       "      <td>ns4</td>\n",
       "      <td>s4</td>\n",
       "      <td>tv show</td>\n",
       "      <td>jailbirds new orleans</td>\n",
       "      <td>NaN</td>\n",
       "      <td>NaN</td>\n",
       "      <td>NaN</td>\n",
       "      <td>2021-09-24</td>\n",
       "      <td>2021</td>\n",
       "      <td>tv-ma</td>\n",
       "      <td>docuseries, reality tv</td>\n",
       "      <td>feuds, flirtations and toilet talk go down amo...</td>\n",
       "      <td>netflix</td>\n",
       "      <td>1.0</td>\n",
       "      <td>season</td>\n",
       "      <td>3.561616</td>\n",
       "    </tr>\n",
       "    <tr>\n",
       "      <th>4</th>\n",
       "      <td>4</td>\n",
       "      <td>ns5</td>\n",
       "      <td>s5</td>\n",
       "      <td>tv show</td>\n",
       "      <td>kota factory</td>\n",
       "      <td>NaN</td>\n",
       "      <td>mayur more, jitendra kumar, ranjan raj, alam k...</td>\n",
       "      <td>india</td>\n",
       "      <td>2021-09-24</td>\n",
       "      <td>2021</td>\n",
       "      <td>tv-ma</td>\n",
       "      <td>international tv shows, romantic tv shows, tv ...</td>\n",
       "      <td>in a city of coaching centers known to train i...</td>\n",
       "      <td>netflix</td>\n",
       "      <td>2.0</td>\n",
       "      <td>season</td>\n",
       "      <td>3.593023</td>\n",
       "    </tr>\n",
       "  </tbody>\n",
       "</table>\n",
       "</div>"
      ],
      "text/plain": [
       "   Unnamed: 0   id show_id     type                  title         director  \\\n",
       "0           0  ns1      s1    movie   dick johnson is dead  kirsten johnson   \n",
       "1           1  ns2      s2  tv show          blood & water              NaN   \n",
       "2           2  ns3      s3  tv show              ganglands  julien leclercq   \n",
       "3           3  ns4      s4  tv show  jailbirds new orleans              NaN   \n",
       "4           4  ns5      s5  tv show           kota factory              NaN   \n",
       "\n",
       "                                                cast        country  \\\n",
       "0                                                NaN  united states   \n",
       "1  ama qamata, khosi ngema, gail mabalane, thaban...   south africa   \n",
       "2  sami bouajila, tracy gotoas, samuel jouy, nabi...            NaN   \n",
       "3                                                NaN            NaN   \n",
       "4  mayur more, jitendra kumar, ranjan raj, alam k...          india   \n",
       "\n",
       "   date_added  release_year rating  \\\n",
       "0  2021-09-25          2020  pg-13   \n",
       "1  2021-09-24          2021  tv-ma   \n",
       "2  2021-09-24          2021  tv-ma   \n",
       "3  2021-09-24          2021  tv-ma   \n",
       "4  2021-09-24          2021  tv-ma   \n",
       "\n",
       "                                           listed_in  \\\n",
       "0                                      documentaries   \n",
       "1    international tv shows, tv dramas, tv mysteries   \n",
       "2  crime tv shows, international tv shows, tv act...   \n",
       "3                             docuseries, reality tv   \n",
       "4  international tv shows, romantic tv shows, tv ...   \n",
       "\n",
       "                                         description plataforma  duration_int  \\\n",
       "0  as her father nears the end of his life, filmm...    netflix          90.0   \n",
       "1  after crossing paths at a party, a cape town t...    netflix           2.0   \n",
       "2  to protect his family from a powerful drug lor...    netflix           1.0   \n",
       "3  feuds, flirtations and toilet talk go down amo...    netflix           1.0   \n",
       "4  in a city of coaching centers known to train i...    netflix           2.0   \n",
       "\n",
       "  duration_type  rating_y  \n",
       "0           min  3.611111  \n",
       "1        season  3.552632  \n",
       "2        season  3.597938  \n",
       "3        season  3.561616  \n",
       "4        season  3.593023  "
      ]
     },
     "execution_count": 11,
     "metadata": {},
     "output_type": "execute_result"
    }
   ],
   "source": [
    "df_pr= pd.read_csv('app/df_pr.csv')\n",
    "#df_plat_r= pd.to_csv('df_pr.csv')\n",
    "df_pr.head()"
   ]
  },
  {
   "cell_type": "code",
   "execution_count": null,
   "metadata": {},
   "outputs": [],
   "source": [
    "#Sacamos el promedio agrupando por ID de película\n",
    "df_prom=df_pr['rating_y'].groupby(df_pr['id']).mean()"
   ]
  },
  {
   "cell_type": "code",
   "execution_count": null,
   "metadata": {},
   "outputs": [],
   "source": [
    "#Se exporta como csv\n",
    "\n",
    "df_prom.to_csv('df_prom.csv')\n",
    "\n"
   ]
  },
  {
   "cell_type": "code",
   "execution_count": null,
   "metadata": {},
   "outputs": [],
   "source": [
    "df_prom.head()"
   ]
  },
  {
   "cell_type": "code",
   "execution_count": null,
   "metadata": {},
   "outputs": [],
   "source": [
    "#crear base con promedio de rating obtenida del promedio anterior\n",
    "\n",
    "df_pr= pd.merge(df, df_prom, on='id')\n"
   ]
  },
  {
   "cell_type": "code",
   "execution_count": null,
   "metadata": {},
   "outputs": [],
   "source": [
    "df_pr.to_csv('df_pr.csv')"
   ]
  },
  {
   "cell_type": "code",
   "execution_count": null,
   "metadata": {},
   "outputs": [],
   "source": [
    "df_pr.head()"
   ]
  },
  {
   "cell_type": "code",
   "execution_count": 12,
   "metadata": {},
   "outputs": [],
   "source": [
    "def get_score_count(plataforma:str, scored:int, year:int):\n",
    "    rslt_df = df_pr.loc[(df_pr['release_year'] == year) &\n",
    "              (df_pr['plataforma']==plataforma) & (df_pr['rating_y']> scored)]\n",
    "    b= rslt_df['id'].count()\n",
    "    return(b)"
   ]
  },
  {
   "cell_type": "code",
   "execution_count": 13,
   "metadata": {},
   "outputs": [
    {
     "data": {
      "text/plain": [
       "953"
      ]
     },
     "execution_count": 13,
     "metadata": {},
     "output_type": "execute_result"
    }
   ],
   "source": [
    "get_score_count('netflix', 3.0, 2020)"
   ]
  },
  {
   "cell_type": "code",
   "execution_count": 15,
   "metadata": {},
   "outputs": [
    {
     "name": "stdout",
     "output_type": "stream",
     "text": [
      "377\n"
     ]
    }
   ],
   "source": [
    "plataforma= 'hulu'\n",
    "scored= 3.0\n",
    "year= 2020\n",
    "rslt_df = df_pr.loc[(df_pr['release_year'] == year) &\n",
    "              (df_pr['plataforma']==plataforma) & (df_pr['rating_y']> scored)].count()\n",
    "print(rslt_df['id'])\n",
    "\n",
    "#a= rslt_df['title'].astype(str).str.split(\"\\\\\").str[0]\n",
    "#resultado= rslt_df['']\n",
    "#f'{a}'\n",
    "#print (rslt_df.columns)\n",
    "#group=rslt_df.groupby('title')['rating_y'].mean()\n",
    "\n",
    "#f'{group}'"
   ]
  },
  {
   "attachments": {},
   "cell_type": "markdown",
   "metadata": {},
   "source": [
    "Cantidad de películas por plataforma con filtro de PLATAFORMA. (La función debe llamarse get_count_platform(platform))"
   ]
  },
  {
   "cell_type": "code",
   "execution_count": null,
   "metadata": {},
   "outputs": [],
   "source": []
  },
  {
   "cell_type": "code",
   "execution_count": null,
   "metadata": {},
   "outputs": [],
   "source": [
    "df_pr= pd.read_csv('app/df_pr.csv')"
   ]
  },
  {
   "cell_type": "code",
   "execution_count": 16,
   "metadata": {},
   "outputs": [],
   "source": [
    "\n",
    "def get_count_plataform(plataforma:str):\n",
    "    rslt_df = df_pr.loc[(df_pr['plataforma']==plataforma)]\n",
    "    c= rslt_df['id'].count()\n",
    "    return(c)\n"
   ]
  },
  {
   "cell_type": "code",
   "execution_count": 17,
   "metadata": {},
   "outputs": [
    {
     "data": {
      "text/plain": [
       "8807"
      ]
     },
     "execution_count": 17,
     "metadata": {},
     "output_type": "execute_result"
    }
   ],
   "source": [
    "get_count_plataform('netflix')"
   ]
  },
  {
   "attachments": {},
   "cell_type": "markdown",
   "metadata": {},
   "source": [
    "Actor que más se repite según plataforma y año. (La función debe llamarse get_actor(platform, year))"
   ]
  },
  {
   "cell_type": "code",
   "execution_count": 43,
   "metadata": {},
   "outputs": [
    {
     "data": {
      "text/html": [
       "<div>\n",
       "<style scoped>\n",
       "    .dataframe tbody tr th:only-of-type {\n",
       "        vertical-align: middle;\n",
       "    }\n",
       "\n",
       "    .dataframe tbody tr th {\n",
       "        vertical-align: top;\n",
       "    }\n",
       "\n",
       "    .dataframe thead th {\n",
       "        text-align: right;\n",
       "    }\n",
       "</style>\n",
       "<table border=\"1\" class=\"dataframe\">\n",
       "  <thead>\n",
       "    <tr style=\"text-align: right;\">\n",
       "      <th></th>\n",
       "      <th>Unnamed: 0</th>\n",
       "      <th>id</th>\n",
       "      <th>show_id</th>\n",
       "      <th>type</th>\n",
       "      <th>title</th>\n",
       "      <th>director</th>\n",
       "      <th>cast</th>\n",
       "      <th>country</th>\n",
       "      <th>date_added</th>\n",
       "      <th>release_year</th>\n",
       "      <th>rating</th>\n",
       "      <th>listed_in</th>\n",
       "      <th>description</th>\n",
       "      <th>plataforma</th>\n",
       "      <th>duration_int</th>\n",
       "      <th>duration_type</th>\n",
       "      <th>rating_y</th>\n",
       "    </tr>\n",
       "  </thead>\n",
       "  <tbody>\n",
       "    <tr>\n",
       "      <th>0</th>\n",
       "      <td>0</td>\n",
       "      <td>ns1</td>\n",
       "      <td>s1</td>\n",
       "      <td>movie</td>\n",
       "      <td>dick johnson is dead</td>\n",
       "      <td>kirsten johnson</td>\n",
       "      <td>NaN</td>\n",
       "      <td>united states</td>\n",
       "      <td>2021-09-25</td>\n",
       "      <td>2020</td>\n",
       "      <td>pg-13</td>\n",
       "      <td>documentaries</td>\n",
       "      <td>as her father nears the end of his life, filmm...</td>\n",
       "      <td>netflix</td>\n",
       "      <td>90.0</td>\n",
       "      <td>min</td>\n",
       "      <td>3.611111</td>\n",
       "    </tr>\n",
       "    <tr>\n",
       "      <th>1</th>\n",
       "      <td>1</td>\n",
       "      <td>ns2</td>\n",
       "      <td>s2</td>\n",
       "      <td>tv show</td>\n",
       "      <td>blood &amp; water</td>\n",
       "      <td>NaN</td>\n",
       "      <td>ama qamata, khosi ngema, gail mabalane, thaban...</td>\n",
       "      <td>south africa</td>\n",
       "      <td>2021-09-24</td>\n",
       "      <td>2021</td>\n",
       "      <td>tv-ma</td>\n",
       "      <td>international tv shows, tv dramas, tv mysteries</td>\n",
       "      <td>after crossing paths at a party, a cape town t...</td>\n",
       "      <td>netflix</td>\n",
       "      <td>2.0</td>\n",
       "      <td>season</td>\n",
       "      <td>3.552632</td>\n",
       "    </tr>\n",
       "    <tr>\n",
       "      <th>2</th>\n",
       "      <td>2</td>\n",
       "      <td>ns3</td>\n",
       "      <td>s3</td>\n",
       "      <td>tv show</td>\n",
       "      <td>ganglands</td>\n",
       "      <td>julien leclercq</td>\n",
       "      <td>sami bouajila, tracy gotoas, samuel jouy, nabi...</td>\n",
       "      <td>NaN</td>\n",
       "      <td>2021-09-24</td>\n",
       "      <td>2021</td>\n",
       "      <td>tv-ma</td>\n",
       "      <td>crime tv shows, international tv shows, tv act...</td>\n",
       "      <td>to protect his family from a powerful drug lor...</td>\n",
       "      <td>netflix</td>\n",
       "      <td>1.0</td>\n",
       "      <td>season</td>\n",
       "      <td>3.597938</td>\n",
       "    </tr>\n",
       "    <tr>\n",
       "      <th>3</th>\n",
       "      <td>3</td>\n",
       "      <td>ns4</td>\n",
       "      <td>s4</td>\n",
       "      <td>tv show</td>\n",
       "      <td>jailbirds new orleans</td>\n",
       "      <td>NaN</td>\n",
       "      <td>NaN</td>\n",
       "      <td>NaN</td>\n",
       "      <td>2021-09-24</td>\n",
       "      <td>2021</td>\n",
       "      <td>tv-ma</td>\n",
       "      <td>docuseries, reality tv</td>\n",
       "      <td>feuds, flirtations and toilet talk go down amo...</td>\n",
       "      <td>netflix</td>\n",
       "      <td>1.0</td>\n",
       "      <td>season</td>\n",
       "      <td>3.561616</td>\n",
       "    </tr>\n",
       "    <tr>\n",
       "      <th>4</th>\n",
       "      <td>4</td>\n",
       "      <td>ns5</td>\n",
       "      <td>s5</td>\n",
       "      <td>tv show</td>\n",
       "      <td>kota factory</td>\n",
       "      <td>NaN</td>\n",
       "      <td>mayur more, jitendra kumar, ranjan raj, alam k...</td>\n",
       "      <td>india</td>\n",
       "      <td>2021-09-24</td>\n",
       "      <td>2021</td>\n",
       "      <td>tv-ma</td>\n",
       "      <td>international tv shows, romantic tv shows, tv ...</td>\n",
       "      <td>in a city of coaching centers known to train i...</td>\n",
       "      <td>netflix</td>\n",
       "      <td>2.0</td>\n",
       "      <td>season</td>\n",
       "      <td>3.593023</td>\n",
       "    </tr>\n",
       "  </tbody>\n",
       "</table>\n",
       "</div>"
      ],
      "text/plain": [
       "   Unnamed: 0   id show_id     type                  title         director  \\\n",
       "0           0  ns1      s1    movie   dick johnson is dead  kirsten johnson   \n",
       "1           1  ns2      s2  tv show          blood & water              NaN   \n",
       "2           2  ns3      s3  tv show              ganglands  julien leclercq   \n",
       "3           3  ns4      s4  tv show  jailbirds new orleans              NaN   \n",
       "4           4  ns5      s5  tv show           kota factory              NaN   \n",
       "\n",
       "                                                cast        country  \\\n",
       "0                                                NaN  united states   \n",
       "1  ama qamata, khosi ngema, gail mabalane, thaban...   south africa   \n",
       "2  sami bouajila, tracy gotoas, samuel jouy, nabi...            NaN   \n",
       "3                                                NaN            NaN   \n",
       "4  mayur more, jitendra kumar, ranjan raj, alam k...          india   \n",
       "\n",
       "   date_added  release_year rating  \\\n",
       "0  2021-09-25          2020  pg-13   \n",
       "1  2021-09-24          2021  tv-ma   \n",
       "2  2021-09-24          2021  tv-ma   \n",
       "3  2021-09-24          2021  tv-ma   \n",
       "4  2021-09-24          2021  tv-ma   \n",
       "\n",
       "                                           listed_in  \\\n",
       "0                                      documentaries   \n",
       "1    international tv shows, tv dramas, tv mysteries   \n",
       "2  crime tv shows, international tv shows, tv act...   \n",
       "3                             docuseries, reality tv   \n",
       "4  international tv shows, romantic tv shows, tv ...   \n",
       "\n",
       "                                         description plataforma  duration_int  \\\n",
       "0  as her father nears the end of his life, filmm...    netflix          90.0   \n",
       "1  after crossing paths at a party, a cape town t...    netflix           2.0   \n",
       "2  to protect his family from a powerful drug lor...    netflix           1.0   \n",
       "3  feuds, flirtations and toilet talk go down amo...    netflix           1.0   \n",
       "4  in a city of coaching centers known to train i...    netflix           2.0   \n",
       "\n",
       "  duration_type  rating_y  \n",
       "0           min  3.611111  \n",
       "1        season  3.552632  \n",
       "2        season  3.597938  \n",
       "3        season  3.561616  \n",
       "4        season  3.593023  "
      ]
     },
     "execution_count": 43,
     "metadata": {},
     "output_type": "execute_result"
    }
   ],
   "source": [
    "df_pr.head()"
   ]
  },
  {
   "cell_type": "code",
   "execution_count": 174,
   "metadata": {},
   "outputs": [
    {
     "data": {
      "text/plain": [
       "Unnamed: 0           0\n",
       "id                   0\n",
       "show_id              0\n",
       "type                 0\n",
       "title                0\n",
       "director          8259\n",
       "cast              5321\n",
       "country          11499\n",
       "date_added        9554\n",
       "release_year         0\n",
       "rating               0\n",
       "listed_in            0\n",
       "description          4\n",
       "plataforma           0\n",
       "duration_int       482\n",
       "duration_type        0\n",
       "rating_y             0\n",
       "dtype: int64"
      ]
     },
     "execution_count": 174,
     "metadata": {},
     "output_type": "execute_result"
    }
   ],
   "source": [
    "df_pr.isnull().sum()"
   ]
  },
  {
   "cell_type": "code",
   "execution_count": 20,
   "metadata": {},
   "outputs": [
    {
     "data": {
      "text/plain": [
       "<bound method Series.unique of 0                                                         \n",
       "1        ama qamata, khosi ngema, gail mabalane, thaban...\n",
       "2        sami bouajila, tracy gotoas, samuel jouy, nabi...\n",
       "3                                                         \n",
       "4        mayur more, jitendra kumar, ranjan raj, alam k...\n",
       "                               ...                        \n",
       "22993                             leo gorcey, bobby jordan\n",
       "22994    dick vosburgh, ronnie stevens, libby morris, m...\n",
       "22995    ray stevenson, julian wadham, richard brake, m...\n",
       "22996    esteban recagno, ezequiel stremiz, luciano vit...\n",
       "22997    michael caine, emily mortimer, joseph gilgun, ...\n",
       "Name: cast, Length: 22998, dtype: object>"
      ]
     },
     "execution_count": 20,
     "metadata": {},
     "output_type": "execute_result"
    }
   ],
   "source": [
    "##Sustitución de NaN por espacios en blaco\n",
    "df_pr['cast'].fillna(' ',inplace= True)\n",
    "df_pr['cast'].unique\n"
   ]
  },
  {
   "cell_type": "code",
   "execution_count": 25,
   "metadata": {},
   "outputs": [],
   "source": [
    "def get_actor(plataforma:str,year:int):\n",
    "    rslt_df = df_pr.loc[(df_pr['release_year'] == year) & (df_pr['plataforma']==plataforma)]\n",
    "    tolist= list(rslt_df['cast'].str.split(', '))\n",
    "    #print(tolist)\n",
    "    lista_completa = []\n",
    "    for lista in tolist:\n",
    "      for elemento in lista:\n",
    "        lista_completa.append(elemento)\n",
    "    print(lista_completa)\n",
    "    elemento_mas_comun = max(set(lista_completa), key = lista_completa.count)\n",
    "    lista_sinNaN = [elem for elem in lista_completa if elem != elemento_mas_comun]\n",
    "    actor_mas_repetido = max(set(lista_sinNaN), key=lista_sinNaN.count)\n",
    "    #resultado = []\n",
    "    #for lista in tolist:\n",
    "     ##   if isinstance (lista, resultado):\n",
    "       #     resultado.extend(lista)\n",
    "    return actor_mas_repetido"
   ]
  },
  {
   "cell_type": "code",
   "execution_count": 26,
   "metadata": {},
   "outputs": [
    {
     "name": "stdout",
     "output_type": "stream",
     "text": [
      "[' ', ' ', 'luis ernesto franco', 'camila sodi', 'sergio goyri', 'samadhi zendejas', 'eduardo yáñez', 'sonya smith', 'alejandro camacho', 'azela robinson', 'uriel del toro', 'géraldine bazán', 'gabriela roel', 'marcus ornellas', 'asa butterfield', 'gillian anderson', 'ncuti gatwa', 'emma mackey', 'connor swindells', 'kedar williams-stirling', 'alistair petrie', 'dami lee', 'jason lee', 'bommie catherine han', 'jennifer waescher', 'nancy kim', 'osas ighodaro', 'ini dima-okojie', 'kemi lala akindoju', 'toni tones', 'ebenezer eno', 'eso okolocha dike', 'patrick diabuah', 'karibi fubara', 'temisan emmanuel', 'timini egbuson', 'vijay sethupathi', 'parthiban', 'raashi khanna', 'funke akindele', 'ayo makun', 'chioma chukwuka akpotha', 'yemi eberechi alade', 'blossom chukwujekwu', 'deyemi okanlawon', 'alexx ekubo', 'zubby michael', 'tina mba', 'femi jacobs', 'jide kosoko', 'omotola jalade-ekeinde', 'yemi blaq', 'sola sobowale', 'ken erics', 'toyin aimakhu', 'segun arinze', 'jibola dabo', 'rotimi salami', 'pa jimi solanke', 'rachael okonkwo', 'bassey okon', 'lucien morgan', 'magdalena korpas', 'janine gutierrez', 'jc santos', 'victor anastacio', 'yesh burce', 'lotlot de leon', 'aadil khan', 'sadia khateeb', 'zain khan durrani', 'priyanshu chatterjee', 'bhavna chauhan', 'ashwin dhar', 'farid azad khan', 'saghar sehrai', 'hakeem kae-kazim', 'chioma omeruah', 'orukotan adejola', 'flora chiedo', 'emeka nwagbaraocha', 'anthony oseyemi', 'oluwabukola thomas', 'soibifaa dokubo', 'um sang-hyun', 'park yoon-hee', 'kang shi-hyun', 'hong bum-ki', 'kim hyun-wook', 'lee in-suk', 'song ha-rim', 'kofi siriboe', 'yootha wong-loi-sing', 'michael ealy', 'uzo aduba', 'brigitte kali canales', 'andrea cortes', 'julia vera', 'sal lopez', 'paolo contis', 'yen santos', 'hans tórgarð', 'ruby ruiz', 'zweden obias', 'maria rianne castro', 'arianne mavis uera', 'maricor canlas', 'idia aisien', 'ndidi obi', 'kenneth okolie', 'zack orji', 'bovi ugboma', 'bimbo ademoye', 'beverly osu', 'beverly naya', 'larry gaaga', 'shaffy bello', 'chioma chukwuka akpotha', 'waje', 'ludovica francesconi', 'giuseppe maggio', 'gaja masciale', 'jozef gjura', 'eleonora gaggero', 'franco ravera', 'elisabetta coraini', 'michele franco', 'edoardo rossi', 'taylor kitsch', 'nina hoss', 'logan marshall-green', 'michael c. hall', 'tuppence middleton', 'mala emde', 'maximilian ehrenreich', 'sebastian koch', 'anne ratte-polle', 'lena dörrie', 'benjamin sadler', ' ', 'matilda lambert', 'ik ogbonna', 'prince sontoye', 'blossom chukwujekwu', 'linda osifo', 'emem inwang', 'pete edochie', 'shaffy bello', 'okon imeh  bishop', 'chinenye nnebe', 'femi adebayo', 'ximena romo', 'mabel cadena', 'alejandra herrera', 'nelly gonzález', 'samantha orozco', 'axel arenas', 'esteban caicedo', 'paulina goto', 'raquel robles', 'baby bátiz', 'pascacio lópez', 'juán carlos torres', 'javier oliván', 'claudia lobo', 'giovanna zacarías', 'hikaru iwamoto', 'tatsuya fukazawa', 'raul', 'shota watanabe', 'koji mukai', 'ryohei abe', 'ren meguro', 'ryota miyadate', 'daisuke sakuma', 'arata sato', 'tatsuya kageyama', 'taiga suzuki', 'shunsuke motoi', 'taiga tsubaki', 'yuki yokohara', 'minato matsui', 'shosei oda', 'falz', 'nse ikpe-etim', 'williams uchemba', 'toni tones', 'michelle dede', 'karibi fubara', 'buchi ojei', 'jemima osunde', 'blossom chukwujekwu', 'gbubemi ejeye', 'badmus olakunle', 'sarah natochenny', 'suzy myers', 'simona berman', 'erica schroeder', 'marca leigh', 'scottie ray', 'henry f. benjamin', 'yusuke kobayashi', 'reina ueda', 'nichika omori', 'taku yashiro', 'yumiri hanamori', 'ai kayano', 'takehito koyasu', 'yoshitsugu matsuoka', 'metin akpınar', 'demet akbağ', 'umur bugay', 'ahmet gülhan', 'dikmen gürün', 'kandemir konduk', 'perran kutman', 'zeynep oral', 'nevra serezli', 'selma sonat', 'suat sungur', 'ferhan şensoy', 'cihat tamer', 'demet taner', 'melanie scrofano', 'shamier anderson', 'tim rozon', 'dominique provost-chalkley', 'michael eklund', 'katherine barrell', 'greg lawson', 'natascha girgis', 'blossom chukwujekwu', 'elozonam ogbolu', 'nse ikpe-etim', 'belinda effah', 'saeed mohammed', 'chukwuemeka okoroafor', 'kunle fawole', 'chris okagbue', 'adebayo salami', 'charles inojie', 'elvina ibru', 'tobi bakare', 'molly bernard', 'patrick breen', 'robin de jesús', 'ava eisenson', 'ade otukoya', 'rodrigo de la serna', 'diego alonso', 'ariel staltari', 'franco tirri', 'ana celentano', 'rosina soto', 'augusto brítez', 'dante mastropierro', 'susana manchini', 'diana wells', 'beverly naya', 'mawuli gavor', 'ajoke silva', 'jide kosoko', 'toyin abraham', 'okey uzoeshi', 'deyemi okanlawon', 'shaffy bello', 'tina mba', 'efe irele', ' ', 'ade laoye', 'munachi abii', 'kehinde bankole', 'charles etubiebi', 'paul utomi', 'efa iwara', 'tina mba', 'tope tedela', 'demi banwo', 'teniola aladese', 'delroy norman', 'omowunmi dada', 'omoni oboli', 'brian hooks', 'stephanie linus', 'merlisa determined', 'pascal atuma', 'derel isaac', 'naima sundiata', 'chealse howell', 'dashawn francis', 'percy anane-dwumfour', 'osas ighodaro', 'kunle remi', 'kehinde bankole', 'femi adebayo', 'shaffy bello', 'adunni ade', 'chinyere wilfred', 'olive emodi', 'rekiya attah', 'opeyemi ayeola', 'richard mofe-damijo', 'ireti doyle', 'ermelinde simo sakah jing', 'alenne menget', 'syndy emade', 'lucie memba boss', 'neba godwill awantu', 'otia vitalis', 'flora ndula obassi', 'merits kayla', 'sanjay mishra', 'deepak dobriyal', 'sarika singh', 'isha talwar', 'avtar gill', 'kaurwakee vashistha', 'amitabh srivastava', 'vikas verma', ' ', 'chai hansen', 'luciane buchanan', 'josh thomson', 'emilie cocquerel', 'josh mckenzie', 'jordan mooney', 'jarred blakiston', 'bella ramsey', 'clare higgins', 'meibh campbell', 'raquel cassidy', 'jenny richardson', 'miriam petche', 'tallulah milligan', 'wendy craig', 'shauna shim', 'tom waes', 'anna drijver', 'frank lammers', 'elise schaap', 'raymond thiry', 'kris cuppens', 'kevin janssens', 'huub smit', 'kira buckland', 'ryan bartley', 'bryce papenbrook', 'cassandra morris', 'lucien dodge', 'kyle hebert', 'ellen pompeo', 'sandra oh', 'katherine heigl', 'justin chambers', 'patrick dempsey', 'chandra wilson', 't.r. knight', 'james pickens jr.', 'isaiah washington', 'sara ramirez', 'eric dane', 'chyler leigh', 'kate walsh', 'kevin mckidd', 'jessica capshaw', ' ', 'christian de sica', 'massimo boldi', 'lucia mascino', 'milena vukotic', 'paola minaccioni', 'herbert ballerina', 'denise tantucci', 'fiammetta cicogna', 'francesco bruni', 'alessandro bisegna', 'stan nze', 'osas ighodaro', 'bucci franklin', 'odera adimorah', 'efa iwara', 'emeka nwagbaraocha', 'elma mbadiwe', 'norbert young', 'brutus richard', 'chinyere wilfred', 'sonny mcdon', 'chiwetalu agu', 'kimie tsukakoshi', 'elizabeth cullen', 'mia milnes', 'julian cullen', 'rainbow wedell', 'jamie carter', 'christopher sommers', 'adinia wirasti', 'marissa anita', 'faradina mufti', 'teuku rifnu wikana', 'arawinda kirana', 'abdurrahman arif', 'verdi solaiman', 'kiki narendra', 'brigitta cynthia', 'roy sungkono', 'windy apsari', 'uzee usman', 'yakubu mohammed', 'asabe madaki', 'sani mu’azu', 'rekiya ibrahim atta', 'adam garba', 'abba ali zaky', 'habiba zock-sock', 'abdul’ usman zada', 'nadia dutch', 'abubakar maina', 'healing marcus udor', 'jamila ibrahim', 'nadia buari', 'ramsey nouah', 'zynnell zuh', 'priscilla opoku agyeman', 'jason e.l agha', 'lisbeth lopez acquah', 'henry prempeh', 'pascaline edwards', 'prince mingle', 'kelvin boateng', 'bian jiang', 'chen jinwen', 'ling fei', 'sun lulu', 'qian chen', 'gu jiangshan', 'alexx ekubo', 'ik ogbonna', 'bimbo manuel', 'haillie sumney', 'clem ohameze', 'john fashanu', 'damilola ogunsi', 'amb. rachel bakam', 'alexandra ayo', 'mariah ug', ' ', 'pihla viitala', 'lauri tilkanen', 'jani volanen', 'tommi korpela', 'pirjo lonka', 'riku nieminen', 'pamela tola', 'jonna järnefelt', 'raimo grönberg', 'kokoy de santos', 'elijah canlas', 'adrianna so', 'kyle velino', 'jerom canlas', 'sue prado', 'rommel canlas', 'miggy jimenez', 'angeli nicole sanoy', 'kych minemoto', 'maggie civantos', 'najwa nimri', 'carlos hipólito', 'roberto enríquez', 'cristina plazas', 'berta vázquez', 'alba flores', 'inma cuevas', 'maría isabel díaz', 'maría salgueiro', 'ramiro blas', 'alberto velasco', 'marta aledo', 'daniel ortiz', 'harlys becerra', 'laura baena', 'jesús castejón', 'verónika moral', 'eugene levy', \"catherine o'hara\", 'daniel levy', 'annie murphy', 'chris elliott', 'jennifer robertson', 'emily hampshire', 'tim rozon', 'sarah levy', 'dustin milligan', 'michael jordan', 'scottie pippen', 'dennis rodman', 'nancy isime', 'jide kene achufusi', 'sharon ooja', 'mawuli gavor', 'venita akpofure', 'koye kekere ekun', 'elvina ibru', 'uzor arukwe', 'toyin abraham', 'charlie dizon', 'paulo avelino', 'nicolás riera', 'laura laprida', 'juan manuel guilera', 'johanna francella', 'matías meyer', 'noelia marzol', 'luisa drozdek', 'agustina mindlin', 'santiago talledo', 'chang sung kim', 'osmar nuñez', 'fabio aste', 'fedor fedotov', 'sonya priss', 'yury borisov', 'kirill zaitsev', 'aleksey guskov', 'severija janusauskaite', 'cathy belton', 'giles panton', 'michael daingerfield', 'bill newton', 'james blight', 'nicole oliver', 'adrian petriw', 'alex barima', 'rebecca shoichet', 'will yun lee', 'jermaine love', 'rory markham', 'bertrand-xavier corbi', 'katie keene', 'fernando chien', 'gina decesare', 'michael blalock', 'stephen lang', 'chris mulkey', ' ', 'chika ike', 'max cavenham', 'nkem owoh', 'nse ikpe-etim', 'toyin abraham', 'eucharia anunobi', 'sophie alakija', 'hafis ayetoro', 'omotunde adebowale david', ' ', 'jacob elordi', 'adan canto', 'radha mitchell', 'tiera skovbye', 'kari matchett', 'tahmoh penikett', 'connie britton', 'eric bana', 'juno temple', 'julia garner', 'jean smart', 'keiko agena', 'jeff perry', 'kevin zegers', 'jake abel', 'sam smith', 'okey uzoeshi', 'angel unigwe', 'nifemi lawal', 'alex usifo', 'gloria anozie-young', 'shushu abubakar', 'aproko doctor', ' ', 'angelica panganiban', 'coco martin', 'gelli de belen', 'ketchup eusebio', 'cai cortez', 'matet de leon', 'dante rivero', 'teresa loyzaga', 'norm mcleod', 'jide kosoko', 'dele odule', 'lota chukwu', 'ben touitou', 'ayo ewebiyi', 'joke muyiwa', 'jude chukwuka', 'tonia chukwurah', 'folarin agunbiade', 'debby felix', 'bunmi shogade', 'león orlandianyi', 'benno roßkopf', 'julia koschitz', 'marii weichsler', 'lars bitterlich', 'michael pink', 'inge maux', 'elfriede schüsseleder', 'michael somma', 'finn reiter', 'markus stubeier', 'luca streussnig', \"maliq & d'essentials\", 'fourtwnty', 'gede robi', 'nadin amizah', 'ananda badudu', 'leanna rachel', 'rio dewanto', 'chicco jerikho', 'kehinde bankole', 'enyinna nwigwe', 'williams uchemba', 'toyin abraham', 'bimbo ademoye', 'timini egbuson', 'uzor arukwe', 'bimbo akintola', 'faithia williams', 'odunlade adekola', 'teni entertainer', 'bianca ugo', 'daniel faraldo', 'isak férriz', 'yolanda sey', 'raquel camón', 'adeline flaun', 'klaudia dudová', 'boris ruiz', 'àngels bassas', 'ahmad alhamsho', 'abdel aziz el mountassir', ' ', 'sooraj pancholi', 'isabelle kaif', 'rajpal yadav', \"waluscha d'souza\", 'natasha powell', 'martin rycroft', 'amrit maghera', 'saqib saleem', 'mala emde', 'noah saavedra', 'tonio schneider', 'luisa-céline gaffron', 'andreas lust', 'nadine sauter', 'ivy lissack', 'hussein eliraqui', 'victoria trauttmansdorff', 'michael wittenborn', 'christian serratos', 'gabriel chavarria', 'ricardo chavira', 'noemi gonzalez', 'seidy lopez', 'hunter reese peña', 'julio macias', 'carlos alfredo jr.', 'jesse posey', 'madison taylor baez', 'juan martinez', 'daniela estrada', 'paul rodriguez jr.', 'jayden greig', 'lauren mcnamara', 'dan payne', 'alex zahara', 'sean quan', 'kirsten robek', 'ty consiglio', 'christian convery', 'sandy robson', 'christina meredith lewall', 'george takei', ' ', 'patrick robinson', 'nadine marshall', 'pippa bennett-warner', 'cj beckford', 'mammootty', 'joju george', 'murali gopy', 'mathew thomas', 'nimisha sajayan', 'salim kumar', 'gayathri arun', 'ishaani krishna', 'riham abdel ghafour', 'mohammed aly rizk', 'hazem samir', 'salwa othman', 'mahmoud gharib', 'perfume', 'bisola aiyeola', 'efa iwara', 'molawa onajobi', 'tina mba', 'wale ojo', 'jemima osunde', 'lota chukwu', \"samuel asa'ah\", 'michael ejoor', 'uche elumelu', 'nagarjuna akkineni', 'dia mirza', 'saiyami kher', 'atul kulakarni', 'bilal hussain', 'ali reza', 'mayank parakh', 'shailendra pandey', 'vinod kulkarni', 'rohan', 'mukesh pandey', 'bhakti shalini', 'ghanshyam shukla', 'pankaj kalra', 'kanchan', 'sanchit wartak', 'ajay singhal', 'alexa ilacad', 'charlie dizon', 'gillian vicencio', 'belle mariano', 'dominic ochoa', 'carmina villaroel', 'irma adlawan', 'kakai bautista', 'cai cortez', 'jameson blake', 'joao constancia', 'jeremiah lisbo', 'clarence delgado', 'pinky amador', 'minnie aguilar', 'gigi de lana', 'toni gonzaga', 'bea alonzo', 'angel locsin', 'shaina magdayao', 'enchong dee', 'alexandra pfeifer', 'yalany marschner', 'trystan pütter', 'helen schneider', 'julius nitschkoff', 'dennis kyere', 'ina geraldine guy', 'katrin pollitt', 'julia strowski', 'anton wichers', 'anthony mackie', 'jamie dornan', 'katie aselton', 'ally ioannides', 'ramiz monsef', 'bill oberst jr.', 'uneek', 'mighty mark', 'tsu terry', 'tt the artist', 'tan france', 'alexa chung', 'kieran walton', 'carlos salazar', 'greg chun', 'jamieson price', 'reba buhr', 'todd haberkorn', 'landon mcdonald', 'scott whyte', 'paul haapaniemi', 'isyana sarasvati', 'kunto aji', 'sisir tanah', 'chiki fawzi', 'arah', 'hindia', 'ardhito pramono', 'rio dewanto', 'angga dwimas sasongko', 'rachel amanda', ' ', ' ', 'nannaphas loetnamchoetsakun', 'praewa suthamphong', 'sumitra duangkaew', 'tanutchai wijitvongtong', 'tarisa preechatangkit', 'natticha chantaravareelekha', 'miori ohkubo', 'pakwan noijaiboon', 'napaphat worraphuttanon', 'vathusiri phuwapunyasiri', 'rinrada inthaisong', 'suchaya saenkhot', 'mananya kaoju', 'kandis wanarun', 'ekapol deebunmee', 'panta pattanaampaiwong', 'rachaya tupkunanon', 'supasawad buranawech', 'thitirat rojsangrat', 'sawanee utoomma', 'phattharanarin mueanarit', 'chanyapuk numprasop', 'panja vaisshnav tej', 'krithi shetty', 'vijay sethupathi', 'victor rasuk', 'nathalie kelley', 'dan bucatinsky', 'david del rio', 'michelle veintimilla', 'lisa vidal', 'carlos gómez', 'belissa escobedo', 'drew barrymore', 'michael zegen', 't.j. miller', 'holland taylor', 'ellie kemper', 'andrew rannells', 'michelle buteau', 'jiang guangtao', 'ma zhengyang', 'wen sen', 'hu liangwei', 'huang ying', 'ardhito pramono', 'aurélie moeremans', 'arya saloka', 'roy sungkono', 'gilbert pohan', 'azizah hanum', 'tanta ginting', ' ', 'kang quintus', 'faith fidel', 'casson chinepoh', 'ramsey nouah', 'ndamo damaris', 'neba godwill awantu', 'onyama laura', 'prince sube', 'daphne nije', 'zoe elora ebai mayohchu', 'ema horvath', 'trey tucker', 'mena suvari', 'haskiri velazquez', 'danny corbo', 'olan montgomery', 'troy iwata', ' ', 'richa chadda', 'saurabh shukla', 'manav kaul', 'shubrajyoti barat', 'akshay oberoi', 'boloram das', 'nikhil vijay', 'raviza chauhan', 'brendon mcdonnell', 'tara sands', 'anairis quiñones', 'laura stahl', 'jenny yokobori', 'kira buckland', 'brittany cox', 'brittany lauda', 'christian banas', 'rebeka thomas', 'hayden summerall', 'deneen melody', ' ', 'meryem uzerli', 'feyyaz duman', 'hakan karsak', 'şennur nogaylar', 'burcu salihoğlu', 'nathalie seseña', 'goyo jiménez', 'josé juan vaquero', 'jordi sánchez', 'ricardo quevedo', 'carolina noriega', 'max marieges', 'kikín fernández', 'norma nivia', 'moi camacho', 'taiga nakano', 'riho yoshioka', 'kanichiro', 'takashi yamanaka', 'kimiko yo', 'toshiro yanagiba', 'lin po-hung', 'tai bo', 'jacqueline zhu', 'lei hong', 'hsu lichi', 'yoko young', 'samuel gu', 'eunice lin', 'alain moussi', 'nicolas cage', 'tony jaa', 'rick yune', 'frank grillo', 'marie avgeropoulos', 'juju chan', 'ryan tarran', 'eddie steeples', 'raymond pinharry', 'mary makariou', 'perfume', 'funke akindele', 'blossom chukwujekwu', 'sharon ooja', 'ini dima-okojie', 'segun arinze', 'bolly lomo', 'beverly osu', 'tayo faniran', 'lindsey morgan', 'jonathan howard', 'daniel bernhardt', 'rhona mitra', 'james cosmo', 'yayan ruhian', 'alexander siddig', 'cha-lee yoon', 'ieva andrejevaite', 'jeremy fitzgerald', 'saleh bakri', 'maryam kanj', 'maryam kamiel basha', 'ameer khlawe', \"ala' hanani\", 'malak abu ghraibeh', 'karam elayyan', 'leila mouammar', 'angie saba', 'padi reborn', 'dul jaelani', 'efek rumah kaca', 'jevin julian', 'gamaliel', 'arah', 'sitha marino', 'm. irfan ramli', ' ', 'audrey hepburn', 'sarah hassan', 'stycie waweru', 'mawuli gavor', 'pierra makena', \"eve d'souza\", 'christabel jazz mistri', 'martin githinji', 'lydia gitachu', 'kagwe mungai', \"blessing lung'aho\", 'max salgado', 'rené miranda', 'ignacia uribe', 'javier castillo', 'steevens benjamin', 'andrés rebolledo', 'alejandro trejo', 'ari irham', 'aghniny haque', 'taskya namya', 'marcella zalianty', 'gunawan sudrajat', 'jennifer coppen', 'chris sheffield', 'michaela mcmanus', 'neville archambault', \"ryan o'flanagan\", 'matilda lawler', 'jim cummings', 'jeremy holm', 'heidi niedermeyer', 'willie c. carpenter', 'matthew lawler', 'toyin abraham', 'broda shaggi', 'calabar chic', 'munirat antoinette lecky', 'khafi kareem', 'bukola oshibowale', 'adebimpe akintunde', 'temisan emmanuel', 'olaniyi afonja', 'sydney egere', 'adhisty zara', 'angga yunanda', 'dannia salsabila', 'abun sungkar', 'junior roberts', 'syakir daulay', 'ariyo wahab', 'ersa mayori', 'baim wong', 'irgi fahrezi', 'kiara advani', 'aditya seal', 'mallika dua', 'rakesh bedi', 'rajendra sethi', 'chittaranjan tripathi', 'rajesh jais', 'alka badola kaushal', 'ryo yoshizawa', 'hana sugisaki', 'amane okayama', 'honoka matsumoto', 'hiroya shimizu', 'nana mori', 'mizuki kayashima', 'ken mitsuishi', 'tasuku emoto', ' ', ' ', 'shih ming-shuai', 'cheng jen-shuo', 'nadow lin', 'liu kuan-ting', 'chen yi-wen', 'lotus wang', 'ada pan', 'hung shiao-ling', 'jacqueline zhu', 'evelyn zheng yu-tong', 'glenn fredly', 'marcello tahitoe', 'andien', 'rahmania astrini', 'gamaliel', 'cantika abigail', 'ivan nestorman', 'molukka hiphop community', 'julie estelle', 'yovie widianto', 'irfan ramli', 'shine tom chacko', 'rajisha vijayan', 'gokulan', 'sudhi koppa', 'veena nandakumar', 'johny antony', 'christina hendricks', 'retta', 'mae whitman', 'matthew lillard', 'reno wilson', 'manny montana', 'lidya jewett', 'izzy stannard', 'david hornsby', 'zach gilford', 'henry golding', 'parker sawyers', 'molly harris', 'david tran', 'reza rahadian', 'acha septriasa', 'baim wong', 'beby tsabina', 'dian nitami', 'uli herdinansyah', 'natasha rizki', 'eriska rein', 'landung simatupang', 'august melasz', 'chantiq schagerl', 'cut ashifa', 'aida cabiyeva', 'murad ismayil', 'nadya arina', 'augie fantinus', 'angelia livie', 'ernanto kusumo', 'shawn yue', 'jessie li', 'kara wai', 'tu men', 'qiao shan', 'wang yutian', 'yang di', 'wang zhener', 'jessica biel', 'bill pullman', 'christopher abbott', 'abby miller', 'dohn norwood', 'chen shu-fang', 'hsieh ying-xuan', 'vivian hsu', 'sun ke-fang', 'ding ning', 'buffy chen', 'chang han', 'lung shao-hua', 'honduras', 'weber yang', 'sara yu', 'janine chang', 'riccardo scamarcio', 'gaia bermani amaral', 'valentina cervi', 'antonio gerardi', 'federica torchetti', 'anna maria de luca', 'lucia zotti', 'nicoletta carbonara', 'donato placido', 'mimmo mignemi', 'julia wieniawa-narkiewicz', 'mateusz więcławek', 'adam graf turczyk', 'monika krzywkowska', 'nikodem rozbicki', 'kamil piotrowski', 'adam bobik', 'paulina gałązka', 'magdalena perlińska', 'katarzyna chojnacka', 'konrad żygadło', 'szymon roszak', 'michał sikorski', 'aleksandra pisula', 'wojciech łozowski', 'michał meyer', 'adam woronowicz', 'raúl arévalo', 'candela peña', 'paulina garcía', 'claude musungayi', 'babou cham', 'lidia nené', 'melina matthews', 'emilio buale', 'mulie jarju', 'jimmy castro', 'fenda drame', 'dairon tallon', 'teresita evuy', 'olivier bony', 'alejandro peña arenzana', 'alejandra yañez reynoso', 'giuliana baker', 'mauricio lópez', 'antia nazarely reynoso', 'felipe de jesus hernández', 'fernanda michelle torres', 'daniel padilla', 'kathryn bernardo', 'herbert bautista', 'ruffa gutierrez', 'gardo versoza', 'arlene muhlach', 'arlene muchlach', 'dennis padilla', 'riva quenery', 'anthony jennings', 'alora sasam', 'huybs azarcon', 'joaquim de almeida', 'goran visnjic', 'stephanie gil', 'alejandra howard', 'jorge lamelas', 'lúcia moniz', \"marco d'almeida\", 'joana ribeiro', 'carla chambel', 'elmano sancho', 'harvey keitel', 'sonia braga', 'tovino thomas', 'india jarvis', 'joju george', 'sidhartha siva', 'basil joseph', 'sudheesh', 'parvathi t', 'pauly valsan', 'rosa maría sardà', 'verónica forqué', 'ingrid garcía jonsson', 'david verdaguer', 'candela peña', 'mónica lópez', 'pol monen', \"alex o'dogherty\", 'leander vyvey', 'liz lobato', 'malin akerman', 'kat dennings', 'aisha tyler', 'jane seymour', 'jack donnelly', 'chelsea peretti', 'christine taylor', 'ryan hansen', 'deon cole', 'wanda sykes', 'cosmo jarvis', 'barry keoghan', 'niamh algar', 'ned dennehy', 'kiljan tyr moroney', 'david wilmot', 'brid brennan', 'simone kirby', 'anthony welsh', 'shameik moore', 'demetrius shipp jr.', 'denzel whitaker', 'keean johnson', 'kat graham', 't.i.', 'terrence howard', 'rob morgan', 'eiza gonzález', 'ethan hawke', 'wesley snipes', 'madelaine petsch', 'alexander koch', 'december ensminger', 'lee jones', 'maggie q', 'luke hemsworth', 'alex essoe', 'ingkarat jaraswongkosol', 'kelly b. jones', 'caledonia burr', 'maisa silva', 'eduardo moscovis', 'marcelo médici', 'laila zaid', 'pedro ottoni', 'rayana diniz', 'caio vegatti', 'fafá de belém', 'thaynara og', 'roberto bonfim', 'jason ralph', 'arjun gupta', 'hale appleman', 'stella maeve', 'summer bishil', 'olivia taylor dudley', 'jade tailor', 'rick worthy', 'mackenzie astin', 'kacey rohl', 'charles mesure', 'keegan connor tracy', 'trevor einhorn', 'thomas jane', 'anne heche', 'jason patric', 'john d. hickman', 'peter facinelli', 'alex haydon', 'aleksei archer', 'kristopher wente', 'bhisma mulia', 'denira wiraguna', 'didi kempot', 'sisca jkt48', 'erick estrada', 'asri welas', 'mo sidik', 'emil kusumo', 'dede satria', 'rezca syam', 'derek jacobi', 'anne reid', 'sarah lancashire', 'nicola walker', 'edward ashley', 'louis greatorex', 'josh bolt', 'anisa rahma', 'ariyo wahab', 'anandito dwis', 'fitria rasyidi', 'arafah rianti', 'kinaryosih', 'vanessa kirby', 'shia labeouf', 'ellen burstyn', 'molly parker', 'sarah snook', 'iliza shlesinger', 'benny safdie', 'jimmie fails', 'tony parker', 'paik jong-won', 'anders baasmo', 'kathrine thorborg johansen', 'ida husøy', 'otto jespersen', 'sven nordin', 'trond halbo', 'alexandra maria lara', 'wenche myhre', 'kostja ullmann', 'björn kjellman', 'sydney cope', 'logan edra', 'liza wilk', 'braedyn bruner', 'billie merritt', 'kim seo-yeong', 'um sang-hyun', 'kwon changwook', 'kim yeon-woo', 'kang shi-hyun', 'jeon tae-yeol', 'nam do-hyeong', 'park no-sik', 'jerry seinfeld', 'leslie jones', 'taylor tomlinson', 'tom segura', 'jack whitehall', 'michelle buteau', 'bert kreischer', 'jo koy', 'donnell rawlings', 'jim jefferies', 'nikki glaser', 'george lopez', 'sam jay', 'marc maron', 'kevin hart', 'michael mcintyre', 'fortune feimster', 'eric andré', 'jim norton', 'felipe esparza', 'hannah gadsby', 'patton oswalt', 'vir das', 'robert kelly', 'urzila carlson', 'tom papa', 'kanan gill', 'ms. pat', 'rob schneider', 'adrienne iapalucci', 'kenny sebastian', 'thomas middleditch', 'ben schwartz', 'kiernan shipka', 'ross lynch', 'miranda otto', 'lucy davis', 'chance perdomo', 'michelle gomez', 'richard coyle', 'jaz sinclair', 'lachlan watson', 'tati gabrielle', 'adeline rudolph', 'abigail cowen', 'gavin leatherwood', 'bronson pinchot', 'panji zoni', 'yayan ruhian', 'maizura', 'cemal farukh', 'imelda therinne', 'surya saputra', 'jarot superdj', 'doyok superdj', 'hajra romessa', 'annette edoarda', 'jackie tohn', 'david so', 'rosemary shrager', 'danica curcic', 'karoline hamm', 'viola martinsen', 'lars brygmann', 'hanne hedelund', 'august issac carter', 'fanny leander bornedal', 'ask mossberg truelsen', 'peder holm johansen', 'alexandre willaume', 'susanne storm', 'andrea engelsmann persson', 'thomas chaanhing', 'morten hauch-fausbøll', 'eskil tonnesen', ' ', 'lee kang-sheng', 'wilson hsu', 'vera chen', 'yen cheng-kuo', 'chen bor-jeng', 'liu kuo-shao', 'jake foushee', 'jason marnocha', 'linsay rousseau', 'joe zieja', 'frank todaro', 'bill rogers', 'keith silverstein', 'edward bosco', 'tessho genda', 'ryohei kimura', 'kikuko inoue', 'kazuhiko inoue', 'chafurin', 'kim yo-han', 'so joo-yeon', 'yeo hoi-hyun', 'jeong jin-hwan', 'jo hye-joo', 'yun seo-hyun', 'cho ryun', 'kim sung-gon', 'seong hye-min', 'park ji-won', 'timothy ware-hill', 'samuel l. jackson', 'hugh grant', 'lisa kudrow', 'kumail nanjiani', 'tracey ullman', 'samson kayo', 'leslie jones', 'diane morgan', 'cristin milioti', 'joe keery', 'maïwenn', 'fanny ardant', 'louis garrel', 'dylan robert', 'marine vacth', 'caroline chaniolleau', 'alain françon', 'florent lacger', 'henri-noël tabary', 'omar marwan', ' ', 'mikaela blake', 'gabby clarke', 'roman lutterotti', 'leke maceda-rustecki', 'matthew mucci', 'lynsey pham', 'kaden stephen', 'lights', 'anil kapoor', 'anurag kashyap', 'adjoa andoh', 'julie andrews', 'lorraine ashbourne', 'jonathan bailey', 'ruby barker', 'sabrina bartlett', 'harriet cains', 'bessie carter', 'nicola coughlan', 'phoebe dynevor', 'ruth gemmell', 'florence hunt', 'claudia jessie', 'ben miller', 'luke newton', 'regé-jean page', 'golda rosheuvel', 'luke thompson', 'will tilston', 'polly walker', 'yaya gosselin', 'pedro pascal', 'priyanka chopra', 'isaiah russell-bailey', 'akira akbar', 'christian slater', 'boyd holbrook', 'adriana barraza', 'taylor dooley', 'vivien lyra blair', 'hala finley', 'lyon daniels', 'sung kang', 'christopher mcdonald', 'andy walken', 'lotus blossom', 'haley reinhart', 'nathan blair', 'dylan henry lau', 'andrew diaz', 'george clooney', 'felicity jones', 'kyle chandler', 'demián bichir', 'david oyelowo', 'tiffany boone', 'caoilinn springall', 'sophie rundle', 'ethan peck', 'edward chen', 'tseng ching-hua', 'leon dai', 'jason wang', 'fabio grangeon', 'mimi shao', 'barry qu', 'erek lin', 'honduras', 'lotus wang', 'josephine langford', 'hero fiennes tiffin', 'dylan sprouse', 'selma blair', 'louise lombard', 'shane paul mcghie', 'candice king', 'charlie weber', 'khadijha red thunder', 'inanna sarkis', 'pia mia', 'samuel larsen', 'dylan arnold', 'karimah westbrook', 'rob estes', 'london hughes', 'ji chang-wook', 'kim ji-won', 'kim min-seok', 'han ji-eun', 'ryu gyeong-soo', 'so joo-yeon', 'michael brons', 'nigel coppen', 'thomas velderman', 'carlos antunes', 'marco spronk', 'willem rebergen', 'joshua dutrieux', 'bob van der palen', 'sefa vlaarkamp', 'luke amis', 'annabelle westenholz-smith', 'maddie evans', 'jude muir', 'hannah jane fox', 'rhashan stone', 'justin fletcher', 'john sparkes', 'sean connolly', 'chris grimes', 'ariana grande', 'rhys nicholson', 'pauly shore', 'mike castle', 'aimee teegarden', 'billy zane', 'charlotte mckinney', 'louis ferrigno', ' jr.', 'erik griffin', 'bobby lee', 'punkie johnson', 'mikaela hoover', 'chris kattan', 'steve-o', 'ida elise broch', 'gabrielle susanne solheim leithaug', 'dennis storhøi', 'anette hoff', 'felix sandman', 'ghita nørby', 'hege schøyen', 'bjørn skagestad', 'mads sjøgård pettersen', 'viola davis', 'chadwick boseman', 'glynn turman', 'colman domingo', 'michael potts', 'jonny coyne', 'taylour paige', 'jeremy shamos', 'dusan brown', 'joshua harto', 'glynn turman', 'denzel washington', 'george c. wolfe', 'branford marsalis', 'viola davis', 'imani perry', 'michael potts', 'coleman domingo', 'constanza romero', 'august wilson', 'todd black', 'dusan brown', 'taylour paige', 'ann roth', 'chadwick boseman', 'kalidas jayaram', 'shanthnu bhagyaraj', 'bhavani sre', 'kalki koechlin', 'anjali', 'padam kumar', 'prakash raj', 'sai pallavi', 'hari', 'gautham vasudev menon', 'simran', 'antonio sanint', 'luis eduardo arango', 'maría cecilia sánchez', 'mariana gómez', 'julián cerati', 'aura cristina geithener', 'biassini segura', 'lina tejeiro', 'julio césar herrera', 'christian villamil', ' ', 'yim si-wan', 'shin sae-kyeong', 'choi soo-young', 'kang tae-oh', 'park yeong-gyu', 'cha hwa-yeon', 'lee bong-ryeon', 'ryu abell', 'seo jae-hee', 'yeon je-wook', 'choi jae-hyun', 'lee jeong-ha', 'park sung-jun', 'lee hwang-eui', 'lee shin-ki', 'kim dong-yeong', 'kim si-eun', 'kim si-young', 'andrew schulz', 'anitta', ' ', ' ', ' ', 'vir das', 'christian convery', 'don lake', 'chance hurstfield', 'aria birch', 'dylan schombing', \"riley o'donnell\", 'hrishikesh hirway', 'lauren swickard', 'josh swickard', 'ali afshar', 'david del rio', 'natalia mann', 'katelyn epperly', 'gunnar anderson', 'julie lancaster', 'amanda detmer', 'lauren holly', 'kylie jefferson', 'casimere jollette', 'brennan clost', 'barton cowperthwaite', 'bayardo de murguia', 'damon j. gillespie', 'anna maiche', 'daniela norman', 'michael hsu rosen', 'tory trowbridge', 'david spade', 'london hughes', 'fortune feimster', 'maguy bou ghosn', 'daniella rahme', 'maxim khalil', 'qays sheikh najib', 'mohamed yaghy', 'rodney haddad', 'nada abou farhat', 'henry keane', 'glen keane', 'lucas neff', 'brian baumgartner', 'jackie loeb', 'john dimaggio', ' ', 'viola davis', 'denzel washington', 'stephen henderson', 'freedom martin', 'nia sarfo', 'cody merridith', 'gerardo navarro', 'aaron guy', 'callie holley', 'inma cuesta', 'bárbara lennie', 'tamar novas', 'arón piper', 'roberto enríquez', 'roque ruíz', 'isabel garrido', 'fede pérez', 'alfonso agra', 'susana dans', 'xavier estévez', 'xosé antonio touriñán', 'maría tasende', 'camila bossa', 'maría costas', 'abril zamora', 'chelo falcón', 'ana santos', 'mela casal', 'césar cambeiro', 'meryl streep', 'james corden', 'nicole kidman', 'kerry washington', 'andrew rannells', 'keegan-michael key', 'jo ellen pellman', 'ariana debose', 'mary kay place', 'kevin chamberlin', 'tracey ullman', 'logan riley', 'sofia deler', 'nico greetham', 'nathaniel j. potvin', 'sanjay dutt', 'nargis fakhri', 'rahul dev', 'priyanka verma', 'kuwaarjeet chopraa', 'aishan jawaid malik', 'rahul mittra', 'gavie chahal', 'humayun shams khan', 'babrak akbari', 'kento yamazaki', 'tao tsuchiya', 'nijiro murakami', 'yuki morinaga', 'keita machida', 'ayaka miyoshi', 'dori sakurada', 'aya asahina', 'shuntaro yanagi', 'yutaro watanabe', 'ayame misaki', 'mizuki yoshida', 'tsuyoshi abe', 'nobuaki kaneko', 'sho aoyagi', 'riisa naka', 'brandon ingram', 'nimmi harasgama', 'ali kazmi', 'arush nand', 'agam darshi', 'rehan mudannayake', 'shivantha wijesinha', 'seema biswas', 'hidaayath hazeer', 'bryan chang', 'eugenie liu', 'bruce he', 'ivy shao', 'allison lin', 'river huang', 'ting chun-cheng', 'wang ko-yuan', 'phoebe huang', 'chu chung-heng', 'wu chien-ho', 'camille chalons', 'elio germano', 'matilda de angelis', 'tom wlaschiha', 'luca zingaretti', 'fabrizio bentivoglio', 'leonardo lidi', 'françois cluzet', 'paul wight', 'allison munn', 'reylynn caster', \"lily brooks o'briant\", 'juliet donenfeld', 'paulina chávez', 'jencarlos canela', ' ', 'andré chiang', 'jennifer coolidge', 'karen fukuhara', 'khary payton', 'julian sands', 'brenda song', 'luke wilson', 'cher', 'emicida', 'gabriel iglesias', 'sherri shepherd', 'jacob vargas', 'maggie geha', 'richard gant', 'cree cicchino', 'fabrizio guido', 'oscar nuñez', 'amber frank', 'bailey gambertoglio', 'sydney park', 'katey sagal', 'rachel kimsey', 'darcy rose byrnes', 'duncan joiner', 'bella aboulhosn', 'kai scott', 'elyse maloway', 'vincent tong', 'erin mathews', 'andrea libman', 'alessandro juliani', 'nicole anthony', 'diana kaarina', 'gigi saul guerrero', 'rukiya bernard', 'asia mattu', 'elicia mackenzie', 'jessica chastain', 'colin farrell', 'john malkovich', 'common', 'geena davis', 'jess weixler', 'diana silvers', 'joan chen', 'ioan gruffudd', 'cameron britton', 'jack huston', 'judith light', 'carla gugino', 'gethin anthony', 'kelly jenrette', 'arliss howard', 'jay o. sanders', 'nick searcy', 'marley shelton', 'becky ann baker', 'brad william henke', ' ', 'li lingwei', 'han ning', 'huang guanzhi', 'jack yao', 'hsia teng-hung', 'david chao', 'luo guanxu', 'wu kunda', 'serena fang', 'carol cheng', 'chang han', 'jay hatton', 'zoe hatz', 'meesha contreras', 'dylan schombing', 'tyler nathan', 'leo orgil', 'michela luci', 'ian ho', 'evan lefeuvre', 'annick obonsawin', 'gracen daly', 'swara bhasker', 'dolly singh', 'ravi patel', 'varun thakur', 'mona ambegaonkar', 'girish kulkarni', 'nick kroll', 'john mulaney', 'jessi klein', 'jason mantzoukas', 'jenny slate', 'fred armisen', 'maya rudolph', 'jordan peele', 'nat faxon', 'jay gragnani', 'ramone hamilton', 'sean astin', 'dayci brookshire', 'jim cummings', 'jorge diaz', 'kostja ullmann', 'alli neumann', 'sascha alexander gersak', 'sophia thomalla', 'merlin rose', 'detlev buck', 'peter kurth', 'anika mauer', 'frederic linkemann', 'bernd hölscher', 'shona ferguson', 'zolisa xaluva', 'tsholofelo matshaba', 'sello sebotsane', 'buhle samuels', 'thembi seete', 'tk sebothoma', 'cindy mahlangu', 'lunathi mampofu', 'abdul khoza', 'connie ferguson', 'demet akbağ', 'haluk bilginer', 'elçin sangu', 'fırat tanış', 'alican yücesoy', 'emre kıvılcım', 'hakan eke', 'i̇hsan ceylan', 'bimen zartar', 'gary oldman', 'amanda seyfried', 'charles dance', 'lily collins', 'arliss howard', 'tom pelphrey', 'sam troughton', 'ferdinand kingsley', 'tuppence middleton', 'tom burke', 'joseph cross', 'jamie mcshane', 'toby leonard moore', 'monika gossmann', 'paul hollywood', 'prue leith', 'sandi toksvig', 'noel fielding', 'alyssa milano', 'angel parker', 'cristián de la fuente', 'eva ariel binder', 'joel steingold', 'robbie daymond', 'dayci brookshire', 'anthony tedesco', 'andy abbott', 'emma sloan jacobs', 'joanna lewis', 'matt mercer', 'ian nikus', 'leandro hassum', 'elisa pinheiro', 'danielle winits', 'louise cardoso', 'rodrigo fagundes', 'arianne botelho', 'miguel rômulo', 'josé rubens chachá', 'levi ferreira', 'daniel filho', ' ', 'ari eldjárn', 'ernest prakasa', 'chew kin wah', 'dion wiyoko', 'morgan oey', 'anggika bolsterli', 'arie kriting', 'yusril fahriza', 'awwe', 'adjis doaibu', 'aci resti', 'bintang emon', 'jenny zhang', 'soleh solihun', 'denny gitong', 'katarzyna sawczuk', 'maciej zakościelny', 'anita sokołowska', 'julia kamińska', 'tomasz karolak', 'maria pakulnis', 'barbara wypych', 'wojciech solarz', 'adrian majewski', 'michał piprowski', 'urszula dudziak', 'krzysztof ibisz', 'hazel brugger', \"lucy o'connell\", 'brendan mullins', 'ruth negga', 'lola metcalfe', 'jared harris', 'moe dunford', 'oscar butler', 'shona hamill', 'pat kinevane', 'janet moran', \"anya o'connor\", 'natalie palamides', ' ', 'kim chiu', 'jm de guzman', 'tony labrusca', 'martin del rosario', 'kate alejandrino', 'miel espinoza', 'janella salvador', 'cris villanueva', 'almira muhlach', 'cris villonco', 'mercedes cabral', \"jerry o'hara\", 'simon ibarra', 'alex medina', 'markus paterson', 'jelson bay', 'sue ramirez', 'sandy andolong', 'roxanne guinoo', 'cheska iñigo', 'hannah ledesma', 'yuan francisco', 'raffa esplana', 'varoon kessop', 'ryan phillippe', 'casper van dien', 'jack griffo', 'lexi simonsen', 'richard burgi', 'william katt', 'samaire armstrong', 'william mcnamara', 'jacob grodnik', 'cho byeong-kyu', 'yu jun-sang', 'kim se-jeong', 'yeom hye-ran', 'ahn seok-hwan', 'moon sook', 'choi yoon-young', 'lee hong-nae', 'alan c. lim', 'taron c. hensley', 'maisie benson', 'kerry gudjohnsen', 'paul killam', 'smith foreman', 'ann kendrick', 'ella joy ballesteros', 'neena-sinaii simpo', 'eli morse', 'debbie allen', 'rodolfo sancho', 'ana fernández', 'ramón barea', 'belén fabra', 'lucas blas', ' ', 'luke mockridge', 'seyneb saleh', 'cristina do rego', 'lucas reiber', 'johanna gastdorf', 'rudolf kowalski', 'carmen-maja antoni', 'eugen bauder', 'jonathan kwesi aikins', 'martina eitner-acheampong', 'eike weinreich', 'eskindir tesfay', 'hunter march', 'candace nelson', 'adriano zumbo', 'fabrizio gifuni', 'lino musella', 'monica piseddu', 'andrea pennacchi', 'emanuele linfatti', 'nicolò galasso', 'giacomo colavito', 'giada gagliardi', 'gianmarco vettori', 'silvia gallerano', 'massimiliano setti', 'park shin-hye', 'jun jong-seo', 'kim sung-ryoung', 'el', 'park ho-san', 'oh jung-se', 'lee dong-hwi', 'um chae-young', 'larry the cable guy', 'suhail dabbach', 'adam bessa', \"is'haq elias\", 'qutaiba abdelhaq', 'ahmad el ghanem', 'hicham ouarqa', 'mohimen mahbuba', 'thaer al-shayei', 'abdellah bensaid', 'faycal attougui', 'mohamed attougui', 'tarik belmekki', 'hayat kamille', 'seema al khalidi', 'waleed algadi', 'brenton thwaites', 'theo rossi', 'skylar astin', 'kyle gallner', 'alan ritchson', 'billy zane', 'shaun toub', 'chiaki kobayashi', 'junichi suwabe', 'natsumi fujiwara', 'mie sonozaki', 'shawn mendes', 'kurt russell', 'goldie hawn', 'darby camp', 'jahzir bruno', 'julian dennison', 'judah lewis', 'kimberly williams-paisley', 'tyrese gibson', 'vinoth kishan', 'arjun das', 'pooja ramachandran', 'kumar natarajan', 'misha ghoshal', 'arul vincent', 'chenthu mohan', 'pradeep kalipurayath', 'vinoth kishan', 'arjun das', 'pooja ramachandran', 'kumar natarajan', 'misha ghoshal', 'arul vincent', 'chenthu mohan', 'pradeep kalipurayath', 'noah kaye bentley', 'brennley brown', 'zach callison', 'nicolas cantu', 'skai jackson', 'marsai martin', 'andre robinson', 'carlos alazraqui', 'roshon fegan', 'grey griffin', 'brad grusnick', 'sam lavagnino', 'john c. mcginley', 'roger craig smith', 'amy adams', 'glenn close', 'gabriel basso', 'haley bennett', 'freida pinto', 'bo hopkins', 'owen asztalos', 'valeria bertuccelli', 'esteban lamothe', 'julián sorín', 'mauricio dayub', 'malena pichot', 'catarina spinetta', 'carla quevedo', 'anita pauls', 'mónica antonópulos', 'paola barrientos', 'ana katz', 'romina richi', 'diego gentile', 'beatriz spelzini', 'diego reinhold', 'adel imam', 'dalal abdelaziz', 'hamdy al-merghany', 'mohamed al-kilani', 'tarek el ebiary', 'huda el mufti', 'soleiman eid', 'badria tolba', 'reda idrees', 'enaam al-gritly', 'wafaa sadeq', 'rania mahmoud yassin', 'jesse metcalfe', 'bruce willis', 'natalie eva marie', 'lala kent', 'texas battle', 'swen temmel', 'sergio rizzuto', 'tyler jon olson', 'jon galanis', 'shawn mendes', 'dolly parton', 'christine baranski', 'treat williams', 'jenifer lewis', 'josh segarra', 'jeanine mason', 'mary lane haskell', 'keythe farley', 'dee bradley baker', 'kaliayh rhambo', 'michelle deco', 'barbara goodson', 'yang chen', ' ', 'prajakta koli', 'rohit saraf', 'vihaan samat', 'taaruk raina', 'vidya malavade', 'kritika bharadwaj', 'rannvijay singh', 'muskkaan jaferi', 'devyani shorey', 'suhasini mulay', 'abhinav sharma', 'ravin makhija', 'jackie long', 'diane marie howard', 'jaylin hall', 'miguel a. núñez jr.', 'ray j', 'jayq the legend', 'j. anthony brown', 'kenny rhodes', 'amber cosich', 'pharrell williams', 'vanessa hudgens', 'nick sagar', 'sam palladio', 'mia lloyd', 'lachlan nieboer', 'ricky norwood', 'florence hall', 'suanne braun', 'mark fleischmann', 'benjamin bradley', 'kanto shimokura', 'debo akibe', 'emi shimokura', 'toko miura', 'lily franky', 'kevin hart', 'jp karliak', 'pierce gagnon', 'kevin michael richardson', 'alex cazares', 'flula borg', 'jake green', 'eric bell jr.', 'david lodge', 'hope levy', 'david collins', 'tony hale', 'nicole sullivan', ' ', 'claire foy', 'john lithgow', 'matt smith', 'vanessa kirby', 'jared harris', 'victoria hamilton', 'eileen atkins', 'jeremy northam', 'alex jennings', 'ben miles', 'pip torrens', 'will keen', 'harry hadden-paton', 'daniel ings', 'greg wise', 'harriet walter', 'lia williams', 'matthew goode', 'anton lesser', 'viraaj modgill', 'jasleen singh', 'pooja punjabi', 'amit deondi', 'ketan kava', 'zeel thakkar', 'manish bhavan', 'viswanathan sridhar', 'forest whitaker', 'keegan-michael key', 'hugh bonneville', 'anika noni rose', 'madalen mills', 'phylicia rashad', 'ricky martin', 'justin cornwell', 'sharon rose', 'lisa davina phillip', 'kieron dyer', ' ', 'sophia loren', 'ibrahima gueye', 'renato carpentieri', 'diego iosif pirvu', 'massimiliano rossi', 'abril zamora', 'babak karimi', 'luis tosar', 'marta belmonte', 'guillermo toledo', 'carlos blanco', 'marta milans', 'goize blanco', 'elena irureta', 'bea segura', 'jorge andreu', 'daniel holguín', 'adolfo fernández', 'fernando barona', 'juan blanco', 'ahmed boulane', 'pepe ocio', 'vito sanz', 'adelfa calvo', 'joaquín climent', 'carmelo gómez', 'miguel ángel solá', 'öykü karayel', 'fatih artman', 'funda eryiğit', 'defne kayalar', 'settar tanrıöğen', 'tülin özen', 'alican yücesoy', 'bige önal', 'yu jun-sang', 'song yoon-a', 'bae soo-bin', 'kim sung-oh', 'jung seok-yong', 'kim won-hae', 'abhishek bachchan', 'aditya roy kapur', 'rajkummar rao', 'sanya malhotra', 'fatima sana shaikh', 'pankaj tripathi', 'rohit saraf', 'shalini vatsa', 'pearle maaney', 'gloria groove', 'alexia twister', 'mark samual bonanno', 'broden kelly', 'zachary ruane', 'ed helms', 'kristen schaal', 'weird al yankovic', 'kia stevens', 'paul f. tompkins', 'tawny newsome', 'bradley james', 'martin sensmeier', 'jose miguel vasquez', 'forrest goodluck', 'bryan hibbard', 'matt mercurio', 'harrison stone', 'billy breed', 'tatanka means', 'kiowa gordon', ' ', 'lavinia wilson', \"elyas m'barek\", 'anna unterberger', 'lukas spisser', 'iva höpperger', 'fedor teyml', 'marta manduca', 'maria hofstätter', 'tina haller', 'midori francis', 'austin abrams', 'dante brown', 'troy iwata', ' ', 'temi otedola', 'jimmy jean-louis', 'joke silva', 'gabriel afolayan', 'adjetey anang', 'ini edo', 'sadiq daba', 'wole olowomojuore', 'yomi fash-lanso', 'bukunmi oluwashina', 'bienvenu neba', 'ray reboul', 'ibukun awosika', 'seun kuti', ' ', 'wang yu-ping', 'yuri chen', 'shiny yao', 'pii liu', 'mike lin', 'edison song', 'xia teng-hong', 'moon lee', 'nia fairweather', 'chris noth', 'cooper koch', 'tyra ferrell', 'denny dillon', 'adriana demeo', 'otoja abit', 'david anzuelo', 'camilla harden', 'natasha goodman', 'avery whitted', 'tony d. head', 'joe perrino', ' ', 'natalie hall', 'evan williams', 'michael gordon shore', 'steve cumyn', 'albert brooks', 'kat graham', 'alexander ludwig', 'virginia madsen', 'janet kidder', 'jeff joseph', 'bethany brown', 'trezzo mahoro', 'rohan campbell', 'aliza vellani', 'aaron douglas', 'xavier de guzman', 'bruce best', 'ahmed amin', 'razane jammal', 'ayah samaha', 'samaa ibrahem', 'roshdy el shamy', 'reem abd el kader', 'ida engvoll', 'björn mosten', 'carla sehn', 'reine brynolfsson', 'gizem erdogan', 'björn kjellman', 'ruben lopez', 'johannes kuhnke', 'elsa agemalm reiland', 'benjamin shaps', 'disa östrand', 'ejke blomberg', 'lars väringer', 'keerthy suresh', 'dr. rajendra prasad', 'jagapathi babu', 'v. k. naresh', 'nadhiya', 'naveen chandra', 'sumanth shailendra', 'kamal kamaraju', 'praveen', 'pujitha ponnada', 'divya sripada', 'felix lobrecht', 'masami nagasawa', 'sadao abe', 'daiken okudaira', 'guillermo del toro', 'alfonso cuarón', 'mélissa bédard', 'ève landry', 'florence longpré', 'leslie bellair', 'brad hyland', 'brody rose', 'carol aebersold', 'brad hyland', 'drew barber', 'ashley roberts', 'lowrey brown', 'kristyl tift', 'manny mahen', 'olivia berkeley', 'eleanor rocha', 'michael adamthwaite', 'paul dobson', 'kelly metzger', 'brent miller', 'kirby morrow', 'pauline newstone', 'vincent tong', 'sam vincent', 'son hyun-joo', 'jang seung-jo', 'lee elijah', 'oh jung-se', 'matt jones', 'noureen dewulf', 'john ducey', 'matty cardarople', 'jeff fahey', 'christina moore', 'gabriel tigerman', 'ali afshar', 'tyler jacob moore', 'jessica serfaty', 'ṣọpẹ́ dìrísù', 'wunmi mosaku', 'matt smith', 'malaika wakoli-abigaba', 'shabana azmi', 'leela samson', 'sanjeeda sheikh', 'satyadeep misra', 'riva arora', 'hetvi bhanushali', 'rose rathod', 'hong so-yeong', 'choi bo-bae', 'kim eun-ah', 'jeong hye-won', 'bae jin-hong', 'um sang-hyun', 'cha moo-jin', 'jang min-young', 'jang do-young', 'kim sook-young', 'park ran', 'kim chang-won', 'park yeon-kyung', 'clark gregg', 'ming-na wen', 'brett dalton', 'chloe bennet', 'iain de caestecker', 'elizabeth henstridge', 'adrianne palicki', 'luke mitchell', 'henry simmons', 'lannick gautry', 'stanislas merhar', 'kaaris', 'david belle', 'jean reno', 'claudia cardinale', 'gérard lanvin', 'patrick catalifo', 'moussa maaskri', 'catherine marchal', 'philip rosenthal', 'alessandro borghi', 'giacomo ferrara', 'eduardo valdarnini', 'francesco acquaroli', 'filippo nigro', 'claudia gerini', 'adamo dionisi', 'barbara chichiarelli', 'federico tocci', 'gerasimos skiadaresis', 'elisabetta de palo', 'carlotta antonelli', 'renato marchetti', 'paola sotgiu', 'juli fàbregas', 'ximena romo', 'héctor illanes', 'dolores heredia', 'emma roberts', 'luke bracey', 'kristin chenoweth', 'frances fisher', 'jessica capshaw', 'andrew bachelor', 'cynthy wu', 'alex moffat', 'manish dayal', 'julia wieniawa-narkiewicz', 'michał lupa', 'wiktoria gąsiewska', 'stanisław cywka', 'sebastian dela', 'gabriela muskała', 'michał zbroja', 'mirosław zbrojewicz', 'piotr cyrwus', 'olaf lubaszenko', 'wojciech mecwaldowski', ' ', 'derek phillips', \"jason o'mara\", 'claudia christian', 'mamie gummer', 'jessica henwick', 'elias toufexis', 'chris diamantopoulos', \"adetokumboh m'cormack\", 'matthew mercer', 'melina kanakaredes', 'danny jacobs', 'matt lowe', 'adam croasdell', 'jennifer hale', 'david shaughnessy', 'fred tatasciore', 'vanessa marshall', 'robbie daymond', 'dayci brookshire', 'anthony tedesco', 'andy abbott', 'roberta lemons', 'cole seaver', ' ', 'sarah cooper', 'fred armisen', 'maya rudolph', 'ben stiller', 'megan thee stallion', 'jane lynch', 'jon hamm', 'aubrey plaza', 'connie chung', 'jordan black', 'tommy davidson', 'helen mirren', 'jonathan van ness', 'danielle brooks', 'winona ryder', 'marcella arguello', 'eddie pepitone', 'marisa tomei', 'whoopi goldberg', 'tom kane', 'mike he', 'ivy shao', 'anson chen', 'jane chang', 'roy chang', 'amanda chou', 'johnny yang', 'yin chao-te', 'tan ai-chen', 'chen bor-jeng', 'dewi chien', 'laurence rupp', 'jeanne goursaud', 'david schütter', 'ronald zehrfeld', 'nicki von tempelhoff', 'bernhard schütz', 'eva verena müller', 'sophie rois', 'gaetano aronica', 'nikolai kinski', 'jeremy miliker', ' ', 'cathy ang', 'phillipa soo', 'ken jeong', 'robert g. chiu', 'john cho', 'sandra oh', 'ruthie ann miles', 'margaret cho', 'kimiko glenn', 'artt butler', 'irene tsu', 'clem cheung', 'conrad ricamora', 'daniel grao', 'carolina lapausa', 'melani olivares', 'adriana paz', 'fernando solórzano', 'juan carlos messier', 'jon arias', 'verónica velásquez', 'david trejos', 'ana maria orozco', 'anya taylor-joy', 'bill camp', 'marielle heller', 'thomas brodie-sangster', 'moses ingram', 'harry melling', 'isla johnston', 'christiane seidel', 'rebecca root', 'chloe pirrie', 'jacob fortune-lloyd', 'gitte witt', 'thomas gullestad', 'thorbjørn harr', 'tuva olivia remman', 'trine wiggen', 'maria grazia di meo', 'kingsford siayor', 'jonatan rodriguez', 'natalia dyer', 'timothy simons', 'wolfgang novogratz', 'francesca reale', 'susan blackwell', 'alisha boe', 'donna lynne champlin', 'parker wierling', 'liam neeson', 'matt damon', 'jaden smith', 'president barack obama', 'george clooney', 'malala yousafzai', 'jay-z', 'tina fey', 'howard stern', 'david letterman', 'lily james', 'armie hammer', 'kristin scott thomas', 'keeley hawes', 'ann dowd', 'sam riley', 'tom goodman-hill', 'mark lewis jones', 'john hollingworth', 'bill paterson', 'kate mckinnon', 'roman lutterotti', 'mikaela blake', 'gabby clarke', 'leke maceda-rustecki', 'matthew mucci', 'birva pandya', 'lynsey pham', 'kaden stephen', 'michael gross', 'jon heder', 'caroline langrishe', 'cassie clare', 'matthew douglas', 'sahajak boonthanakit', 'david asavanond', 'jackie cruz', 'richard brake', ' ', 'bae suzy', 'nam joo-hyuk', 'kim seon-ho', 'kang han-na', 'kim do-wan', 'yu su-bin', 'stephanie lee', 'kim hae-sook', 'seo yi-sook', 'song sun-mi', 'stu bennett', 'vinnie jones', 'mark griffin', 'katrina durden', 'phoebe robinson-galvin', 'sam benjamin', 'david schaal', 'jessica-jane stafford', 'bentley kalu', 'jean-paul ly', 'odessa a’zion', 'odley jean', 'amir bageria', 'maliq johnson', 'amalia yoo', 'alphonso romero jones ii', 'thelonius serrell-freed', 'anthony ippolito', 'brian altemus', 'amir el kacem', 'marilou aussilloux', 'lionel erdogan', 'isabel aimé gonzalez sola', 'julien frison', 'doudou masta', 'dimitri storoge', 'amélia lacquemant', 'coline beal', 'laurent lucas', 'gaia weiss', 'chiara tantimonaco', 'nina tantimonaco', 'pierre andrau', 'philippine martinot', 'jérémie covillault', 'carmen maura', 'cecilia suárez', 'ester expósito', 'ernesto alterio', 'alejandro speitzer', 'isaac hernández', 'carlos cuevas', 'mariola fuentes', 'pilar castro', 'juan carlos vellido', 'eduardo casanova', 'manuel morón', 'javier pereira', 'nick wolfhard', 'charles demers', 'garland whitt', 'montse hernandez', 'brian drummond', 'giles panton', 'keith david', 'sacha baron cohen', 'eddie redmayne', 'yahya abdul-mateen ii', 'jeremy strong', 'mark rylance', 'joseph gordon-levitt', 'michael keaton', 'frank langella', 'john carroll lynch', 'alex sharp', 'john doman', 'ben shenkman', 'tamara smart', 'oona laurence', 'tom felton', 'troy leigh-anne johnson', 'lynn masako cheng', 'ty consiglio', 'ian ho', 'indya moore', 'alessio scalzotto', 'tamsen mcdonough', 'jefri nichol', 'aurora ribero', 'axel matthew', 'nadya arina', 'karina suwandhi', 'rebecca klopper', 'rorrie d. travis', 'jazz baduwalia', 'jacqueline scislowski', 'abraham rodríguez', 'teuila blakely', 'kristina ho', 'cosme flores', 'kevin copeland', ' ', 'danielle brooks', 'oscar nuñez', 'mike colter', 'heather burns', 'okieriete onaodowan', 'ajay naidu', 'shakira barrera', 'steven weber', 'helena howard', 'daphne rubin-vega', 'guillermo díaz', 'miguel sandoval', 'camila perez', 'gianna aragon', 'tom costanzo', 'luca costanzo', 'olli haaskivi', 'marsha stephanie blake', 'isabella ferreira', 'rocco luna', 'larita brooks', 'misha brooks', 'liam foley', 'zoë verbil', 'anthony norman', 'brian jordan alvarez', 'max jenkins', 'peter vack', 'rana roy', 'peter scanavino', 'ali ahn', 'tami sagher', 'barbara rosenblat', 'michael mulheren', 'leo bai-scanavino', 'becky ann baker', 'dylan baker', 'marcia debonis', 'raymond anthony thomas', 'sunita mani', 'kylie liya page', 'david iacono', 'lachlan riley watson', 'niles fitch', 'will meyers', 'ava demary', 'lydia look', 'asante blackk', \"ayize ma'at\", 'lovie simone', 'kai ko', 'ariel lin', 'darren wang', 'zhang xiaolong', 'louis koo', 'vanness wu', 'kate tsui', 'blackpink', ' ', 'simon greenall', 'rob rackstraw', 'jo wyatt', 'paul buckley', 'simon foster', 'teresa gallagher', 'richard grieve', 'michael murphy', 'paul panting', 'keith wickham', 'bert kreischer', 'anthony anderson', 'caitlyn jenner', 'tom segura', 'joey diaz', 'nikki glaser', 'fortune feimster', 'bobby lee', 'donnell rawlings', 'kaley cuoco', 'joel mchale', 'ms. pat', 'deon cole', 'big jay oakerson', 'karen fukuhara', 'sydney mikayla', 'deon cole', 'coy stewart', 'dee bradley baker', 'sterling k. brown', 'dan stevens', 'jake green', 'steve blum', ' ', 'yami gautam', 'vikrant massey', 'suhail nayyar', 'ayesha raza mishra', 'isha talwar', 'rajeev gupta', ' ', 'radha blank', 'peter kim', 'oswin benjamin', 'imani lewis', 'haskiri velazquez', 'antonio ortiz', 't.j. atoms', 'reed birney', 'victoria pedretti', 'oliver jackson-cohen', 'henry thomas', 'amelia eve', \"t'nia miller\", 'rahul kohli', 'tahirah sharif', 'amelie bea smith', 'benjamin evan ainsworth', 'bigflo & oli', 'go a-ra', 'lee jae-wook', 'kim ju-hun', 'ye ji-won', 'lee soon-jae', 'shin eun-soo', 'seo yi-sook', 'seohyun', 'ko kyung-pyo', 'kim hyo-jin', 'kim young-min', 'tae won-seok', 'song sun-mi', 'park seong-geun', 'jang jin-hee', 'yoon sa-bong', 'lee hak-ju', 'song sang-eun', 'jang won-hyeok', 'yoo hee-je', 'min zio', 'kim min-sang', 'kim ba-da', 'cha soo-yeon', 'eliza taylor', 'paige turco', 'bob morley', 'marie avgeropoulos', 'christopher larkin', 'henry ian cusick', 'isaiah washington', 'lindsey morgan', 'devon bostick', 'richard harmon', 'ricky whittle', 'jarod joseph', 'chelsey reist', 'sachin sahel', 'adina porter', 'adam sandler', 'kevin james', 'julie bowen', 'ray liotta', 'steve buscemi', 'maya rudolph', 'rob schneider', 'june squibb', 'kenan thompson', 'tim meadows', 'michael chiklis', 'karan brar', 'george wallace', 'paris berelc', 'noah schnapp', 'china anne mcclain', 'colin quinn', 'kym whitley', 'lavell crawford', 'mikey day', 'jackie sandler', 'sadie sandler', 'sunny sandler', 'viktoriya isakova', 'kirill käro', 'aleksandr robak', 'natalya zemtsova', 'maryana spivak', 'yuri kuznetsov', 'eldar kalimulin', 'viktoriya agalakova', 'alexander yatsenko', 'saveliy kudryashov', 'madison pettis', 'lizze broadway', 'piper curda', 'natasha behnam', 'darren barnet', 'sara rue', 'zachary gordon', 'camaron engels', 'christian valderrama', 'zayne emory', 'nahanni mitchell', 'dean petriw', 'terry klassen', 'sam vincent', 'rhona rees', 'laara sadiq', ' ', 'david attenborough', 'daniel levy', 'eugene levy', \"catherine o'hara\", 'annie murphy', 'chris elliott', 'emily hampshire', 'sarah levy', 'jennifer robertson', 'noah reid', 'dustin milligan', 'karen robinson', 'rizwan manji', 'alan c. lim', 'smith foreman', 'maisie benson', 'ann kendrick', 'kerry gudjohnsen', 'paul killam', 'stanley moore', 'tyler hendrix', 'ella joy ballesteros', 'jimmy olea', 'lily collins', 'philippine leroy-beaulieu', 'ashley park', 'lucas bravo', 'kate walsh', 'samuel arnold', 'bruno gouery', 'camille razat', 'beverly osu', 'sharon ooja', 'omowunmi dada', 'pearl okorie', 'wofai samuel', 'ikechukwu onunaku', 'kemi lala akindoju', 'blossom chukwujekwu', 'adebukola oladipupo', 'omoni oboli', 'segun arinze', 'ada ameh', 'sambasa nzeribe', 'patrick doyle', 'gregory ojefua', 'nawazuddin siddiqui', 'nasser', 'aakshath das', 'indira tiwari', 'sanjay narvekar', 'shweta basu prasad', 'riccardo scamarcio', 'mía maestro', 'jaden michael', 'gerald w. jones iii', 'gregory diaz iv', 'sarah gadon', 'method man', 'shea whigham', 'coco jones', 'the kid mero', 'chris redd', 'vladimir caamaño', 'jeremie harris', 'adam david thompson', 'zoe saldana', 'mauricio ochmann', 'esmeralda pimentel', 'matteo giannini', 'regina reynoso', 'juan martín jauregui', 'tato alexander', 'verónica bravo', 'fernando becerril', 'moisés arizmendi', 'tiaré scanda', 'mariana cabrera', 'montserrat marañón', 'verónica langer', 'hairul azreen', 'janna nick', 'amerul affendi', 'henley hii', 'nam ron', 'theebaan govindasamy', 'taufiq hanafi', 'hafizul kamal', 'josiah hogan', 'sophia albarakbah', 'sugeeta chandran', 'anna jobling', 'tainá müller', 'eduardo moscovis', 'camila morgado', 'antonio grassi', 'elisa volpatto', 'césar mello', 'sílvio guindane', 'alice valverde', 'dj amorim', 'adriano garib', 'johnnas oliva', 'marina provenzzano', 'josé rubens chachá', 'julia ianina', 'sacha bali', 'aline borges', 'cassio pandolfi', 'pally siqueira', 'juliana lohmann', 'mišel matičević', 'martina gedeck', 'klaus steinbacher', 'mercedes müller', 'maximilian brückner', 'brigitte hobmeier', 'markus krojer', 'martin feifel', 'michael kranz', 'vladimir burlakov', 'baraa alem', 'ismail alhassan', 'ahmed saddam', 'sohayb godus', 'nawaf alshubaili', 'eyad ayman kaifi', 'scott eastwood', 'caleb landry jones', 'orlando bloom', 'jack kesy', 'cory hardrict', 'milo gibson', 'jacob scipio', 'taylor john smith', 'jonathan yunger', 'alexander arnold', 'blanca soto', 'eduardo noriega', 'iván sánchez', 'maribel verdú', 'samantha siqueiros', 'peter vives', 'patricia guirado', 'jorge bosch', 'pere ponce', 'juan caballero', 'jordi planas', ' ', 'matt leblanc', 'liza snyder', 'grace kaufman', 'matthew mccann', 'hala finley', 'matt cook', 'jessica chaffin', 'jim parsons', 'zachary quinto', 'matt bomer', 'andrew rannells', 'charlie carver', 'robin de jesús', 'brian hutchison', 'michael benjamin washington', 'tuc watkins', 'jim parsons', 'zachary quinto', 'matt bomer', 'andrew rannells', 'charlie carver', 'robin de jesús', 'brian hutchison', 'michael benjamin washington', 'tuc watkins', 'joe mantello', 'ned martel', 'mart crowley', 'danielle cormack', 'nicole da silva', 'kate atkinson', 'celia ireland', 'shareena clanton', 'aaron jeffery', 'robbie magasiva', 'katrina milosevic', 'jacqueline brennan', 'ra chapman', 'pamela rabe', 'sigrid thornton', 'socratis otto', 'bernard curry', 'tammy macintosh', 'kate jenkinson', 'michelle buteau', 'michael jai white', 'michael eklund', 'sabryn rock', 'nakai takawira', 'lyric justice', 'sagine semajuste', 'gary owen', 'anthony grant', 'kristen harris', 'bj verot', 'sean skene', 'marrese crump', 'stephanie sy', 'jeff strome', 'adam hurtig', 'gillian white', 'anthony j. mifsud', ' ', 'kristen bell', 'ted danson', 'william jackson harper', 'jameela jamil', \"d'arcy carden\", 'manny jacinto', ' ', ' ', 'allen maldonado', 'andrew bachelor', 'jearnest corchado', 'matthew josten', 'yaani king mondschein', 'justin lee', 'aja evans', 'jung yu-mi', 'nam joo-hyuk', 'jon favreau', 'roy choi', 'millie bobby brown', 'henry cavill', 'sam claflin', 'helena bonham carter', 'louis partridge', 'burn gorman', 'adeel akhtar', 'susan wokoma', 'frances de la tour', 'fiona shaw', 'woody harrelson', ' ', ' ', 'viraaj modgill', 'jasleen singh', 'pooja punjabi', 'viswanathan sridhar', 'manish bhavan', 'suvela sharma', 'surabhi pandey', 'zeel thakkar', 'bhumi pednekar', 'konkona sen sharma', 'vikrant massey', 'amol parashar', 'aamir bashir', 'karan kundra', 'kalp shah', 'hearty singh', 'neelima azim', 'kubbra sait', 'sarah paulson', 'finn wittrock', 'judy davis', 'sharon stone', 'cynthia nixon', 'jon jon briones', 'charlie carver', 'lyric lewis', 'rutledge wood', 'andovi da lopez', 'jovial da lopez', 'chandra liow', 'tommy limmm', 'susan sameh', 'widika sidmore', 'kezia aletheia', 'karina salim', 'greg chun', 'erica mendez', 'cristina vee', 'david lodge', 'yuichi nakamura', 'nana mizuki', 'miyuki sawashiro', 'yuko sanpei', 'suzuko mimori', 'takayuki sugo', 'maître gims', 'lizzie waterworth-santo', 'emma tate', 'sue elliot nicholls', 'tamsin heatley', 'wayne forester', 'aidan cook', 'philip pope', 'obinna nwachukwu', 'dennis lindsey', 'taline stewart', 'derron scott', 'jamal graham', 'jacari dye', 'julian selman', 'melody tally', 'ramon thompson', 'hasinatu camara', 'anke engelke', 'thorsten merten', 'nina gummich', 'johannes zeiler', 'juri winkler', 'gudrun ritter', 'aaron hilmer', 'claudia geisler-bading', 'benedetta porcaroli', 'alice pagani', 'riccardo mandolini', 'chabeli sastre gonzalez', 'brando pacitto', 'lorenzo zurzolo', 'claudia pandolfi', 'galatea ranzi', ' ', 'katherine kelly', 'lee ingleby', 'mark stanley', 'rochenda sandall', 'shubham saraf', 'nicholas pinnock', 'david tennant', 'hayley atwell', 'youssef kerkour', 'clare-hope ashitey', 'isabella laughland', 'andrzej konopka', 'helena sujecka', 'piotr trojan', 'michał czernecki', 'mariusz ostrowski', 'robert gulaczyk', 'mirosław kropielnicki', 'helena englert', 'paulina gałązka', 'magdalena źak', 'tituss burgess', 'tom holland', 'bill skarsgård', 'riley keough', 'robert pattinson', 'mia wasikowska', 'jason clarke', 'sebastian stan', 'haley bennett', 'harry melling', 'eliza scanlen', 'mario casas', 'déborah françois', 'guillermo pfening', 'maría rodríguez soto', 'celso bugallo', 'raúl jiménez', 'pol monen', 'alice bocchi', 'martín bacigalupo', 'vanessa redgrave', 'bryony hannah', 'helen george', 'jenny agutter', 'pam ferris', 'laura main', 'judy parfitt', 'cliff parisi', 'stephen mcgann', 'ben caplan', 'miranda hart', 'jessica raine', 'max macmillan', 'victoria yeates', 'jack ashton', 'emerald fennell', 'linda bassett', ' ', 'michael mcintyre', ' ', 'ryan kiera armstrong', 'summer fontana', \"kevin j. o'connor\", 'tait blum', 'jon gries', 'branscombe richmond', 'rick overton', 'jonathan lajoie', 'chloe webb', 'greta jameson', 'ralf jameson', 'clementine laikin', 'felix laikin', 'natalia coronado', 'juan pablo medina', 'silvia navarro', 'roberto quijano', 'victoria viera', 'arantxa servín', 'aleyda gallardo', 'joaquín emanuel', 'abril michel', 'omar fierro', 'luis ernesto franco', 'patricia reyes spíndola', 'rodrigo murray', 'luis arrieta', 'alberto guerra', 'moisés arizmendi', 'david fridman', 'martha claudia moreno', 'ela velden', 'gonzalo garcía vivanco', 'mauricio argüelles', 'césar rodríguez', 'jonathan cohen', 'gérard darmon', 'julia piaton', 'liliane rovère', 'olivier rosemberg', 'ali marhyar', 'lina el arabi', 'louise coldefy', 'enrico macias', 'valérie damidot', 'patrick roche', 'natalie dormer', 'eddie marsan', 'felix auer', 'jeff burrell', 'harvey friedman', 'marty sander', 'ian odle', 'bryan larkin', 'unax ugalde', 'olivia molina', 'eleonora wexler', 'abel folk', 'ángela molina', 'manu fullola', 'daniel ibáñez', 'laura quirós', 'nicolás illoro', 'belén écija', 'juan blanco', 'yaima ramos', 'katherine ryan', 'rory keenan', 'katy byrne', 'doon mackichan', 'steen raskopoulos', 'michelle de swarte', 'sophie fletcher', 'merle dandridge', 'kim hawthorne', 'desiree ross', 'lamman rucker', 'tye white', 'lynn whitfield', 'deborah joy winans', 'keith david', 'lovie simone', 'gregory alan williams', 'oprah winfrey', 'madison reyes', 'charlie gillespie', 'owen patrick joyner', 'jeremy shada', 'jadah marie', 'sacha carlson', 'savannah lee may', 'cheyenne jackson', 'carlos ponce', 'booboo stewart', 'sonny bustamante', 'judah lewis', 'jenna ortega', 'emily alyn lind', 'andrew bachelor', 'robbie amell', 'bella thorne', 'hana mae lee', 'ken marino', 'leslie bibb', 'chris wylde', 'carl mcdowell', 'vikrant massey', 'shweta tripathi', 'nandu madhav', 'konkona sen sharma', 'biswapati sarkar', 'ritwik bhaumik', 'prabal panjabi', 'hansal mehta', 'fathia youssouf', 'médina el aidi-azouni', 'esther gohourou', 'ilanah cami-goursolas', 'myriam hamma', 'maïmouna gueye', 'mbissine thérèse diop', 'demba diaw', 'mamadou samaké', ' ', ' ', 'adrián suar', 'soledad villamil', 'gabriela toscano', 'alan sabbagh', 'darío barassi', 'magela zanotta', 'betiana blum', 'skyler gisondo', 'kara hayward', 'vincent kartheiser', 'yoo ah-in', 'park shin-hye', 'park bo-gum', 'park so-dam', 'byeon woo-seok', 'ha hee-ra', 'shin ae-ra', 'han jin-hee', 'shin dong-mi', 'lee chang-hoon', 'kwon soo-hyun', 'cho yu-jung', 'park su-young', 'seo sang-won', 'lee jae-won', ' ', 'sophia isabella', 'jeremy levy', 'jacob tillman', 'ryan andes', 'deanna mcgovern', 'dick terhune', 'craig fairbrass', 'george russo', 'robert glenister', 'izuka hoyle', 'mark monero', 'tomi may', 'eloise lovell anderson', 'taz skylar', 'nicholas aaron', 'hilary swank', 'josh charles', 'vivian wu', 'mark ivanir', 'ato essandoh', 'ray panthaki', 'talitha eliana bateman', 'jessie buckley', 'jesse plemons', 'toni collette', 'david thewlis', 'guy boyd', 'amber frank', 'bailey gambertoglio', 'sydney park', 'darcy rose byrnes', 'rhys darby', 'afonso padilha', 'rachael leigh cook', 'damon wayans jr.', 'heather graham', 'caitlin howden', 'brendan taylor', 'sebastian billingsley-rodriguez', 'sean amsing', 'lisa durupt', 'alvin sanders', 'jed rees', 'kandyse mcclure', 'adam pålsson', 'richard dillane', 'leanne best', 'ellise chappell', ' ', 'cornelia gröschel', 'tim oliver schultz', 'wotan wilke möhring', 'nina kunzendorf', 'frederic linkemann', 'finnlay berger', 'gisa flake', 'ralph herforth', 'thelma buabeng', 'son tung m-tp', 'henry cavill', 'anya chalotra', 'freya allan', 'lauren schmidt hissrich', 'eamon farren', 'mimi ndiweni', 'myanna buring', 'joey batey', 'adam levy', 'jodhi may', 'america young', 'erica lindbeck', 'ritesh rajan', 'dave fennoy', 'stephanie sheh', 'cristina milizia', 'desirae whitfield', 'emma galvin', 'angelo restaino', 'eamon brennan', 'ogie banks', 'marley dias', 'felipe esparza', 'monique hore', 'sophia morrison', 'peter mcallum', 'nicole shostak', 'jamie croft', 'beth armstrong', 'kate fitzpatrick', 'penny cook', 'charlotte hamlyn', 'tess meyer', 'jp karliak', 'pierce gagnon', 'alex cazares', 'kevin michael richardson', 'flula borg', 'rhys darby', 'wendie malick', 'jake green', 'francesco pannofino', 'alberto di stasio', 'gabriele fiore', 'giorgio colangeli', 'fabrizio sabatucci', 'veruska rossi', 'giulia cragnotti', 'siria simeoni', 'lidia vitale', 'daniele mariani', 'michael angelis', 'ben small', 'keith wickham', 'kerry shale', 'michela luci', 'jamie watson', 'eric peterson', 'anna claire bartlam', 'nicolas aqui', 'cory doran', 'julie lemieux', 'derek mcgrath', 'jacob gregory', 's.v. krishna shankar', 'shine tom chacko', 'vijayaraghavan', 'sri lakshmi', 'anupama parameswaran', 'dulquer salmaan', 'nazriya fahad', 'scott adkins', 'louis mandylor', 'vladimir kulich', 'marina sirtis', 'ski carr', 'charity collins', 'mayling ng', 'josef cannon', 'jermaine jacox', 'vernon wells', \"auli'i cravalho\", 'justina machado', 'rhenzy feliz', 'fred armisen', 'carol burnett', 'judy reyes', 'taylor richardson', 'c.s. lee', 'anthony jacques', ' ', 'masaba gupta', 'neena gupta', 'neil bhoopalam', 'rytasha rathore', 'smaran sahu', 'nayan shukla', 'pooja bedi', 'satyadeep misra', 'paulo americano', 'raul rosario', 'rapulana seiphemo', \"david o'hara\", 'hakeem kae-kazim', 'neide vieira', 'cigano satyohamba', 'nompilo gwala', 'javier rey', 'verónica echegui', 'brays efe', 'antonio resines', 'álex garcía', 'carlos areces', 'ernesto alterio', 'leonardo sbaraglia', 'kaolip', 'komegumi koiwasaki', 'maki tsuruta', 'sohta arai', 'rina inoue', 'shingo kato', 'yuki takahashi', 'jc lin', 'vera yen', 'summer meng', 'ning chang', 'ruby zhan', 'hsieh yi-hung', 'cheng ko', 'carolina gómez', 'marlon moreno', 'george slebi', 'geraldine zivic', 'andrea gómez', 'maría cecilia botero', 'juliana galvis', 'edwin maya', 'alejandro gutiérrez', 'viviana santos', 'michelle manterola', 'juan alfonso baptista', 'carolina cuervo', 'santiago felipe gomez', 'matias maldonado', 'kristina lilley', 'mauricio figueroa', 'ana wills', 'juan manuel diaz', 'ricardo mejia', 'orlando valenzuela', 'ana-maría sánchez', 'julieta villar', 'henry cavill', 'anya chalotra', 'freya allan', 'eamon farren', 'mimi ndiweni', 'adam levy', 'myanna buring', 'joey batey', 'lauren schmidt hissrich', 'tomasz bagiński', 'andrew laws', 'sneha koorse', 'declan de barra', 'beau demayo', 'simon emanuel', 'iván pohárnok', 'tim aslam', 'charlotte brändström', ' ', ' ', 'emily callandrelli', 'sky alexis', 'kennedi butler', 'arya darbahani', 'christopher farrar', 'alex jayne go', 'jayden langarcia', 'makenzie lee-foster', 'tenz mccall', 'zaela rae', 'mason wells', 'brianna hildebrand', 'kiana madeira', 'quintessa swindell', 'brandon butler', 'odiseas georgiadis', 'henry zaga', 'larry sullivan', 'larisa oleynik', 'bobby deol', 'bhupendra jadawat', 'hitesh bhojraj', 'anup soni', 'joy sengupta', 'sameer paranjape', 'ninad mahajani', 'prithvik pratap', 'tenoch huerta', 'eréndira ibarra', 'dale carley', 'ariane pellicer', 'johana blendl', 'dai liparoti', 'mauricio aspe', 'nick zedd', 'jake johnson', 'ron funches', 'cleo king', 'natasha leggero', 'a.d. miles', 'rob riggle', 'steve berg', 'eric edelstein', 'ben hoffman', 'mary holland', 'gil ozeri', 'sam richardson', 'nick swardson', 'mike hall', 'michael daingerfield', 'sadie stanley', 'maxwell simkins', 'ken marino', 'malin akerman', 'cree cicchino', 'lucas jaye', 'karla souza', 'enuka okuma', 'erik griffin', 'joe manganiello', 'seola', 'lee hyun-joo', 'song chae-yun', 'han ga-rim', 'shim so-young', ' ', 'cecilia roth', 'miguel ángel solá', 'benjamín amadeo', 'sofía gala castiglione', 'yanina ávila', 'marcelo subiotto', 'paola barrientos', 'diego cremonesi', 'claudio martínez bel', ' ', ' ', 'anamaya verma', 'arushi talwar', 'ganesh divekar', 'jigna bhardwaj', 'krishna dasadiya', 'neshma chemburkar', 'manoj pandey', 'parminder ghumman', 'pranav vaidya', 'saumya daan', 'sonal kaushal', 'sumriddhi shukla', 'gading marten', 'dian sastrowardoyo', 'faradina mufti', 'boris bokir', 'kevin ardilova', 'shakira jasmine', 'asri welas', 'arswendi bening swara', 'kiki narendra', 'ibnu jamil', 'ricardo hurtado', 'monica ray', 'luke youngblood', 'scott  kreamer', 'dan milano', 'gunnar sizemore', 'zehra fazal', 'sandeep parikh', 'seung-woo cho', 'doona bae', 'joon-hyuk lee', 'kyeong-yeong lee', 'jae-myung yoo', 'hye-sun shin', 'mille dinesen', 'carsten bjørnlund', 'lise baastrup', 'nikolaj groth', 'ellen hillingsø', 'morten vang simonsen', 'lykke sand michelsen', 'carsten norgaard', 'sara hjort ditlevsen', 'alexandre willaume', 'joão miguel', 'bianca comparato', 'michel gomes', 'rodolfo valente', 'vaneza oliveira', 'rafael lozano', 'viviane porto', 'mel fronckowiak', 'sergio mamberti', 'zezé motta', 'celso frateschi', ' ', 'yara shahidi', 'miles robbins', 'miguel j. pimentel', 'gabrielle union', 'jadakiss', 'tom kenny', 'angie martinez', 'harland williams', 'fat joe', 'amari mccoy', 'dwyane wade', 'teresa gallagher', 'simon greenall', 'keith wickham', 'rob rackstraw', 'michael murphy', 'jo wyatt', 'helen walsh', 'andres williams', 'paul panting', 'jamie foxx', 'joseph gordon-levitt', 'dominique fishback', 'rodrigo santoro', 'courtney b. vance', 'amy landecker', 'machine gun kelly', 'tait fletcher', 'allen maldonado', 'andrene ward-hammond', 'anjelica bette fellini', 'maddie phillips', 'kadeem hardison', 'virginia williams', 'mackenzie astin', 'shirley rumierk', 'myles evans', 'devon hales', 'spencer house', 'eric graise', 'charity cervantes', 'wynn everett', 'method man', 'andrés parra', 'christian tappan', 'marcela benjumea', 'juan sebastián calero', 'waldo urrego', 'rodrigo jerez', 'katherine vélez', 'paula castaño', 'pedro suárez', 'édgar vittorino', 'ramsés ramos', 'juan pablo barragán', ' ', 'janhvi kapoor', 'pankaj tripathi', 'angad bedi', 'viineet kumar', 'manav vij', 'ayesha raza mishra', 'rob schneider', 'loretta devine', 'tia mowry-hardrict', 'anthony alabi', 'paul wight', 'allison munn', 'gabriel iglesias', 'sherri shepherd', 'paulina chávez', 'jencarlos canela', 'leslie bibb', 'josh duhamel', 'nora dunn', 'sharon lawrence', 'callie hope haverda', 'roxton garcia', 'alexandra daddario', 'amy forsyth', 'keean johnson', 'maddie hasson', 'logan miller', 'austin swift', 'johnny knoxville', 'allison mcatee', 'tanner beard', 'felicitas woll', 'janina uhse', 'jan sosniok', 'matthias klimsa', 'sandra borgmann', 'kai lentrodt', 'armin rohde', 'gitta schweighöfer', 'kailas mahadevan', 'ivana baquero', 'jon kortajarena', 'alejandra onieva', 'eloy azorín', 'chiqui fernández', 'tamar novas', 'daniel lundh', 'manuela vellés', 'natalia rodríguez', 'laura prats', 'ignacio montes', 'begoña vargas', 'luis bermejo', 'pepe ocio', 'ben temple', 'félix gómez', \"antonio durán 'morris'\", 'eduardo blanco', 'josé sacristán', ' ', 'palina rojinski', 'kate mckinnon', 'matthew mucci', 'mikaela blake', 'gabby clarke', 'roman lutterotti', 'leke maceda-rustecki', 'birva pandya', 'lynsey pham', 'kaden stephen', 'mike colter', \"colin o'donoghue\", 'david bradley', 'lena headey', 'emile hirsch', 'lexi medrano', 'steven yeun', 'alfred molina', 'james faulkner', 'stephanie beatriz', 'john rhys-davies', ' ', 'sabrina carpenter', 'jordan fisher', 'liza koshy', 'keiynan lonsdale', 'michelle buteau', 'drew ray tanner', 'natalia oreiro', 'alba august', 'lucas lynggaard tønnesen', 'mikkel boe følsgaard', 'lukas løkken', 'jessica dinnage', 'sonny lindberg', 'angela bundalovic', 'lars simonsen', 'nicolas anelka', ' ', 'alan c. lim', 'smith foreman', 'abigail vibat', 'pfifer chastain', 'jim capobianco', 'neena-sinaii simpo', 'eli morse', 'adelaide hirasaki', 'paul killam', 'kerry gudjohnsen', 'maisie benson', 'ricardo hurtado', 'breanna yde', 'jackie r. jacobson', 'abby donnelly', 'alkoya brunson', 'jeff meacham', 'ella gross', 'carlos sanson', 'jt neal', 'camaron engels', 'kirrilee berger', 'felipe castanhari', 'lilian regina', 'bruno miranda', 'guilherme briggs', 'sam jay', ' ', 'scott evans', 'augustus prew', 'kate walsh', 'michelle buteau', 'zoë chao', 'patricia clarkson', 'colin donnell', 'christopher gray', 'morgan wigle', 'tom hulshof', 'helena marie', 'shawn thompson', 'natasha zaborski', 'ajanae stephenson', 'francesca van keekan', 'jordan clark', 'will yun lee', 'jermaine love', 'rory markham', 'bertrand-xavier corbi', 'katie keene', 'fernando chien', 'gina decesare', 'michael blalock', 'chris mulkey', 'stephen lang', 'elyse maloway', 'vincent tong', 'erin mathews', 'andrea libman', 'alessandro juliani', 'nicole anthony', 'diana kaarina', 'gigi saul guerrero', 'asia mattu', 'rukiya bernard', 'elicia mackenzie', 'ian james corlett', 'britt mckillip', 'adam andrianopolous', 'pierce cravens', 'xander crowell', 'paul guyet', 'michael hansen', 'mason hensley', 'courtney shaw', 'alan trinca', 'keyon williams', 'andy zou', 'tumi morake', 'kim adis', 'mia mckenna-bruce', 'bethany antonia', 'jessica alexander', 'ashley bornancin', 'carter hastings', 'nawazuddin siddiqui', 'radhika apte', 'khalid tyabji', 'aditya srivastava', 'padmavati rao', 'shivani raghuvanshi', 'nishant dahiya', 'shweta tripathi', 'gyanendra tripathi', 'shreedhar dubey', 'swanand kirkire', 'riya shukla', 'tigmanshu dhulia', 'ila arun', 'natasha rastogi', 'fulu mugovhani', 'tumi morake', 'bohang moeko', 'yonda thomas', 'hunter march', 'candace nelson', 'adriano zumbo', 'hunter march', ' ', 'jake foushee', 'jason marnocha', 'linsay rousseau', 'joe zieja', 'frank todaro', 'bill rogers', 'keith silverstein', 'edward bosco', 'satya dev', 'vk naresh', 'raghavan', 'suhas p', 'ravindra vijay', 'chandana koppisetti', 'roopa koduvayur', 'kushalini pulapa', 'anusorn maneethet', 'atsadaporn siriwattanakul', 'waratthaya wongchayaporn', 'thanawetch siriwattanakul', 'pokchat thiamchai', 'phichikorn ployphimana', 'supachai suwanon', 'daraneenuch pasutanavin', 'kittiphong dumavibhat', 'aphiradi phawaphutanon', 'attharut krongrasri', 'ronnawee sereerat', 'lita janvarapa', 'sitang punnapob', 'yani tramod', 'o.c. ukeje', 'indira nascimento', 'paulo andré', 'ike barry', 'chukwudi iwuji', 'maciej musiałowski', 'agata kulesza', 'danuta stenka', 'vanessa aleksander', 'maciej stuhr', 'jacek koman', 'adam gradowski', 'piotr biedron', 'martynika kosnica', ' ', 'john franklin iii', 'dj law', 'buddy stephens', 'brittany wagner', 'ronald ollie', 'hannah marks', 'liana liberato', 'dylan sprouse', 'luke spencer roberts', 'jessica hecht', 'addison riecke', 'meagan kimberly smith', 'haley ramm', 'dolly ahluwalia', 'manu rishi chadha', 'mahie gill', 'shardul rana', 'archita sharma', 'rajesh sharma', 'supriya shukla', 'mehak manwani', 'henry lau', 'peter ho', 'lin chenhan', 'jiang luxia', 'ming hu', 'him law', 'shi shi', 'mark cheng', 'wang ziyi', 'xu minghu', 'emily blunt', 'john krasinski', 'ian mckellen', 'danny devito', 'raven-symoné', 'patrick warburton', 'wallace shawn', 'gilbert gottfried', 'tara strong', 'harvey fierstein', 'james arnold taylor', 'kevin grevioux', 'sylvester stallone', 'lydia rose taylor', 'noah kaye bentley', 'brennley brown', 'zach callison', 'nicolas cantu', 'skai jackson', 'marsai martin', 'andre robinson', 'carlos alazraqui', 'renée elise goldsberry', 'marta etura', 'leonardo sbaraglia', 'carlos librado \"nene\"', 'francesc orella', 'imanol arias', 'álvaro cervantes', 'itziar aizpuru', 'benn northover', 'marta larralde', 'alicia sánchez', 'eduardo rosa', 'angel alkain', 'ana wagener', 'paco tous', 'patricia lópez arnaiz', 'pedro casablanc', 'issey takahashi', 'yuu aoi', 'kenta hamano', 'toko miura', 'koji ohkura', 'pierre taki', 'eri watanabe', 'kitaro', 'ricky merino', 'joey king', 'joel courtney', 'jacob elordi', 'molly ringwald', 'taylor zakhar perez', 'maisie richardson-sellers', 'meganne young', 'hong bum-ki', 'eddy lee', 'kang shi-hyun', 'ahn hyo-min', 'kim yeon-woo', 'choi nak-yoon', 'tom wayland', 'erica schroeder', ' ', 'kåre conradi', 'silje torp', 'nils jørgen kaalstad', 'marian saastad ottesen', 'trond fausa', 'kristine riis', 'jon øigarden', 'henrik mestad', 'øystein martinsen', 'mikkel bratt silset', 'mads jørgensen', 'nikis theophilakis', 'jack whitehall', ' ', 'katherine langford', 'devon terrell', 'gustaf skarsgård', 'daniel sharman', 'sebastian armesto', 'lily newmark', 'shalom brune-franklin', 'matt stokoe', 'bella dayne', 'peter mullan', 'emily coates', ' ', 'perry mattfeld', 'brooke markham', 'casey deidrick', 'keston john', 'morgan krantz', 'rich sommer', 'thamela mpumlwana', 'saycon sengbloh', 'kathleen york', 'derek webster', 'caio horowicz', 'iza moreira', 'michel joelsas', 'denise fraga', 'thomás aquino', 'luana nastas', 'esther tinman', 'kevin vechiatto', 'grace passô', 'bianca byington', 'bruno garcia', 'flávio tolezani', 'carolina del carmen peleritti', 'nia long', 'omar epps', 'stephen bishop', 'maya stojan', 'aubrey cleland', 'carolyn hennesy', 'maite perroni', 'erik hayser', 'alejandro speitzer', 'maría fernanda yepes', 'jorge poza', 'regina pavón', 'paulina matos', 'leticia huijara', 'claudia pineda', 'esteban soberanes', 'claudia ríos', 'samantha orozco', 'fabián merlo', 'eligio meléndez', 'carmen beato', 'carlos torres', 'toño valdés', ' ', ' ', 'valerio mastandrea', 'riccardo scamarcio', 'laura chiatti', 'valentina cervi', 'marina foïs', 'euridice axen', 'massimiliano gallo', 'alessia giuliani', 'amaryllis fox', 'urzila carlson', ' ', ' ', 'zac efron', 'darin olien', ' ', 'nat faxon', 'jay gragnani', 'ramone hamilton', 'sean astin', 'dayci brookshire', 'jorge diaz', 'peter hastings', 'evan kishiyama', 'david koechner', 'erica luttrell', 'brennan murray', 'nolan north', 'gary anthony williams', 'secunda wood', 'charlize theron', 'kiki layne', 'marwan kenzari', 'luca marinelli', 'harry melling', 'van veronica ngo', 'matthias schoenaerts', 'chiwetel ejiofor', 'reina ueda', 'tomo muranaka', 'yuko sasaki', 'masaki terasoma', 'hiroyuki yoshino', 'kensho ono', 'çağatay ulusoy', 'ayça ayşin turan', 'hazar ergüçlü', 'okan yalabık', 'mehmet kurtuluş', 'yurdaer okur', 'song ji-hyo', 'son ho-jun', 'song jong-ho', 'koo ja-sung', 'kim min-jun', 'kim da-som', 'kim mee-kyung', 'um chae-young', 'kim young-ah', 'kim byung-choon', 'walter mercado', 'yvonne strahovski', 'jai courtney', 'cate blanchett', 'asher keddie', 'fayssal bazzi', 'dominic west', 'jim jefferies', 'pnl', 'peemapol panichtamrong', 'phiravich attachitsataporn', 'thime pichitsurakit', 'jidapa siribunchawan', 'yanin opassathaworn', 'jaturong kolimart', 'pete thongchua', 'ratchanont sukpragawp', 'kanyaphak pongsak', 'kittikun tansuhas', 'tanawat cheawaram', 'toru takizawa', 'noraworn puangumpai', 'swapnil kumari', 'jigna bhardwaj', 'sonal kaushal', 'neshma chemburkar', 'ganesh divekar', 'shaily dube', 'saumya daan', 'anamaya verma', 'parminder ghumman', 'pawan kalra', 'nasim pedrad', 'anna camp', 'lamorne morris', 'heather graham', 'robbie amell', 'sarah burns', 'jessica chaffin', 'adipati dolken', 'ganindra bimo', 'donny alamsyah', 'vonny cornellya', 'tania staite', 'maurice bryrne', 'kevin bzezovski taroreh', 'yoshiyoshi arakawa', 'yuina kuroshima', 'ririka', 'koki osamura', 'seiko iwaido', 'kai inowaki', 'ryushin tei', 'yuya matsuura', 'kaho tsuchimura', 'takemi fujii', 'ryota matsushima', 'haruka kubo', 'shinsuke kato', 'nana yanagisawa', 'atom shukugawa', 'yura anno', 'tokio emoto', 'nobuko sendo', 'kana kurashina', ' ', 'sophie grace', 'momona tamada', 'shay rudolph', 'malia baker', 'xochitl gomez', 'alicia silverstone', 'mark feuerstein', 'marc evan jackson', 'aya furukawa', 'jessica elaina eason', 'thiago ventura', 'alba baptista', 'toya turner', 'lorena andrea', 'kristina tonteri-young', 'tristán ulloa', 'luis tosar', 'anna castillo', 'álvaro cervantes', 'miquel fernández', 'jesús carroza', 'moustapha oumarou', 'adam nourou', 'zayidiyya dissou', 'ana wagener', 'nora navas', 'jeremiah brent', 'thai nguyen', 'gabriele bertaccini', 'cristiano caccamo', 'lorenzo zurzolo', 'ludovica martino', 'davide calgaro', 'matteo oscar giuggioli', 'saul nanni', 'fotinì peluso', 'claudia tranchese', 'isabella ferrari', 'luca ward', 'andrea roncato', 'giulia schiavo', 'maria luisa de crescenzo', 'sergio ruggeri', 'rosanna sapia', 'tommaso paradiso', 'sumire morohoshi', 'yoshimasa hosoya', 'maria naganawa', 'kaito ishikawa', 'gara takashima', 'michiyo murase', 'george lopez', ' ', 'adipati dolken', 'mawar de jongh', 'sari nila', 'vonny cornellya', 'clay gribble', 'ivan leonardy', 'sarah sechan', 'jourdy pranata', 'louis hofmann', 'oliver masucci', 'jördis triebel', 'maja schöne', 'karoline eichhorn', 'sebastian rudolph', 'anatole taubman', 'mark waschke', 'stephan kampwirth', 'anne ratte-polle', 'andreas pietschmann', 'lisa vicari', 'michael mendl', 'angela winkler', 'teresa palmer', 'sam neill', 'sullivan stapleton', 'stevie payne', 'brooke satchwell', 'magda szubanski', 'aaron glenane', 'damien garvey', 'sophia crawford', 'henry nixon', 'ana maría estupiñán', 'carlos torres', 'yuri vargas', 'jim muñoz', 'julio sánchez cóccaro', 'alina lozano', 'valeria gálviz', 'juan millán', 'juan del río', 'mario duarte', 'will ferrell', 'rachel mcadams', 'dan stevens', 'melissanthi mahut', 'mikael persbrandt', 'ólafur darri ólafsson', 'graham norton', 'demi lovato', 'pierce brosnan', ' ', 'lee seung-gi', 'jasper liu', 'siddhu jonnalagadda', 'shraddha srinath', 'seerat kapoor', 'shalini vadnikatti', 'jhansi', 'viva harsha', 'sampath raj', 'samyuktha hornad', ' ', 'tripti dimri', 'avinash tiwary', 'rahul bose', 'parambrata chatterjee', 'paoli dam', 'veera kapur ee', 'jayde adams', 'carla hall', 'heston blumenthal', 'niklas ekstedt', 'jorge garcía', 'millaray lobos', 'luis gnecco', 'alejandro goic', 'gastón pauls', 'eduardo paxeco', 'eric andré', 'jeanine mason', 'nathan parsons', 'michael vlamis', 'lily cowles', 'tyler blackburn', 'heather hemmens', 'michael trevino', 'trevor st. john', 'anna ben', 'roshan mathew', 'sreenath bhasi', 'sudhi koppa', 'tanvi ram', 'musthafa', 'james eliya', 'vijilesh', 'kim soo-hyun', 'seo yea-ji', 'oh jung-se', 'park gyu-young', 'kim ju-hun', 'kim chang-wan', 'kim mee-kyung', 'kang ki-doong', 'jang young-nam', ' ', 'jitendra kumar', 'ritika badiani', 'yogendra tikku', 'bhuvan arora', 'alam khan', 'dhirendra tiwari', 'ashwani kumar', 'bhagwan tiwari', ' ', 'sofia carson', 'wolfgang novogratz', 'donna lynne champlin', 'eva hauge', 'rex lee', 'brandon kyle goodman', 'lidya jewett', 'sadie lapidus', 'johanna colón', 'shaylee mansfield', 'shiloh nelson', 'justin allan', 'carina battrick', 'kai zen', 'marissa jaret winokur', 'enrico colantoni', 'dennis andres', 'rutledge wood', 'alban lenoir', 'nicolas duvauchelle', 'ramzy bedia', 'stéfi celma', 'rod paradot', 'sébastien lalanne', 'pascale arbillot', 'arthur aspaturian', 'patrick médioni', 'maria casadevall', 'pathy dejesus', 'fernanda vasconcellos', 'mel lisboa', 'leandro lima', 'ícaro silva', 'gustavo vaz', 'alexandre cioletti', 'gustavo machado', 'dilan çiçek deniz', 'metin akdülger', 'ben platt', 'gwyneth paltrow', 'jessica lange', 'zoey deutch', 'lucy boynton', 'bob balaban', 'david corenswet', 'julia schlaepfer', 'laura dreyfuss', 'theo germaine', 'rahne jones', 'benjamin barrett', 'penélope cruz', 'edgar ramírez', 'wagner moura', 'gael garcía bernal', 'ana de armas', 'leonardo sbaraglia', 'mirai shida', 'natsuki hanae', 'hiroaki ogi', 'koichi yamadera', 'minako kotobuki', 'susumu chiba', 'ayako kawasumi', 'sayaka ohara', 'daisuke namikawa', 'jean maggi', 'bnk48', 'jake manley', 'sarah grey', 'max martini', 'matt frewer', 'adam dimarco', 'katharine isabelle', 'louriza tronco', 'aaron hale', 'devery jacobs', 'thomas elms', 'dylan playfair', 'ian tracey', 'sam trammell', 'john schneider', 't.c. stallings', 'grace van dien', 'marisa brown', 'jimmy deshler', 'paris berelc', 'isabel may', 'tiffani thiessen', 'emery kelly', 'jolie jenkins', 'kerri medders', 'finn carr', 'eddie shin', 'vikram prabhu', 'subbaraju', 'mahima nambiar', 'yogi babu', 'jagan', 'viola davis', 'billy brown', 'alfred enoch', 'jack falahee', 'katie findlay', 'aja naomi king', 'matt mcgorry', 'karla souza', 'charlie weber', 'liza weil', 'iqbaal ramadhan', 'vanesha prescilla', 'ira wibowo', 'bucek', 'happy salma', 'farhan', 'maudy koesnaedi', 'jerome kurnia', 'sayani gupta', 'lin laishram', 'tenzing dalha', 'dolly ahluwalia', 'vinay pathak', 'lanuakam ao', 'rohan joshi', 'adil hussain', 'asenla jamir', 'delroy lindo', 'jonathan majors', 'clarke peters', 'norm lewis', 'isiah whitlock jr.', 'mélanie thierry', 'paul walter hauser', 'jasper pääkkönen', 'johnny nguyen', 'chadwick boseman', ' ', 'bill burr', 'laura dern', 'justin long', 'debi derryberry', 'sam rockwell', 'klaas heufer-umlauf', 'joko winterscheidt', 'lena meyer-landrut', 'charlotte roche', 'daniel brühl', 'frank elstner', 'jo koy', 'andrew lopez', 'joey guila', 'andrew orolfo', 'darío yazbek', 'diana bovio', 'regina blandón', 'adrián ladrón', 'verónica bravo', 'antonio arochi', 'mario alberto monroy', 'vianey rodríguez', 'maría aura', 'daniel haddad', 'fernando bonilla', 'olinca velázquez', 'damayanti quintanar', 'adriana llabrés', 'alejandro calva', 'silverio palacios', 'edmundo vargas', 'anabel ferreira', 'grzegorz damięcki', 'agnieszka grochowska', 'hubert miłkowski', 'wiktoria filus', 'jacek koman', 'krzysztof zarzecki', 'ewa skibińska', 'martyna byczkowska', 'roman gancarczyk', 'adam wietrzyński', 'valeria bilello', 'luca lionello', 'federico russo', 'margherita morchio', 'anna ferzetti', 'alessandro tedeschi', 'juju di domenico', 'giulio brizzi', 'max malatesta', 'victor garber', 'brandon routh', 'caity lotz', 'franz drameh', 'amy pemberton', 'dominic purcell', 'maisie richardson-sellers', 'nick zano', 'arthur darvill', 'wentworth miller', 'tala ashe', 'adam tsekhman', 'christina brucato', 'simon merrells', 'nils hognestad', 'jes macallan', 'keiynan lonsdale', ' ', 'ana hartmann', 'sabrina sato', 'luellem de castro', 'guilherme weber', 'emílio de mello', 'ravel andrade', 'joão pedro zappa', 'julia ianina', 'pierre baitelli', 'jesus luz', 'carla ribas', 'wallie ruy', 'gabriel canella', 'natália rosa', 'priscila assum', 'teca pereira', 'leandro daniel', 'hanna romanazzi', 'arlinda di baio', 'erom cordeiro', 'enzo romani', 'anna-maria sieklucka', 'michele morrone', 'bronisław wrocławski', 'otar saralidze', 'magdalena lamparska', 'natasza urbańska', 'grażyna szapołowska', 'tomasz stockinger', 'gianni parisi', 'mateusz łasowski', 'tovino thomas', 'mamtha mohandas', 'renji panicker', 'saiju kurup', 'reba monica john', 'pratap pothen', 'giju john', 'sreekanth murali', 'tye sheridan', 'ana de armas', 'helen hunt', 'john leguizamo', 'johnathon schaech', 'jacque gray', 'dylan minnette', 'katherine langford', 'kate walsh', 'derek luke', \"brian d'arcy james\", 'alisha boe', 'christian navarro', 'miles heizer', 'ross butler', 'devin druid', 'michele selene ang', 'steven silver', 'amy hargreaves', 'saiyami kher', 'roshan mathew', 'amruta subhash', 'upendra limaye', 'tushar dalvi', 'rajshri deshpande', 'vaisnavi rp', 'uday nene', 'parthveer shukla', 'sanjay bhatia', 'aditya kumar', 'milind pathak', 'bobby berk', 'karamo brown', 'tan france', 'antoni porowski', 'jonathan van ness', 'edgar ramírez', 'michael pitt', 'anna brewster', 'patrick bergin', 'sharlto copley', 'brandon auret', 'tamer burjaq', 'terence maynard', 'james richard marshall', 'nobunaga shimazaki', 'takayuki sugo', 'bin shimada', 'rikiya koyama', 'takuya eguchi', 'banjo ginga', 'takehito koyasu', 'kenjiro tsuda', 'chafurin', 'issei futamata', 'mugihito', 'yoshihisa kawahara', 'sora amamiya', 'toru furuya', ' ', 'michela luci', 'jamie watson', 'eric peterson', 'anna claire bartlam', 'nicolas aqui', 'cory doran', 'julie lemieux', 'derek mcgrath', 'sunny pawar', 'chandan roy sanyal', 'gautam sarkar', 'sumeet thakur', 'mala mukherjee', 'masood akhtar', 'veer rajwant singh', 'joyraj bhattacharya', 'kenny sebastian', 'steve carell', 'john malkovich', 'ben schwartz', 'diana silvers', 'tawny newsome', 'jimmy o. yang', 'don lake', 'lisa kudrow', 'fred willard', 'spencer house', 'owen daniels', 'hector duran', 'chris gethard', 'aparna nancherla', 'wataru takagi', 'reina kondo', 'kenyu horiuchi', 'yoshimasa hosoya', 'yu kobayashi', 'kengo takanashi', 'miyu tomita', 'toru nara', 'mitsuhiro ichiki', 'hisao egawa', 'soungdok', 'mayu udono', 'anri katsu', 'shinichiro miki', 'hozumi goda', 'tetsu inada', 'takuma terashima', 'ryohei kimura', 'yuki kaji', 'luisana lopilato', 'joaquín furriel', 'rafael ferro', 'maite lanata', 'juan manuel guilera', 'abel ayala', 'sebastián mogordoy', 'delfina chaves', 'marita ballesteros', 'miriam odorico', 'hannah gadsby', 'viineet kumar', 'aahana kumra', 'suchitra pillai', 'jatin goswami', 'siddharth menon', 'manjiri pupala', 'yashwant wasnik', 'savita bajaj', 'jitendra joshi', 'syna anand', 'rachel amanda', 'rio dewanto', 'shelia dara', 'donny damara', 'susan bachtiar', 'oka antara', 'niken anjani', 'ardhito pramono', 'rano karno', 'cornelia agatha', 'maudy koesnaedi', 'suty karno', 'mandra naih', 'aminah tjendrakasih', 'rey bong', 'akhmad zulhoir mardia', ' ', 'issa rae', 'kumail nanjiani', 'paul sparks', 'anna camp', 'kyle bornheimer', 'nicholas x. parsons', 'andrene ward-hammond', 'catherine cohen', 'barry rothbart', 'mike smith', 'john paul tremblay', 'robb wells', 'john dunsworth', 'pat roach', 'cory bowles', 'jacob rolfe', 'tyrone parsons', 'sarah dunsworth', 'jeanna harrison', 'marguerite mcneil', 'hwang jung-eum', 'yook sung-jae', 'choi won-young', 'lee jun-hyeok', 'jeong da-eun', 'na in-woo', 'yeom hye-ran', 'park eun-hye', 'park si-eun', 'song geon-hee', 'kim hee-jung', 'ahn tae-hwan', 'ben platt', ' ', 'gustavo egelhaaf', 'alejandro suárez', 'bárbara de regil', 'mauricio argüelles', 'césar rodríguez', 'fernando becerril', 'anna carreiro', 'carlos macías', 'josé sefami', 'raquel garza', 'essined aponte', 'emmanuel esparza', 'kepa amuchastegui', 'manuel navarro', 'aroha hafez', 'ilenia antonini', 'alejandro rodríguez', 'cristina warner', 'juliette arrieta', 'fernando campo', 'camilo jiménez', 'jairo camargo', 'adelaida buscato', 'yashaswini dayama', 'karanvir malhotra', 'abhay deol', 'priyanka bose', 'monica dogra', 'sulabha arya', 'manu rishi chadha', 'ananya melkote', 'patton oswalt', 'bob rubin', 'joanna garcia swisher', 'brooke elliott', 'heather headley', 'chris klein', 'justin bruening', 'logan allen', 'anneliese judge', 'carson rowland', 'jamie lynn spears', 'dion johnstone', 'natasia demetriou', 'vic reeves', 'kristen griffith-vanderyacht', 'hasan minhaj', 'eric cantona', 'suzanne clément', 'alex lutz', 'gustave kervern', 'alice de lencquesaing', 'louise coldefy', 'nicolas martinez', 'adama niane', 'justin willman', 'aimee carrero', 'aj michalka', 'marcus scribner', 'karen fukuhara', 'reshma shetty', 'lorraine toussaint', 'keston john', 'lauren ash', 'christine woods', 'morla gorrondona', 'antony del rio', 'dana davis', 'grey griffin', 'genesis rodriguez', 'jordan fisher', 'vella lovell', 'merit leighton', 'sandra oh', 'krystal joy brown', 'numthip jongrachatawiboon', 'vorarit fuangarom', 'bhumibhat thavornsiri', 'thanongsak suphakan', 'kanjanaporn plodpai', 'tosatid darnkhuntod', 'boonsong nakphoo', 'arachaporn pokinpakorn', 'annita sarucha', 'chidsanupong sakulnuntipat', 'nisawan silpapearsue', 'porntip tipsiri', 'thana srisuke', 'laura haddock', 'nuno lopes', 'marta milans', 'laurence fox', 'daniel mays', 'angela griffin', 'juan diego botto', 'pedro casablanc', 'belén lópez', 'barry ward', 'tom rhys harries', 'anil kapoor', 'aditya roy kapur', 'disha patani', 'kunal khemu', 'makrand deshpande', 'vatsal seth', 'amruta khanvilkar', 'shaad randhawa', 'david spade', 'lauren lapkus', 'nick swardson', 'geoff pierson', 'jackie sandler', 'sarah chalke', 'rob schneider', 'chris witaske', \"joe anoa'i\", 'molly sims', 'michela luci', 'jamie watson', 'eric peterson', 'anna claire bartlam', 'nicolas aqui', 'cory doran', 'julie lemieux', 'derek mcgrath', 'ellie kemper', 'jane krakowski', 'tituss burgess', 'carol kane', 'jon hamm', 'daniel radcliffe', 'lauren adams', 'sara chase', 'sol miranda', 'amy sedaris', 'mike carlsen', 'dylan gelula', 'chris parnell', 'heidi gardner', 'jack mcbrayer', 'zak orth', 'fred armisen', 'johnny knoxville', 'nick offerman', 'adam scott', ' ', 'terry crews', 'ludacris', 'jamila velazquez', 'j.j. soria', 'ken foree', 'daffany clark', 'kimberly hébert-gregory', 'tyler alvarez', 'vittoria puccini', 'benedetta porcaroli', 'edoardo leo', 'sara lazzaro', 'marco messeri', 'betty pedrazzi', 'alessandro giallocosta', 'filippo gili', 'giacomo rosselli', 'christina applegate', 'linda cardellini', 'james marsden', 'max jenkins', 'sam mccarthy', 'luke roessler', 'edward asner', 'nick liberato', 'karin bohn', 'dennis prescott', 'andré holland', 'joanna kulig', 'amandla stenberg', 'leïla bekhti', 'tahar rahim', 'benjamin biolay', 'adil dehbi', 'melissa george', 'lada obradovic', 'tchéky karyo', 'randy kerber', 'elyes aguis', 'damian nueva cortes', 'adrian petriw', 'ashleigh ball', 'connor parnall', 'mark hildreth', 'alex barima', 'jesse moss', 'diana kaarina', 'brian dobson', 'he xiaofeng', 'jiang guangtao', 'duan yixuan', 'zhu rongrong', 'wen sen', 'jiang huiqin', 'ban ma', 'ronny chieng', 'shinji saito', 'daniel sosa', 'michelle obama', 'yiddá eslava', 'julián zucchi', 'andrés salas', 'magdyel ugaz', 'pietro sibille', 'saskia bernaola', 'sebastián monteghirfo', 'mayra olivera', 'jerry seinfeld', 'luccas neto', 'giovanna alparone', 'jéssica diehl', 'vivian duarte', 'sebastián wainraich', 'natalie pérez', 'santiago korovsky', 'ricardo quevedo', 'nelson polanía', 'liss pereira', 'brian moreno', 'ana cristina botero', 'jairo ordóñez', 'luis alberto saavedra', 'blanca ligia franco', 'marianne schaller romero', 'shirley marulanda', ' ', 'josh swickard', 'casper van dien', 'lorynn york', 'christina moore', 'john schneider', 'michael roark', 'shane graham', 'cooper lundeen', 'javicia leslie', 'spencer neville', 'jacqueline toboni', \"michael o'neill\", 'tyler jacob moore', 'christopher mcdonald', \"sean o'bryan\", 'blake sheldon', 'zoe kanters', 'greg perrow', 'tanner thomason', 'jeffrey wright', 'ashton sanders', 'regina taylor', 'yahya abdul-mateen ii', 'isaiah john', 'kelly jenrette', 'shakira ja-nai paye', 'alan c. lim', 'maisie benson', 'kerry gudjohnsen', 'terrance smith', 'paul killam', 'omari weaver', 'ella joy ballesteros', 'smith foreman', 'stanley moore', 'david corenswet', 'darren criss', 'patti lupone', 'jeremy pope', 'jim parsons', 'laura harrier', 'joe mantello', 'dylan mcdermott', 'jake picking', 'holland taylor', 'samara weaving', 'jacqueline fernandez', 'manoj bajpayee', 'mohit raina', 'zayn marie khan', 'kayne tremills', 'nia roam', 'david collins', 'shane dundas', 'udhayanidhi stalin', 'aditi rao hydari', 'nithya menon', 'ram', 'rajkumar pitchumani', 'leah lewis', 'daniel diemer', 'alexxis lemire', 'wolfgang novogratz', 'collin chou', 'becky ann baker', 'enrique murciano', 'macintyre dixon', 'catherine curtin', 'joseph may', 'keith wickham', 'yvonne grundy', 'jules de jongh', 'rachael louise miller', 'rob rackstraw', 'mike grady', 'joseph may', 'keith wickham', 'yvonne grundy', 'matt mccooey', 'joe swash', 'jules de jongh', 'rob rackstraw', 'rachael louise miller', 'mike grady', 'siu-see hung', 'rosamund pike', 'joseph may', 'keith wickham', 'sharon miller', 'jules de jongh', 'rachael louise miller', 'rob rackstraw', 'camila mendes', 'jessie t. usher', 'jamie chung', 'cam gigandet', 'sasha alexander', 'elliott gould', 'tomoaki maeno', 'sora amamiya', 'soma saito', 'kana hanazawa', 'junichi suwabe', 'tomokazu seki', 'takahiro sakurai', 'kohsuke toriumi', 'rie kugimiya', 'kentaro kumagai', 'makoto furukawa', 'takashi matsuyama', 'shunsuke takeuchi', 'yuto uemura', 'chinatsu akasaki', 'junya enoki', 'kazuhiko inoue', 'hiroo sasaki', 'danilo mesquita', 'giovanna lancellotti', 'jaffar bambirra', 'lellê', 'ernani moraes', 'gillray coutinho', 'jeniffer dias', 'bruna griphao', 'fernanda paes leme', 'kippei shiina', 'shinnosuke mitsushima', 'kyooko hinami', 'eri kamataki', 'young dais', 'natsuki kawamura', 'yuzuka nakaya', 'dai hasegawa', 'chiho fujii', 'sei matobu', 'denden', 'joseph chang', 'hsu wei-ning', 'jason wang', 'ruby lin', 'moon lee', 'river huang', 'chen chia-kuei', 'ding ning', 'hsia ching-ting', 'rexen cheng', ' ', 'kim dong-hee', 'jung da-bin', 'park ju-hyun', 'nam yoon-su', 'choi min-soo', 'kim yeo-jin', 'park hyuk-kwon', ' ', 'nadiya hussain', 'kartik aaryan', 'sara ali khan', 'randeep hooda', 'arushi sharma', 'simone singh', 'monika pawar', 'amrit arora', 'siddharth kak', 'moin khan', 'nyla masood', 'saagar kale', 'neha bam', 'aneesha shah', \"damian alexander d'souza\", 'kaustubh narain', 'shilpa iyer', 'nil mani', 'pallas prajapati', ' ', 'alexander dreymon', 'emily cox', 'david dawson', 'ian hart', 'rune temte', 'matthew macfadyen', 'rutger hauer', 'tobias santelmann', 'peter gantzler', 'adrian bower', 'joseph millson', 'henning valin jakobsen', 'alexandre willaume', 'thomas w. gabrielsson', 'nitin reddy', 'rashmika mandanna', 'sampath raj', 'jishu sengupta', 'anant nag', 'ricky gervais', 'tom basden', 'tony way', 'diane morgan', 'mandeep dhillon', 'david bradley', 'ashley jensen', 'kerry godliman', 'pınar deniz', 'kubilay aka', 'mert yazıcıoğlu', 'alina boz', 'selahattin paşalı', 'i̇pek filiz yazıcı', 'kaan urgancıoğlu', 'müfit kayacan', 'bade i̇şçil', 'tuba ünsal', 'kanan gill', 'atsuko tanaka', 'osamu saka', 'akio otsuka', 'koichi yamadera', 'yutaka nakano', 'toru okawa', 'takashi onozuka', 'taro yamaguchi', 'sakiko tamagawa', 'megumi han', 'kenjiro tsuda', 'kaiji soze', 'shigeo kiyama', 'verónica castro', 'aislinn derbez', 'cecilia suárez', 'dario yazbek bernal', 'paco león', 'arturo ríos', 'juan pablo medina', 'verónica langer', 'lucas velázquez', 'lee je-hoon', 'ahn jae-hong', 'choi woo-shik', 'park jeong-min', 'park hae-soo', 'afi ekulona', ' ', 'will forte', 'maya rudolph', 'ricky gervais', 'alessia cara', 'terry crews', 'jane krakowski', 'martin short', 'seán cullen', ' ', 'thomas middleditch', 'ben schwartz', 'kelis', 'leather storrs', 'duncan trussell', 'phil hendrie', 'drew pinsky', 'joey diaz', 'natasha leggero', 'johnny pemberton', 'christina pazsitzky', 'anne lamott', 'damien echols', 'trudy goodman', 'maria bamford', 'pauly shore', 'doug lussenhop', 'david nichtern', 'steve little', 'caitlin doughty', 'stephen root', 'shobana', 'suresh gopi', 'dulquer salmaan', 'kalyani priyadarshan', 'k.p.a.c. lalitha', 'sarvajith santosh sivan', 'urvashi', 'johny antony', 'lalu alex', 'lal jose', 'lee min-ho', 'kim go-eun', 'woo do‑hwan', 'kim kyung-nam', 'jung eun-chae', 'lee jung-jin', 'kim young-ok', 'kenya barris', 'rashida jones', 'iman benson', 'genneya walton', 'scarlet spencer', 'justin claiborne', 'ravi cabot-conyers', 'sami bouajila', 'eriq ebouaney', 'samy seghir', 'sofia lesaffre', 'sebastián rulli', 'renata notni', 'roberto mateos', 'irina baeva', 'cassandra sánchez navarro', 'manuel balbi', 'javier gómez', 'alejandro ávila', 'sofía castro', 'juan pablo gil', 'vir das', 'ranvir shorey', 'manoj pahwa', 'ravi kishan', 'raza murad', 'inaamulhaq', 'suhail nayyar', 'amrita bagchi', 'david kross', 'frederick lau', 'janina uhse', 'anne schäfer', 'sophia thomalla', 'wagner moura', 'ana de armas', \"brían f. o'byrne\", 'clemens schick', 'bradley whitford', 'fary', 'lior raz', 'hisham suliman', \"shadi mar'i\", 'laëtitia eïdo', 'tsahi halevi', 'yuval segal', 'neta garty', 'tomer kapon', 'itzik cohen', \"rona-lee shim'on\", 'boaz konforty', 'doron ben-david', 'maurício meirelles', ' ', 'vijay deverakonda', 'raashi khanna', 'aishwarya rajesh', 'catherine tresa', 'izabelle leite', \"chris d'elia\", 'alan aisenberg', 'mike castle', 'carmen flood', 'marques ray', ' ', 'sam claflin', 'olivia munn', 'freida pinto', 'eleanor tomlinson', 'joel fry', 'tim key', 'aisling bea', 'jack farthing', 'allan mustafa', 'seth carr', 'tichina arnold', 'adam pally', 'ken marino', \"mike 'the miz' mizanin\", 'momona tamada', 'keith lee', 'babatunde aiyegbusi', 'kofi kingston', 'tzi ma', 'christine ko', 'hong-chi lee', 'hayden szeto', 'kunjue li', 'fiona fu', 'james saito', 'joan chen', ' ', 'ed helms', 'taraji p. henson', 'terrence little gardenhigh', 'betty gilpin', ' ', ' ', 'david batra', ' ', ' ', 'nivedhithaa sathish', 'srilekha rajendran', 'avinash raghudevan', 'gabrella sellus', 'rathaa krishnan p.', 'rajendran', ' ', 'ilana becker', 'kerry coddett', 'tarik davis', 'matthew dellapina', 'david ebert', 'stink fisher', 'iliana inocencio', 'iliza shlesinger', 'harry enfield', 'haydn gwynne', 'hugh skinner', 'louise ford', 'richard goulding', 'matthew cottle', 'morgana robinson', 'celeste dring', 'katy wix', 'ellie white', 'xu kaicheng', 'simona wang', 'ian yi', 'huang qian shuo', 'yang hao ming', 'liu jia xi', 'revathi', 'roger narayanan', 'sneha ravishankar', 'vidya shankar', 'sr leela', ' ', 'dulquer salmaan', 'ritu varma', 'rakshan', 'niranjani', 'gautham menon', 'anish kuruvilla', 'choi jin-hyuk', 'park sung-woong', 'cho dong-hyuk', 'jung hye-in', 'han ji-wan', 'park sun-ho', 'kim min-sang', 'noah kaye bentley', 'brennley brown', 'zach callison', 'nicolas cantu', 'skai jackson', 'marsai martin', 'andre robinson', 'carlos alazraqui', 'jeff bennett', 'grey griffin', 'mary elizabeth mcglynn', 'manisha koirala', 'prit kamani', 'shirley setia', 'nikita dutta', 'javed jaffrey', 'dhruv lohumi', 'jason bateman', 'sofia hublitz', 'laura linney', 'skylar gaertner', 'jason butler harner', 'esai morales', 'peter mullan', 'lisa emery', 'guillaume laurin', 'marie-evelyne lessard', 'réal bossé', 'marc-andré grondin', 'marc beaupré', 'marilyn castonguay', 'guillaume cyr', 'isabelle giroux', 'juliette maxyme proulx', 'michela luci', 'jamie watson', 'eric peterson', 'anna claire bartlam', 'nicolas aqui', 'cory doran', 'julie lemieux', 'mamoudou athie', 'courtney b. vance', 'niecy nash', 'sasha compère', 'bernard d. jones', 'gil ozeri', 'matt mcgorry', 'meera rohit kumbhani', 'joon park', 'nao toyama', 'jun fukuyama', 'katsuyuki konishi', 'yoko soumi', 'kana asumi', 'akira ishida', 'aoi yuki', 'kazuhiko inoue', 'yoko hikasa', 'hirofumi nojima', 'ryotaro okiayu', 'eri kitamura', 'mamiko noto', 'ryo hirohashi', 'shizuka ito', 'hisao egawa', 'mayumi asano', 'kenta miyake', 'ai kakuma', 'kaito ishikawa', 'mikako komatsu', 'daisuke sakaguchi', 'takanori hoshino', 'kenjiro tsuda', 'nozomu sasaki', 'kenji nojima', 'houko kuwashima', 'kensho ono', 'takahiro sakurai', 'haruka chisuga', 'yu shimamura', 'takuma terashima', 'takuya sato', 'junko minagawa', 'masashi sugawara', 'sho hayami', 'kazuyuki okitsu', 'minako kotobuki', ' ', 'shira haas', 'amit rahav', 'jeff wilbusch', 'alex reid', 'ronit asheri', 'delia mayer', 'dina doronne', 'david mandelbaum', 'yousef sweid', 'dennenesch zoudé', 'isabel schosnig', 'aaron altaras', 'tamar amit-joseph', 'safinaz sattar', 'langston uibel', 'aziz dyab', ' ', 'javier gutiérrez', 'mario casas', 'bruna cusí', 'ruth díaz', 'tom segura', 'robert finster', 'ella rumpf', 'georg friedrich', 'christoph krutzler', 'brigitte kren', 'anja kling', 'philipp hochmair', 'jay chou', 'jam hsiao', 'jj lin', 'will tsai', 'chen chien-chou', 'funky tu', 'norman chen', 'america young', 'kirsten day', 'cassandra morris', 'cassidy naber', 'emma galvin', 'stephanie sheh', 'desirae whitfield', 'cristina milizia', 'lisa fuson', 'greg chun', 'ritesh rajan', 'eamon brennan', ' ', 'tony hale', 'rosamund pike', 'jordan fisher', 'chelsea kane', 'adam pally', 'kari wahlgren', 'naoko matsui', 'hiroshi kamiya', 'kazue ikura', 'chafurin', 'chie kojiro', 'mari mashiba', 'ryoko shiraishi', 'hidekatsu shibata', 'tadashi miyazawa', 'sonosuke hattori', 'karen', 'yui toita', 'izu konishi', 'eri ozaki', 'risa nakamura', 'tomoyo chujo', 'takuro hijioka', 'sawako yoshida', 'chika okubo', 'yuri fujiwara', 'tomomi yamakawa', 'hikaru yuki', 'miyako kobayashi', 'mutsuki arisawa', 'koharu nogata', 'tomoka kuzutani', 'madoka yokoyama', 'madoka hiraide', 'ayako takamura', 'yuki arimoto', 'yuto kazama', 'arisa takami', 'chika sakamoto', 'ariel mortman', 'finn roberts', \"chris o'neal\", 'dallas hart', 'cinthya carmona', 'grace van dien', 'benjamin papac', 'jessica amlee', 'bj mitchell', 'aviv buchler', 'nadine ellis', 'yiftach mizrahi', 'parker stevenson', 'ishai golan', 'selina giles', 'reina hardesty', 'octavia spencer', 'tiffany haddish', 'carmen ejogo', 'blair underwood', 'garrett morris', 'kevin carroll', 'aaditi pohankar', 'vijay varma', 'vishwas kini', 'kishore kumar g.', 'shivani rangole', 'suhita thatte', 'sandeep dhabale', 'saqib ayub', 'edward holcroft', 'kevin guthrie', 'charlotte hope', 'niamh walsh', 'craig parkinson', 'james harkness', 'ben batt', 'gerard kearns', 'henry lloyd-hughes', 'amir wilson', 'ruby ashbourne serkis', 'thaddea graham', 'islam bouakkaz', 'jonah lees', 'jack barton', 'nathanael saleh', 'emilie cocquerel', 'gijs blom', 'kemi-bo jacobs', 'david wenham', 'omid djalili', 'peter ferdinando', ' ', 'aniello arena', 'antonia truppo', 'ciro nacca', 'simone borelli', 'daniele vicorito', 'salvatore pelliccia', 'oulaya amamra', 'suzanne clément', 'kate moran', 'mounir amamra', 'aliocha schneider', 'juliette cardinski', 'pierre lottin', 'dylan robert', 'bilel chegrani', 'antonia buresi', 'marilu marini', 'ayumi roux', 'tatsuhisa suzuki', 'rina satou', 'ayaka asai', 'jouji nakata', 'kenji yamauchi', 'kanehira yamamoto', 'koji ishii', 'malik nejer', 'shahad alahmari', 'abdulaziz almuzaini', 'yousef aldakheel', 'aliette opheim', 'gizem erdogan', 'amed bozan', 'albin grenholm', 'nora rios', 'yussra el abdouni', 'amanda sohrabi', 'lancelot ncube', 'simon mezher', 'ala riani', 'bert kreischer', 'john sparkes', 'justin fletcher', 'marcus brigstocke', 'simon greenall', 'kate harbour', 'emma tate', 'andy nyman', 'richard webber', 'poonam dhillon', 'supriya pathak', 'sunny singh', 'sonalli sehgall', 'rajendra sethi', 'veer rajwant singh', 'danish husain', 'alok nath', 'zainab johnson', 'sammy obeid', 'alie ward', 'ine marie wilmann', 'bjørnar teigen', 'emma spetalen magnusson', 'erlend rødal vikhagen', 'benjamin helstad', 'harald rosenstrøm', 'dagny backer johnsen', 'stig amdam', 'numa edema norderhaug', 'ellen bendu', 'torfinn nag', 'william lodder', 'anastasia bampos', 'darius amarfio-jefferson', 'richard roxburgh', \"frances o'connor\", 'dan wyllie', 'cooper van grootel', 'damian de montemas', 'adam t. perkins', 'ju ji-hoon', 'ryu seung-ryong', 'bae doona', 'kim sang-ho', 'kim sung-kyu', 'jeon seok-ho', 'kim hye-jun', 'heo jun-ho', 'jung suk-won', 'kim jong-soo', 'amy ryan', 'gabriel byrne', 'thomasin mckenzie', 'lola kirke', 'oona laurence', 'dean winters', 'miriam shor', 'reed birney', 'kevin corrigan', 'stan carp', 'nína dögg filippusdóttir', 'björn thors', 'bergur ebbi', 'aldís amah hamilton', 'sigurður skúlason', 'tinna hrafnsdóttir', 'arndís hrönn egilsdóttir', 'edda björgvinsdóttir', 'valur freyr einarsson', 'damon younger', ' ', 'sierra capri', 'jason genao', 'brett gray', 'diego tinoco', 'julio macias', 'jessica marie garcia', 'ronni hawk', 'peggy ann blow', 'paula garcés', 'danny ramirez', 'giovanna ewbank', 'gina rodriguez', 'finn wolfhard', 'abby trott', 'michael hawley', \"liam o'brien\", 'mary elizabeth mcglynn', 'toks olagundoye', 'sharon muthu', 'marc maron', ' ', 'kiara advani', 'akansha ranjan kapoor', 'gurfateh pirzada', 'taher shabbir', 'niki walia', 'manu rishi chadha', 'dalip tahil', 'kunal vijaykar', 'mark wahlberg', 'winston duke', 'alan arkin', 'bokeem woodbine', 'iliza shlesinger', 'hope olaide wilson', 'marc maron', 'belén rueda', 'javier rey', 'aura garrido', 'manolo solo', 'alex brendemühl', 'ramón barea', 'sergio dorado', 'allende blanco', 'rubén ochandiano', 'david chang', 'peter meehan', 'allu arjun', 'pooja hegde', 'tabu', 'sushanth', 'nivetha pethuraj', 'jayaram', 'murli sharma', 'samruddhi shukla', 'aranya kaur', 'rajesh kava', 'nishka raheja', 'sabina malik', 'shanoor mirza', 'taylor tomlinson', 'david a. arnold', 'volker bruch', 'liv lisa fries', 'peter kurth', 'leonie benesch', 'matthias brandt', 'severija janusauskaite', 'fritzi haberlandt', 'ivan shvedoff', 'lars eidinger', 'anton von lucke', 'misel maticevic', 'stephanie sheh', 'erika harlacher', 'julie maddalena', 'dorothy fahn', 'anne yatco', 'cherami leigh', 'doug erholtz', 'keith silverstein', 'marta hazas', 'asier etxeandia', 'adrián lastra', 'javier rey', 'llorenç gonzález', 'andrea duro', 'fernando guallar', 'diego martín', 'andrés velencoso', 'maxi iglesias', 'elle fanning', 'justice smith', 'luke wilson', 'keegan-michael key', 'alexandra shipp', 'lamar johnson', 'virginia gardner', \"kelli o'hara\", 'felix mallard', 'sofia hasmik', 'pearl thusi', 'vuyo dabula', 'loyiso madinga', 'kate liquorish', 'sechaba morojele', 'rob van vuuren', 'chi mhende', 'otto nobela', 'khathu ramabulana', 'enhle mlotshwa', 'tessa ia', 'bárbara lópez', 'lucía uribe', 'coty camacho', 'diego calva hernández', 'tomás ruiz', 'allu arjun', 'pooja hegde', 'tabu', 'sushanth', 'nivetha pethuraj', 'jayaram', 'murli sharma', 'joel kinnaman', 'james purefoy', 'martha higareda', 'renée elise goldsberry', 'dichen lachman', 'will yun lee', 'kristin lehman', 'chris conner', 'ato essandoh', 'tamara taylor', 'byron mann', 'miki nakatani', 'elaiza ikeda', 'mari natsuki', 'yuka itaya', 'kom_i', 'mika nakashima', 'tadanobu asano', 'shuhei uesugi', 'nobuaki kaneko', 'hidekazu mashima', 'sho kasamatsu', 'yutaro', 'moayad alnefaie', 'mohammed alhamdan', 'citi bet baydi', 'sadeem alshehri', 'mohammed albakri', 'moayed althagafi', 'hussain alyahya', 'abeer alotaibi', 'zara albalushi', 'ali alshehabi', 'sophia lillis', 'wyatt oleff', 'kathleen rose perkins', 'sofia bryant', 'richard ellis', 'sophia tatum', 'david theune', 'zachary s. williams', 'aidan wojtak-hissong', ' ', 'pete davidson', 'kim tae-hee', 'lee kyoo-hyung', 'go bo-gyeol', 'shin dong-mi', 'seo woo-jin', 'lee si-woo', 'oh eui-sik', 'ahn nae-sang', 'kim mee-kyeong', 'park su-young', 'kim mi-su', 'yoon sa-bong', 'j.j. soria', 'carlos santos', 'karrie martin', 'joaquín cosío', 'julissa calderon', 'annie gonzalez', 'laura patalano', 'felipe esparza', 'kim hye-soo', 'ju ji-hoon', 'lee gyoung-young', 'kim ho-jung', 'song young-kyu', 'hwang bo-ra', 'jeon seok-ho', 'hyun bong-sik', 'park se-jin', ' ', 'dolores fonzi', 'esteban lamothe', 'carlos belloso', 'juan gil navarro', 'daniel aráoz', 'antonio grimau', 'ignacio quesada', 'mónica ayos', 'daniel valenzuela', 'helena zengel', 'albrecht schuch', 'gabriela maria schmeide', 'lisa hagmeister', 'melanie straub', 'victoria trauttmansdorff', 'maryam zaree', 'tedros teclebrhan', 'anne hathaway', 'ben affleck', 'willem dafoe', 'toby jones', 'rosie perez', 'edi gathegi', 'mel rodriguez', 'onata aprile', 'julian sands', 'manish chauhan', 'achintya bose', 'jim sarbh', 'danish husain', 'vijay maurya', 'heeba shah', 'kalyanee mulay', 'danilo mesquita', 'cláudia okuno', 'mariana sena', 'enzo barone', 'drop dashi', 'miwa yanagizawa', 'carlos takeshi', 'daniel rocha', 'kelzy ecard', 'norival rizzo', 'nicolas trevijano', 'jui huang', 'jimmy wong', 'fania espinosa', 'wallie ruy', 'begê muniz', 'antonio miano', 'ricardo iazzetta', 'mayhara ribeiro', 'jairo mattos', 'lisa vicari', 'dennis mojen', 'walid al-atiyat', 'christina hecke', 'zoë straub', 'lisa hagmeister', 'hans-jochen wagner', 'andré eisermann', 'ernst stötzner', 'neeraj kabi', 'geetanjali kulkarni', 'danish husain', 'sheeba chaddha', 'paras priyadarshan', 'anshul chauhan', 'anud singh dhaka', 'shirin sewani', 'mihir ahuja', 'vasundhara rajput', 'michael peña', 'diego luna', 'tenoch huerta', 'joaquin cosio', 'josé maría yazpik', 'matt letscher', 'alyssa diaz', 'lana condor', 'noah centineo', 'jordan fisher', 'anna cathcart', 'janel parrish', 'ross butler', 'madaleine arthur', 'emilija baranac', 'trezzo mahoro', 'holland taylor', 'sarayu blue', 'john corbett', 'nat faxon', 'jay gragnani', 'ramone hamilton', 'sean astin', 'dayci brookshire', 'jorge diaz', 'todd grimes', 'peter hastings', 'evan kishiyama', 'david koechner', 'phil lamarr', 'erica luttrell', 'patty mattson', 'brennan murray', 'nolan north', ' ', 'nicolas cantu', 'brennley brown', 'zach callison', 'skai jackson', 'noah kaye bentley', 'andre robinson', 'marsai martin', 'alison brie', 'debby ryan', 'paul reiser', 'john reynolds', 'molly shannon', 'john ortiz', 'meredith hagner', 'jake picking', 'david paymer', 'jay duplass', 'darby stanchfield', 'connor jessup', 'emilia jones', 'jackson robert scott', 'petrice jones', 'laysla de oliveira', 'griffin gluck', 'sherri saum', 'aaron ashmore', 'bill heck', 'genevieve kang', 'kevin alves', 'thomas mitchell barnet', 'eric graise', 'felix mallard', 'martin roach', 'steven williams', 'coby bird', 'yoon hyun-min', 'ko sung-hee', 'choi yeo-jin', 'chansung', 'lee ki-chan', 'kim soo-jin', 'kang seung-hyeon', 'jeong do-won', 'kim hak-seon', ' ', 'yoshimasa hosoya', 'kana hanazawa', 'natsuki hanae', 'takahiro sakurai', 'daisuke namikawa', 'toshiyuki morikawa', 'kazuyuki okitsu', 'junichi suwabe', 'tomohiro shiozaki', 'ai kayano', 'tetsu shiratori', 'yasuhiro mamiya', 'daiki yamashita', 'akari kito', 'tomokazu sugita', 'aoi yuki', 'kohsuke toriumi', ' ', 'willy t. ribbs', 'joseph millson', 'jack kane', 'helena bonham carter', 'arturo muselli', 'carolina carlsson', 'tam williams', 'richard ashton', \"ross o'hennessy\", 'cameron jack', 'fabienne piolini-castle', 'tom papa', 'bryana salaz', 'alison fernandez', 'symera jackson', 'elie samouhi', 'kai calhoun', 'eliza pryor', 'rosa blasi', 'nicole sullivan', 'david gridley', 'asier etxeandia', 'marian álvarez', 'hugo silva', 'aitor luna', 'imanol arias', 'olimpia melinte', 'ruth díaz', 'jorge basanta', 'stephanie gil', 'roberto bonacini', 'park seo-joon', 'kim da-mi', 'yu jae-myeong', 'kwon na-ra', 'kim dong-hee', 'ahn bo-hyun', 'kim hye-eun', 'ryu gyeong-su', 'lee joo-young', 'chris lyon', 'samira wiley', 'mei kayama', 'misuzu kanno', 'shunsuke daitoh', 'makiko watanabe', 'yoshihiko kumashino', 'minori hagiwara', 'shohei uno', 'yuka itaya', 'kiyohiko shibukawa', 'eita okuno', 'haruka imou', 'toshinori omi', 'christopher von uckermann', 'horacio garcía rojas', 'gisselle kuri', 'fátima molina', 'dolores heredia', 'humberto busto', 'quetzalli cortés', 'alexa martin', 'flavio medina', 'dulce neri', 'mariana botas', 'antonia fotaras', 'giorgio belli', 'manuela mandracchia', 'roberto de francesco', 'federica fracassi', 'lucrezia guidone', 'adalgisa manfrida', 'giada gagliardi', 'giandomenico cupaiuolo', 'gloria carovana', 'filippo scotti', 'taylor swift', 'josé coronado', 'álex gonzález', 'claudia traisac', 'luís zahera', 'pilar castro', 'àlex monner', 'giulia charm', 'unax ugalde', 'ricardo gómez', 'ledicia sola', 'leonor watling', 'patrick criado', 'xabier deive', 'camila bossa', 'maría guinea', 'édgar vittorino', 'javier abad', 'daniel currás', 'mercedes castro', 'paula morado', 'paula pier', 'carmela martins', 'denis gómez', 'miguel borines', 'ana villagrasa', 'xavier estévez', 'carlos hipólito', 'richard armitage', 'siobhan finneran', 'jennifer saunders', 'shaun dooley', 'paul kaye', 'dervla kirwan', 'kadiff kirwan', 'hannah john-kamen', 'anthony head', 'stephen rea', 'jacob dudman', 'ella-rae smith', 'brandon fellows', 'misha handley', 'karan johar', ' ', 'samira wiley', 'carla salle', 'sandra corveloni', 'jonathan haagensen', 'guilherme prates', 'luana tanaka', 'marcello airoldi', 'marco antônio pâmio', 'rajkummar rao', 'tarun wadhwa', 'rakul preet singh', 'kiran juneja', 'hema malini', 'kamlesh gill', 'shakti kapoor', 'kanwaljeet singh', 'vir das', 'charles dance', 'cem yiğit üzümoğlu', 'tommaso basili', 'birkan sokullu', 'osman sonant', 'tolga tekin', 'damla sönmez', 'ushan çakır', 'i̇layda akdoğan', 'gwyneth paltrow', 'elise loehnen', 'ashton kutcher', 'sam elliott', 'debra winger', 'elisha cuthbert', 'kelli goss', 'wilmer valderrama', 'danny masterson', 'larissa manoela', 'andré luiz frambach', 'erasmo carlos', 'mariana amâncio', 'amanda orestes', 'eike duarte', 'nayobe nzainab', 'katiuscia canoro', 'phellyx moura', 'dani ornellas', 'michel bercovitch', 'sílvia lourenço', 'alex fernández', 'tamara taylor', 'j.c. mackenzie', 'aurora burghart', 'gabriel darku', 'maxim roy', 'stephen mchattie', 'wendy crewson', 'megan follows', 'nicola correia-damude', 'praneet akilla', 'michelle nolden', \"anwen o'driscoll\", 'bryson baugus', 'emily neves', 'blake shepard', 'patrick poole', 'luci christian', 'adam gibbs', 'masakazu morita', 'fumiko orikasa', 'takahiro sakurai', 'hiroaki miura', 'satomi sato', 'katsuyuki konishi', 'huang peijia', 'wu kang-jen', 'ludi lin', 'janet hsieh', 'kuang tian', 'susan leong', 'jordan voon', 'angeline tan', 'jojo goh', 'teresa daley', ' ', 'fortune feimster', 'david lynch', 'crystal fox', 'phylicia rashad', 'cicely tyson', 'bresha webb', 'mehcad brooks', 'adrian pasdar', 'tyler perry', 'jade olieberg', 'tobias kersloot', 'lisa smit', 'frieda barnhard', 'hans kesting', 'rifka lodeizen', 'robin boissevain', 'jennifer welts', 'steef de bot', 'jip van den dool', 'janni goslinga', 'dennis rudge', 'ian bok', 'roos dickmann', 'minne koole', 'alexander brouwer', 'shad kabango', 'angelina kirsch', 'bernd siefert', 'hu yitian', 'chen zheyuan', 'liang jie', 'vicky liang', 'tay ping hui', 'nikita mao', 'gallen lo', 'song wenzuo', 'jin song', 'jason zheng', 'aaron hernandez', 'leslie jones', 'jace chapman', 'larisa oleynik', 'tom everett scott', 'steve zahn', 'mauricio lara', 'sophie kim', 'laurel emory', 'rupaul charles', 'izzy g.', 'michael-leon wooley', 'josh segarra', 'katerina tannenbaum', 'tia carrere', 'lauren lapkus', 'stephanie lemelin', 'kelly mccreary', 'atticus shaffer', 'danny pudi', 'grey griffin', 'utkarsh ambudkar', 'roger craig smith', 'amit sial', 'dibyendu bhattacharya', 'aksha pardhasany', 'sparsh shrivastava', 'monika panwar', 'anshumaan pushkar', 'erinn hayes', 'rob huebel', 'malin akerman', 'rob corddry', 'lake bell', 'sarayu blue', 'ken marino', 'fred melamed', 'tom wright', 'jason schwartzman', 'eric nenninger', 'megan le', 'beth dover', 'zandy hartig', 'brian huskey', 'michael cera', 'abby bergman', 'anna cooke', 'aston droomer', 'jamil smyth-secka', 'james saunders', 'maria angelico', 'eliza ong', 'ahmed sylla', 'alban ivanov', 'ornella fleury', 'natoo', 'carlito', 'mcfly', 'djimo', 'lola dubini', 'noom diawara', 'tania dutel', 'hakim jemili', 'jason brokerss', 'bérengère krief', 'thomas vandenberghe', 'monsieur poulpe', 'jhon rachid', 'audrey pirault', 'jeanfi janssens', 'fadily camara', 'laurie peret', 'issa doumbia', 'anne-sophie girard', 'elhadj gaye', 'guillaume bats', 'faizon love', 'kirk fox', 'tony todd', 'pearl thusi', 'cassie clare', 'fiona ramsey', 'neels clasen', 'roxy nel', ' ', 'oscar martínez', 'inma cuesta', 'mafalda carbonell', 'nacho lópez', 'isabel requena', 'aina clotet', 'antonio valero', 'maría zamora', 'hugo balaguer', 'valeria schoneveld', 'claes bang', 'dolly wells', 'john heffernan', 'hánssel casillas', 'loreto peralta', 'andrea sutton', 'luis de la rosa', 'alejandro flores', 'anajosé aldrete', 'daniel haddad', 'montserrat marañón', 'juan carlos viana prieto', 'hernán del riego', 'janelle monáe', 'janhvi kapoor', 'sobhita dhulipala', 'sukant goel', 'gulshan devaiah', 'mrunal thakur', 'avinash tiwary', 'vijay varma', 'sagar arya', 'surekha sikri', 'pavail gulati', 'michelle monaghan', 'mehdi dehbi', 'john ortiz', 'tomer sisley', 'melinda page hamilton', 'stefania lavie owen', 'sayyid el alami', 'jane adams', 'wil traval', 'fares landoulsi', ' ', 'kaya scodelario', 'january jones', 'will kemp', 'willow shields', 'evan roderick', 'david james elliott', 'sarah wright olsen', 'svetlana efremova', 'amanda zhou', 'mitchell edwards', 'kaitlyn leeb', 'johnny weir', 'candace cameron bure', 'jodie sweetin', 'andrea barber', 'michael campion', 'elias harger', 'soni bringas', 'dashiell messitt', 'fox messitt', 'john stamos', 'bob saget', 'dave coulier', 'lori loughlin', 'scott weinger', 'blake tuomy-wilhoit', 'dylan tuomy-wilhoit', 'john brotherton', 'juan pablo di pace', 'diego armando maradona', 'will arnett', 'aaron paul', 'amy sedaris', 'alison brie', 'paul f. tompkins', 'marc ruchmann', 'zita hanrot', 'sabrina ouazani', 'joséphine drai', 'syrus shahidi', 'yvan naubron', 'guillaume labbé', 'tom dingler', ' ', 'andrew toth', 'lisa durupt', 'jonathan holmes', 'paul dobson', 'cole howard', 'brian drummond', 'jennifer cameron', 'james sweeney', 'katie findlay', 'randall park', 'hillary anne matthews', 'james scully', 'betsy brandt', 'luca padovan', 'evan smolin', 'junah jang', 'colin critchley', 'r. kelly']\n"
     ]
    },
    {
     "data": {
      "text/plain": [
       "'blossom chukwujekwu'"
      ]
     },
     "execution_count": 26,
     "metadata": {},
     "output_type": "execute_result"
    }
   ],
   "source": [
    "get_actor('netflix', 2020)"
   ]
  },
  {
   "cell_type": "code",
   "execution_count": 54,
   "metadata": {},
   "outputs": [],
   "source": [
    "from collections import Counter"
   ]
  },
  {
   "cell_type": "code",
   "execution_count": null,
   "metadata": {},
   "outputs": [],
   "source": []
  },
  {
   "cell_type": "code",
   "execution_count": 116,
   "metadata": {},
   "outputs": [],
   "source": [
    "year=2022\n",
    "plataforma='disney'\n",
    "rslt_df = df_pr.loc[(df_pr['release_year'] == year) & (df_pr['plataforma']==plataforma)]\n",
    "actores=[]\n",
    "tolist= rslt_df['cast'].str.split(',')\n",
    "for i in tolist:\n",
    "    if i:\n",
    "        actores.extend(i)\n",
    "    #print(type(i))\n",
    "    d= max(set(actores), key=actores.count)\n",
    "\n",
    "    print (d)"
   ]
  },
  {
   "cell_type": "code",
   "execution_count": 117,
   "metadata": {},
   "outputs": [],
   "source": [
    "\n",
    "df_actores= pd.DataFrame(actores)"
   ]
  },
  {
   "cell_type": "code",
   "execution_count": null,
   "metadata": {},
   "outputs": [],
   "source": [
    "df_actores.value_counts()"
   ]
  },
  {
   "cell_type": "code",
   "execution_count": null,
   "metadata": {},
   "outputs": [],
   "source": [
    "get_actor('netflix',2019)"
   ]
  },
  {
   "cell_type": "code",
   "execution_count": null,
   "metadata": {},
   "outputs": [],
   "source": [
    "len(actores)"
   ]
  },
  {
   "cell_type": "code",
   "execution_count": null,
   "metadata": {},
   "outputs": [],
   "source": [
    "get_actor('netflix',2019)"
   ]
  }
 ],
 "metadata": {
  "kernelspec": {
   "display_name": "base",
   "language": "python",
   "name": "python3"
  },
  "language_info": {
   "codemirror_mode": {
    "name": "ipython",
    "version": 3
   },
   "file_extension": ".py",
   "mimetype": "text/x-python",
   "name": "python",
   "nbconvert_exporter": "python",
   "pygments_lexer": "ipython3",
   "version": "3.9.13"
  },
  "orig_nbformat": 4,
  "vscode": {
   "interpreter": {
    "hash": "424a58b1ff7d3ef1d0e55f78f935fefdf72d425a22e3df8ad97cbfccebd9b7e8"
   }
  }
 },
 "nbformat": 4,
 "nbformat_minor": 2
}

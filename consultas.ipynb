{
 "cells": [
  {
   "attachments": {},
   "cell_type": "markdown",
   "metadata": {},
   "source": [
    "# __CONSULTAS__"
   ]
  },
  {
   "attachments": {},
   "cell_type": "markdown",
   "metadata": {},
   "source": [
    "Película con mayor duración con filtros opcionales de AÑO, PLATAFORMA Y TIPO DE DURACIÓN. (la función debe llamarse get_max_duration(year, platform, duration_type))"
   ]
  },
  {
   "cell_type": "code",
   "execution_count": null,
   "metadata": {},
   "outputs": [],
   "source": [
    "import pandas as pd\n",
    "import numpy as np"
   ]
  },
  {
   "cell_type": "code",
   "execution_count": 35,
   "metadata": {},
   "outputs": [
    {
     "data": {
      "text/html": [
       "<div>\n",
       "<style scoped>\n",
       "    .dataframe tbody tr th:only-of-type {\n",
       "        vertical-align: middle;\n",
       "    }\n",
       "\n",
       "    .dataframe tbody tr th {\n",
       "        vertical-align: top;\n",
       "    }\n",
       "\n",
       "    .dataframe thead th {\n",
       "        text-align: right;\n",
       "    }\n",
       "</style>\n",
       "<table border=\"1\" class=\"dataframe\">\n",
       "  <thead>\n",
       "    <tr style=\"text-align: right;\">\n",
       "      <th></th>\n",
       "      <th>id</th>\n",
       "      <th>show_id</th>\n",
       "      <th>type</th>\n",
       "      <th>title</th>\n",
       "      <th>director</th>\n",
       "      <th>cast</th>\n",
       "      <th>country</th>\n",
       "      <th>date_added</th>\n",
       "      <th>release_year</th>\n",
       "      <th>rating</th>\n",
       "      <th>listed_in</th>\n",
       "      <th>description</th>\n",
       "      <th>plataforma</th>\n",
       "      <th>duration_int</th>\n",
       "      <th>duration_type</th>\n",
       "    </tr>\n",
       "  </thead>\n",
       "  <tbody>\n",
       "    <tr>\n",
       "      <th>0</th>\n",
       "      <td>ns1</td>\n",
       "      <td>s1</td>\n",
       "      <td>movie</td>\n",
       "      <td>dick johnson is dead</td>\n",
       "      <td>kirsten johnson</td>\n",
       "      <td>NaN</td>\n",
       "      <td>united states</td>\n",
       "      <td>2021-09-25</td>\n",
       "      <td>2020</td>\n",
       "      <td>pg-13</td>\n",
       "      <td>documentaries</td>\n",
       "      <td>as her father nears the end of his life, filmm...</td>\n",
       "      <td>netflix</td>\n",
       "      <td>90.0</td>\n",
       "      <td>min</td>\n",
       "    </tr>\n",
       "    <tr>\n",
       "      <th>1</th>\n",
       "      <td>ns2</td>\n",
       "      <td>s2</td>\n",
       "      <td>tv show</td>\n",
       "      <td>blood &amp; water</td>\n",
       "      <td>NaN</td>\n",
       "      <td>ama qamata, khosi ngema, gail mabalane, thaban...</td>\n",
       "      <td>south africa</td>\n",
       "      <td>2021-09-24</td>\n",
       "      <td>2021</td>\n",
       "      <td>tv-ma</td>\n",
       "      <td>international tv shows, tv dramas, tv mysteries</td>\n",
       "      <td>after crossing paths at a party, a cape town t...</td>\n",
       "      <td>netflix</td>\n",
       "      <td>2.0</td>\n",
       "      <td>season</td>\n",
       "    </tr>\n",
       "    <tr>\n",
       "      <th>2</th>\n",
       "      <td>ns3</td>\n",
       "      <td>s3</td>\n",
       "      <td>tv show</td>\n",
       "      <td>ganglands</td>\n",
       "      <td>julien leclercq</td>\n",
       "      <td>sami bouajila, tracy gotoas, samuel jouy, nabi...</td>\n",
       "      <td>NaN</td>\n",
       "      <td>2021-09-24</td>\n",
       "      <td>2021</td>\n",
       "      <td>tv-ma</td>\n",
       "      <td>crime tv shows, international tv shows, tv act...</td>\n",
       "      <td>to protect his family from a powerful drug lor...</td>\n",
       "      <td>netflix</td>\n",
       "      <td>1.0</td>\n",
       "      <td>season</td>\n",
       "    </tr>\n",
       "    <tr>\n",
       "      <th>3</th>\n",
       "      <td>ns4</td>\n",
       "      <td>s4</td>\n",
       "      <td>tv show</td>\n",
       "      <td>jailbirds new orleans</td>\n",
       "      <td>NaN</td>\n",
       "      <td>NaN</td>\n",
       "      <td>NaN</td>\n",
       "      <td>2021-09-24</td>\n",
       "      <td>2021</td>\n",
       "      <td>tv-ma</td>\n",
       "      <td>docuseries, reality tv</td>\n",
       "      <td>feuds, flirtations and toilet talk go down amo...</td>\n",
       "      <td>netflix</td>\n",
       "      <td>1.0</td>\n",
       "      <td>season</td>\n",
       "    </tr>\n",
       "    <tr>\n",
       "      <th>4</th>\n",
       "      <td>ns5</td>\n",
       "      <td>s5</td>\n",
       "      <td>tv show</td>\n",
       "      <td>kota factory</td>\n",
       "      <td>NaN</td>\n",
       "      <td>mayur more, jitendra kumar, ranjan raj, alam k...</td>\n",
       "      <td>india</td>\n",
       "      <td>2021-09-24</td>\n",
       "      <td>2021</td>\n",
       "      <td>tv-ma</td>\n",
       "      <td>international tv shows, romantic tv shows, tv ...</td>\n",
       "      <td>in a city of coaching centers known to train i...</td>\n",
       "      <td>netflix</td>\n",
       "      <td>2.0</td>\n",
       "      <td>season</td>\n",
       "    </tr>\n",
       "  </tbody>\n",
       "</table>\n",
       "</div>"
      ],
      "text/plain": [
       "    id show_id     type                  title         director  \\\n",
       "0  ns1      s1    movie   dick johnson is dead  kirsten johnson   \n",
       "1  ns2      s2  tv show          blood & water              NaN   \n",
       "2  ns3      s3  tv show              ganglands  julien leclercq   \n",
       "3  ns4      s4  tv show  jailbirds new orleans              NaN   \n",
       "4  ns5      s5  tv show           kota factory              NaN   \n",
       "\n",
       "                                                cast        country  \\\n",
       "0                                                NaN  united states   \n",
       "1  ama qamata, khosi ngema, gail mabalane, thaban...   south africa   \n",
       "2  sami bouajila, tracy gotoas, samuel jouy, nabi...            NaN   \n",
       "3                                                NaN            NaN   \n",
       "4  mayur more, jitendra kumar, ranjan raj, alam k...          india   \n",
       "\n",
       "   date_added  release_year rating  \\\n",
       "0  2021-09-25          2020  pg-13   \n",
       "1  2021-09-24          2021  tv-ma   \n",
       "2  2021-09-24          2021  tv-ma   \n",
       "3  2021-09-24          2021  tv-ma   \n",
       "4  2021-09-24          2021  tv-ma   \n",
       "\n",
       "                                           listed_in  \\\n",
       "0                                      documentaries   \n",
       "1    international tv shows, tv dramas, tv mysteries   \n",
       "2  crime tv shows, international tv shows, tv act...   \n",
       "3                             docuseries, reality tv   \n",
       "4  international tv shows, romantic tv shows, tv ...   \n",
       "\n",
       "                                         description plataforma  duration_int  \\\n",
       "0  as her father nears the end of his life, filmm...    netflix          90.0   \n",
       "1  after crossing paths at a party, a cape town t...    netflix           2.0   \n",
       "2  to protect his family from a powerful drug lor...    netflix           1.0   \n",
       "3  feuds, flirtations and toilet talk go down amo...    netflix           1.0   \n",
       "4  in a city of coaching centers known to train i...    netflix           2.0   \n",
       "\n",
       "  duration_type  \n",
       "0           min  \n",
       "1        season  \n",
       "2        season  \n",
       "3        season  \n",
       "4        season  "
      ]
     },
     "execution_count": 35,
     "metadata": {},
     "output_type": "execute_result"
    }
   ],
   "source": [
    "df_plat = pd.read_csv('app/plataformas_.csv')\n",
    "df_plat.head()"
   ]
  },
  {
   "cell_type": "code",
   "execution_count": null,
   "metadata": {},
   "outputs": [],
   "source": [
    "df_plat=df_plat[(df_plat.duration_int.max()) & (df_plat.duration_type =='min')]"
   ]
  },
  {
   "cell_type": "code",
   "execution_count": 36,
   "metadata": {},
   "outputs": [],
   "source": [
    "import datetime as dt\n",
    "\n",
    "df_plat['date_added']= pd.to_datetime(df_plat['date_added']) \n",
    "\n",
    "\n",
    "df_plat['Year'] = df_plat['date_added'].dt.year "
   ]
  },
  {
   "cell_type": "code",
   "execution_count": null,
   "metadata": {},
   "outputs": [],
   "source": [
    "year= df_plat['Year']"
   ]
  },
  {
   "attachments": {},
   "cell_type": "markdown",
   "metadata": {},
   "source": [
    "Primera consulta "
   ]
  },
  {
   "cell_type": "code",
   "execution_count": null,
   "metadata": {},
   "outputs": [],
   "source": [
    "df_plat.head()"
   ]
  },
  {
   "cell_type": "code",
   "execution_count": null,
   "metadata": {},
   "outputs": [],
   "source": [
    "df_plat.isnull().sum()"
   ]
  },
  {
   "cell_type": "code",
   "execution_count": 39,
   "metadata": {},
   "outputs": [],
   "source": [
    "def get_max_duration(year:int, plataforma:str):\n",
    "   rslt_df = df_plat.loc[(df_plat['release_year'] == year) &\n",
    "              (df_plat['plataforma']==plataforma)]\n",
    "   #print(rslt_df)\n",
    "   max_value=rslt_df['duration_int'].max()\n",
    "   #print(max_value)\n",
    "   fila_max_valor = rslt_df.loc[rslt_df['duration_int'] == max_value]\n",
    "   a= fila_max_valor['title']\n",
    "   return a"
   ]
  },
  {
   "cell_type": "code",
   "execution_count": 40,
   "metadata": {},
   "outputs": [
    {
     "data": {
      "text/plain": [
       "3903    carmel beach waves for sleep\n",
       "Name: title, dtype: object"
      ]
     },
     "execution_count": 40,
     "metadata": {},
     "output_type": "execute_result"
    }
   ],
   "source": [
    "#prueba fuera de función\n",
    "\n",
    "get_max_duration(2015, 'amazon')"
   ]
  },
  {
   "cell_type": "code",
   "execution_count": null,
   "metadata": {},
   "outputs": [],
   "source": [
    "\n",
    "year= 2021\n",
    "plataforma= 'disney'\n",
    "rslt_df = df_plat.loc[(df_plat['release_year'] == year) &\n",
    "              (df_plat['plataforma']==plataforma)]\n",
    "#print(rslt_df)\n",
    "max_value=rslt_df['duration_int'].max()\n",
    "fila_max_valor = rslt_df.loc[rslt_df['duration_int'] == max_value]\n",
    "a= fila_max_valor['title'].values\n",
    "print(type(a))\n",
    "f'{a}'\n"
   ]
  },
  {
   "attachments": {},
   "cell_type": "markdown",
   "metadata": {},
   "source": [
    "Cantidad de películas por plataforma con un puntaje mayor a XX en determinado año (la función debe llamarse get_score_count(platform, scored, year))"
   ]
  },
  {
   "cell_type": "code",
   "execution_count": null,
   "metadata": {},
   "outputs": [],
   "source": [
    "df_r=pd.read_parquet('app/score.parquet')"
   ]
  },
  {
   "cell_type": "code",
   "execution_count": null,
   "metadata": {},
   "outputs": [],
   "source": [
    "df_r.rename(columns={\"movieId\": \"id\"}, inplace=True)"
   ]
  },
  {
   "cell_type": "code",
   "execution_count": null,
   "metadata": {},
   "outputs": [],
   "source": [
    "df_pr= pd.merge(df_plat, df_r, on='id')\n",
    "#df_plat_r= pd.to_csv('df_pr.csv')\n",
    "df_pr.head()"
   ]
  },
  {
   "cell_type": "code",
   "execution_count": null,
   "metadata": {},
   "outputs": [],
   "source": [
    "#Sacamos el promedio agrupando por ID de película\n",
    "df_prom=df_pr['rating_y'].groupby(df_pr['id']).mean()"
   ]
  },
  {
   "cell_type": "code",
   "execution_count": null,
   "metadata": {},
   "outputs": [],
   "source": [
    "#Se exporta como csv\n",
    "\n",
    "df_prom.to_csv('df_prom.csv')\n",
    "\n"
   ]
  },
  {
   "cell_type": "code",
   "execution_count": null,
   "metadata": {},
   "outputs": [],
   "source": [
    "df_prom.head()"
   ]
  },
  {
   "cell_type": "code",
   "execution_count": null,
   "metadata": {},
   "outputs": [],
   "source": [
    "#crear base con promedio de rating obtenida del promedio anterior\n",
    "\n",
    "df_pr= pd.merge(df, df_prom, on='id')\n"
   ]
  },
  {
   "cell_type": "code",
   "execution_count": null,
   "metadata": {},
   "outputs": [],
   "source": [
    "df_pr.to_csv('df_pr.csv')"
   ]
  },
  {
   "cell_type": "code",
   "execution_count": null,
   "metadata": {},
   "outputs": [],
   "source": [
    "df_pr.head()"
   ]
  },
  {
   "cell_type": "code",
   "execution_count": 32,
   "metadata": {},
   "outputs": [],
   "source": [
    "def get_score_count(plataforma:str, scored:int, year:int):\n",
    "    rslt_df = df_pr.loc[(df_pr['release_year'] == year) &\n",
    "              (df_pr['plataforma']==plataforma) & (df_pr['rating_y']> scored)]\n",
    "    b= rslt_df['id'].count()\n",
    "    return(b)"
   ]
  },
  {
   "cell_type": "code",
   "execution_count": null,
   "metadata": {},
   "outputs": [],
   "source": [
    "get_score_count('netflix', 3.0, 2020)"
   ]
  },
  {
   "cell_type": "code",
   "execution_count": null,
   "metadata": {},
   "outputs": [],
   "source": [
    "plataforma= 'hulu'\n",
    "scored= 3.0\n",
    "year= 2020\n",
    "rslt_df = df_plat_r.loc[(df_plat_r['release_year'] == year) &\n",
    "              (df_plat_r['plataforma']==plataforma) & (df_plat_r['rating_y']> scored)].count()\n",
    "print(rslt_df['id'])\n",
    "\n",
    "#a= rslt_df['title'].astype(str).str.split(\"\\\\\").str[0]\n",
    "#resultado= rslt_df['']\n",
    "#f'{a}'\n",
    "#print (rslt_df.columns)\n",
    "#group=rslt_df.groupby('title')['rating_y'].mean()\n",
    "\n",
    "#f'{group}'"
   ]
  },
  {
   "attachments": {},
   "cell_type": "markdown",
   "metadata": {},
   "source": [
    "Cantidad de películas por plataforma con filtro de PLATAFORMA. (La función debe llamarse get_count_platform(platform))"
   ]
  },
  {
   "cell_type": "code",
   "execution_count": null,
   "metadata": {},
   "outputs": [],
   "source": []
  },
  {
   "cell_type": "code",
   "execution_count": null,
   "metadata": {},
   "outputs": [],
   "source": [
    "df_pr= pd.read_csv('app/df_pr.csv')"
   ]
  },
  {
   "cell_type": "code",
   "execution_count": null,
   "metadata": {},
   "outputs": [],
   "source": [
    "\n",
    "def get_count_plataform(plataforma:str):\n",
    "    rslt_df = df_pr.loc[(df_pr['plataforma']==plataforma)]\n",
    "    c= rslt_df['id'].count()\n",
    "    return(c)\n"
   ]
  },
  {
   "cell_type": "code",
   "execution_count": null,
   "metadata": {},
   "outputs": [],
   "source": [
    "get_count_plataform('netflix')"
   ]
  },
  {
   "attachments": {},
   "cell_type": "markdown",
   "metadata": {},
   "source": [
    "Actor que más se repite según plataforma y año. (La función debe llamarse get_actor(platform, year))"
   ]
  },
  {
   "cell_type": "code",
   "execution_count": 43,
   "metadata": {},
   "outputs": [
    {
     "data": {
      "text/html": [
       "<div>\n",
       "<style scoped>\n",
       "    .dataframe tbody tr th:only-of-type {\n",
       "        vertical-align: middle;\n",
       "    }\n",
       "\n",
       "    .dataframe tbody tr th {\n",
       "        vertical-align: top;\n",
       "    }\n",
       "\n",
       "    .dataframe thead th {\n",
       "        text-align: right;\n",
       "    }\n",
       "</style>\n",
       "<table border=\"1\" class=\"dataframe\">\n",
       "  <thead>\n",
       "    <tr style=\"text-align: right;\">\n",
       "      <th></th>\n",
       "      <th>Unnamed: 0</th>\n",
       "      <th>id</th>\n",
       "      <th>show_id</th>\n",
       "      <th>type</th>\n",
       "      <th>title</th>\n",
       "      <th>director</th>\n",
       "      <th>cast</th>\n",
       "      <th>country</th>\n",
       "      <th>date_added</th>\n",
       "      <th>release_year</th>\n",
       "      <th>rating</th>\n",
       "      <th>listed_in</th>\n",
       "      <th>description</th>\n",
       "      <th>plataforma</th>\n",
       "      <th>duration_int</th>\n",
       "      <th>duration_type</th>\n",
       "      <th>rating_y</th>\n",
       "    </tr>\n",
       "  </thead>\n",
       "  <tbody>\n",
       "    <tr>\n",
       "      <th>0</th>\n",
       "      <td>0</td>\n",
       "      <td>ns1</td>\n",
       "      <td>s1</td>\n",
       "      <td>movie</td>\n",
       "      <td>dick johnson is dead</td>\n",
       "      <td>kirsten johnson</td>\n",
       "      <td>NaN</td>\n",
       "      <td>united states</td>\n",
       "      <td>2021-09-25</td>\n",
       "      <td>2020</td>\n",
       "      <td>pg-13</td>\n",
       "      <td>documentaries</td>\n",
       "      <td>as her father nears the end of his life, filmm...</td>\n",
       "      <td>netflix</td>\n",
       "      <td>90.0</td>\n",
       "      <td>min</td>\n",
       "      <td>3.611111</td>\n",
       "    </tr>\n",
       "    <tr>\n",
       "      <th>1</th>\n",
       "      <td>1</td>\n",
       "      <td>ns2</td>\n",
       "      <td>s2</td>\n",
       "      <td>tv show</td>\n",
       "      <td>blood &amp; water</td>\n",
       "      <td>NaN</td>\n",
       "      <td>ama qamata, khosi ngema, gail mabalane, thaban...</td>\n",
       "      <td>south africa</td>\n",
       "      <td>2021-09-24</td>\n",
       "      <td>2021</td>\n",
       "      <td>tv-ma</td>\n",
       "      <td>international tv shows, tv dramas, tv mysteries</td>\n",
       "      <td>after crossing paths at a party, a cape town t...</td>\n",
       "      <td>netflix</td>\n",
       "      <td>2.0</td>\n",
       "      <td>season</td>\n",
       "      <td>3.552632</td>\n",
       "    </tr>\n",
       "    <tr>\n",
       "      <th>2</th>\n",
       "      <td>2</td>\n",
       "      <td>ns3</td>\n",
       "      <td>s3</td>\n",
       "      <td>tv show</td>\n",
       "      <td>ganglands</td>\n",
       "      <td>julien leclercq</td>\n",
       "      <td>sami bouajila, tracy gotoas, samuel jouy, nabi...</td>\n",
       "      <td>NaN</td>\n",
       "      <td>2021-09-24</td>\n",
       "      <td>2021</td>\n",
       "      <td>tv-ma</td>\n",
       "      <td>crime tv shows, international tv shows, tv act...</td>\n",
       "      <td>to protect his family from a powerful drug lor...</td>\n",
       "      <td>netflix</td>\n",
       "      <td>1.0</td>\n",
       "      <td>season</td>\n",
       "      <td>3.597938</td>\n",
       "    </tr>\n",
       "    <tr>\n",
       "      <th>3</th>\n",
       "      <td>3</td>\n",
       "      <td>ns4</td>\n",
       "      <td>s4</td>\n",
       "      <td>tv show</td>\n",
       "      <td>jailbirds new orleans</td>\n",
       "      <td>NaN</td>\n",
       "      <td>NaN</td>\n",
       "      <td>NaN</td>\n",
       "      <td>2021-09-24</td>\n",
       "      <td>2021</td>\n",
       "      <td>tv-ma</td>\n",
       "      <td>docuseries, reality tv</td>\n",
       "      <td>feuds, flirtations and toilet talk go down amo...</td>\n",
       "      <td>netflix</td>\n",
       "      <td>1.0</td>\n",
       "      <td>season</td>\n",
       "      <td>3.561616</td>\n",
       "    </tr>\n",
       "    <tr>\n",
       "      <th>4</th>\n",
       "      <td>4</td>\n",
       "      <td>ns5</td>\n",
       "      <td>s5</td>\n",
       "      <td>tv show</td>\n",
       "      <td>kota factory</td>\n",
       "      <td>NaN</td>\n",
       "      <td>mayur more, jitendra kumar, ranjan raj, alam k...</td>\n",
       "      <td>india</td>\n",
       "      <td>2021-09-24</td>\n",
       "      <td>2021</td>\n",
       "      <td>tv-ma</td>\n",
       "      <td>international tv shows, romantic tv shows, tv ...</td>\n",
       "      <td>in a city of coaching centers known to train i...</td>\n",
       "      <td>netflix</td>\n",
       "      <td>2.0</td>\n",
       "      <td>season</td>\n",
       "      <td>3.593023</td>\n",
       "    </tr>\n",
       "  </tbody>\n",
       "</table>\n",
       "</div>"
      ],
      "text/plain": [
       "   Unnamed: 0   id show_id     type                  title         director  \\\n",
       "0           0  ns1      s1    movie   dick johnson is dead  kirsten johnson   \n",
       "1           1  ns2      s2  tv show          blood & water              NaN   \n",
       "2           2  ns3      s3  tv show              ganglands  julien leclercq   \n",
       "3           3  ns4      s4  tv show  jailbirds new orleans              NaN   \n",
       "4           4  ns5      s5  tv show           kota factory              NaN   \n",
       "\n",
       "                                                cast        country  \\\n",
       "0                                                NaN  united states   \n",
       "1  ama qamata, khosi ngema, gail mabalane, thaban...   south africa   \n",
       "2  sami bouajila, tracy gotoas, samuel jouy, nabi...            NaN   \n",
       "3                                                NaN            NaN   \n",
       "4  mayur more, jitendra kumar, ranjan raj, alam k...          india   \n",
       "\n",
       "   date_added  release_year rating  \\\n",
       "0  2021-09-25          2020  pg-13   \n",
       "1  2021-09-24          2021  tv-ma   \n",
       "2  2021-09-24          2021  tv-ma   \n",
       "3  2021-09-24          2021  tv-ma   \n",
       "4  2021-09-24          2021  tv-ma   \n",
       "\n",
       "                                           listed_in  \\\n",
       "0                                      documentaries   \n",
       "1    international tv shows, tv dramas, tv mysteries   \n",
       "2  crime tv shows, international tv shows, tv act...   \n",
       "3                             docuseries, reality tv   \n",
       "4  international tv shows, romantic tv shows, tv ...   \n",
       "\n",
       "                                         description plataforma  duration_int  \\\n",
       "0  as her father nears the end of his life, filmm...    netflix          90.0   \n",
       "1  after crossing paths at a party, a cape town t...    netflix           2.0   \n",
       "2  to protect his family from a powerful drug lor...    netflix           1.0   \n",
       "3  feuds, flirtations and toilet talk go down amo...    netflix           1.0   \n",
       "4  in a city of coaching centers known to train i...    netflix           2.0   \n",
       "\n",
       "  duration_type  rating_y  \n",
       "0           min  3.611111  \n",
       "1        season  3.552632  \n",
       "2        season  3.597938  \n",
       "3        season  3.561616  \n",
       "4        season  3.593023  "
      ]
     },
     "execution_count": 43,
     "metadata": {},
     "output_type": "execute_result"
    }
   ],
   "source": [
    "df_pr.head()"
   ]
  },
  {
   "cell_type": "code",
   "execution_count": 174,
   "metadata": {},
   "outputs": [
    {
     "data": {
      "text/plain": [
       "Unnamed: 0           0\n",
       "id                   0\n",
       "show_id              0\n",
       "type                 0\n",
       "title                0\n",
       "director          8259\n",
       "cast              5321\n",
       "country          11499\n",
       "date_added        9554\n",
       "release_year         0\n",
       "rating               0\n",
       "listed_in            0\n",
       "description          4\n",
       "plataforma           0\n",
       "duration_int       482\n",
       "duration_type        0\n",
       "rating_y             0\n",
       "dtype: int64"
      ]
     },
     "execution_count": 174,
     "metadata": {},
     "output_type": "execute_result"
    }
   ],
   "source": [
    "df_pr.isnull().sum()"
   ]
  },
  {
   "cell_type": "code",
   "execution_count": 175,
   "metadata": {},
   "outputs": [
    {
     "data": {
      "text/plain": [
       "<bound method Series.unique of 0                                                         \n",
       "1        ama qamata, khosi ngema, gail mabalane, thaban...\n",
       "2        sami bouajila, tracy gotoas, samuel jouy, nabi...\n",
       "3                                                         \n",
       "4        mayur more, jitendra kumar, ranjan raj, alam k...\n",
       "                               ...                        \n",
       "22993                             leo gorcey, bobby jordan\n",
       "22994    dick vosburgh, ronnie stevens, libby morris, m...\n",
       "22995    ray stevenson, julian wadham, richard brake, m...\n",
       "22996    esteban recagno, ezequiel stremiz, luciano vit...\n",
       "22997    michael caine, emily mortimer, joseph gilgun, ...\n",
       "Name: cast, Length: 22998, dtype: object>"
      ]
     },
     "execution_count": 175,
     "metadata": {},
     "output_type": "execute_result"
    }
   ],
   "source": [
    "##Sustitución de NaN por espacios en blaco\n",
    "df_pr['cast'].fillna(' ',inplace= True)\n",
    "df_pr['cast'].unique\n"
   ]
  },
  {
   "cell_type": "code",
   "execution_count": 216,
   "metadata": {},
   "outputs": [],
   "source": [
    "def get_actor(plataforma:str,year:int):\n",
    "    rslt_df = df_pr.loc[(df_pr['release_year'] == year) & (df_pr['plataforma']==plataforma)]\n",
    "    tolist= list(rslt_df['cast'].str.split(', '))\n",
    "    #print(tolist)\n",
    "    lista_completa = []\n",
    "    for lista in tolist:\n",
    "      for elemento in lista:\n",
    "        lista_completa.append(elemento)\n",
    "    #print(lista_completa)\n",
    "    elemento_mas_comun = max(set(lista_completa), key = lista_completa.count)\n",
    "    lista_sinNaN = [elem for elem in lista_completa if elem != elemento_mas_comun]\n",
    "    actor_mas_repetido = max(set(lista_sinNaN), key=lista_sinNaN.count)\n",
    "    #resultado = []\n",
    "    #for lista in tolist:\n",
    "     ##   if isinstance (lista, resultado):\n",
    "       #     resultado.extend(lista)\n",
    "    return actor_mas_repetido"
   ]
  },
  {
   "cell_type": "code",
   "execution_count": 217,
   "metadata": {},
   "outputs": [
    {
     "data": {
      "text/plain": [
       "'blossom chukwujekwu'"
      ]
     },
     "execution_count": 217,
     "metadata": {},
     "output_type": "execute_result"
    }
   ],
   "source": [
    "get_actor('netflix', 2020)"
   ]
  },
  {
   "cell_type": "code",
   "execution_count": 54,
   "metadata": {},
   "outputs": [],
   "source": [
    "from collections import Counter"
   ]
  },
  {
   "cell_type": "code",
   "execution_count": null,
   "metadata": {},
   "outputs": [],
   "source": []
  },
  {
   "cell_type": "code",
   "execution_count": 116,
   "metadata": {},
   "outputs": [],
   "source": [
    "year=2022\n",
    "plataforma='disney'\n",
    "rslt_df = df_pr.loc[(df_pr['release_year'] == year) & (df_pr['plataforma']==plataforma)]\n",
    "actores=[]\n",
    "tolist= rslt_df['cast'].str.split(',')\n",
    "for i in tolist:\n",
    "    if i:\n",
    "        actores.extend(i)\n",
    "    #print(type(i))\n",
    "    d= max(set(actores), key=actores.count)\n",
    "\n",
    "    print (d)"
   ]
  },
  {
   "cell_type": "code",
   "execution_count": 117,
   "metadata": {},
   "outputs": [],
   "source": [
    "\n",
    "df_actores= pd.DataFrame(actores)"
   ]
  },
  {
   "cell_type": "code",
   "execution_count": null,
   "metadata": {},
   "outputs": [],
   "source": [
    "df_actores.value_counts()"
   ]
  },
  {
   "cell_type": "code",
   "execution_count": null,
   "metadata": {},
   "outputs": [],
   "source": [
    "get_actor('netflix',2019)"
   ]
  },
  {
   "cell_type": "code",
   "execution_count": null,
   "metadata": {},
   "outputs": [],
   "source": [
    "len(actores)"
   ]
  },
  {
   "cell_type": "code",
   "execution_count": null,
   "metadata": {},
   "outputs": [],
   "source": [
    "get_actor('netflix',2019)"
   ]
  }
 ],
 "metadata": {
  "kernelspec": {
   "display_name": "base",
   "language": "python",
   "name": "python3"
  },
  "language_info": {
   "codemirror_mode": {
    "name": "ipython",
    "version": 3
   },
   "file_extension": ".py",
   "mimetype": "text/x-python",
   "name": "python",
   "nbconvert_exporter": "python",
   "pygments_lexer": "ipython3",
   "version": "3.9.13"
  },
  "orig_nbformat": 4,
  "vscode": {
   "interpreter": {
    "hash": "424a58b1ff7d3ef1d0e55f78f935fefdf72d425a22e3df8ad97cbfccebd9b7e8"
   }
  }
 },
 "nbformat": 4,
 "nbformat_minor": 2
}
